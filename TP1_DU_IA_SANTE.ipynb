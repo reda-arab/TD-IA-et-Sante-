{
 "cells": [
  {
   "cell_type": "markdown",
   "metadata": {
    "id": "izsqcV2j3vYD",
    "slideshow": {
     "slide_type": "slide"
    }
   },
   "source": [
    "# DU IA EN SANTE - TP 1\n",
    "---\n",
    "---\n",
    "**Alan Balendran** <br> **Etienne Peyrot** <br>**François Grolleau**<br>**Raphaël Porcher**<br> \n",
    "\n",
    "CRESS Inserm UMR-1153<br> \n"
   ]
  },
  {
   "cell_type": "markdown",
   "metadata": {
    "slideshow": {
     "slide_type": "slide"
    }
   },
   "source": [
    "The goals of this practical session is to:\n",
    "- Explain the basis of data exploration in python using a dataset from ICU patients\n",
    "- Explain how to train machine learning algorithms and predict on new data\n",
    "\n",
    "The idea is to show the main ideas and not necessarily to go into detail."
   ]
  },
  {
   "cell_type": "markdown",
   "metadata": {
    "slideshow": {
     "slide_type": "slide"
    }
   },
   "source": [
    "If you have any questions: \n",
    "- Option 1 (9am-5pm): alan.balendran@u-paris.fr \n",
    "- Option 2: (24/7): https://chat.openai.com/ \n",
    "- (New) Option 3 (24/7): https://chat.deepseek.com/"
   ]
  },
  {
   "cell_type": "markdown",
   "metadata": {
    "slideshow": {
     "slide_type": "slide"
    }
   },
   "source": [
    "### What is Python?"
   ]
  },
  {
   "cell_type": "markdown",
   "metadata": {
    "slideshow": {
     "slide_type": "fragment"
    }
   },
   "source": [
    "- Versatile programming language\n",
    "- Easy to read and understand\n",
    "- Comes with a vast collection of libraries like *NumPy*, *Pandas*, and *Scikit-learn*. These libraries simplify complex tasks such as data analysis, scientific computation, data visualization, machine learning, etc."
   ]
  },
  {
   "cell_type": "markdown",
   "metadata": {
    "slideshow": {
     "slide_type": "subslide"
    }
   },
   "source": [
    "### What is a Jupyter Notebook?"
   ]
  },
  {
   "cell_type": "markdown",
   "metadata": {
    "slideshow": {
     "slide_type": "fragment"
    }
   },
   "source": [
    "Interactive, open-source web application that allows you to create and share documents containing code, equations, visualizations, and narrative text.\n",
    "\n",
    "- **Code and Markdown Cells**: Jupyter Notebooks consist of cells that can contain either code or formatted text using Markdown. This makes it easy to combine code and explanations in one document.\n",
    "\n",
    "- **Real-time Execution**: Code cells can be executed in real-time, allowing for an interactive and iterative coding experience. Results and visualizations are displayed right beneath the code cell.\n",
    "\n",
    "- **Rich Visualizations**: Jupyter supports inline plotting with libraries like Matplotlib, allowing you to create and visualize graphs and charts directly within the notebook.\n",
    "\n",
    "- **Shareability**: Notebooks can be easily shared and can be exported to various formats, including HTML, PDF, and slides (like this one!)."
   ]
  },
  {
   "cell_type": "markdown",
   "metadata": {
    "slideshow": {
     "slide_type": "slide"
    }
   },
   "source": [
    "## A really quick introduction to Python"
   ]
  },
  {
   "cell_type": "markdown",
   "metadata": {
    "slideshow": {
     "slide_type": "subslide"
    }
   },
   "source": [
    "In every programming language, data is stored in variables. One of the advantages of Python is that you don't need to specify the type of variable."
   ]
  },
  {
   "cell_type": "code",
   "execution_count": 4,
   "metadata": {
    "slideshow": {
     "slide_type": "fragment"
    }
   },
   "outputs": [],
   "source": [
    "# Variables\n",
    "patient_name = \"Phil Good\" ## String\n",
    "age = 25 ## Integer\n",
    "temperature = 37.5 ## Float\n",
    "first_hospitalization = True ## Boolean"
   ]
  },
  {
   "cell_type": "markdown",
   "metadata": {
    "slideshow": {
     "slide_type": "fragment"
    }
   },
   "source": [
    "How to run a cell in google colab (and in a jupyter notebook):"
   ]
  },
  {
   "cell_type": "markdown",
   "metadata": {
    "slideshow": {
     "slide_type": "subslide"
    }
   },
   "source": [
    "![](https://github.com/AL0UNE/courses/blob/main/figures/run_a_cell.png?raw=true)"
   ]
  },
  {
   "cell_type": "markdown",
   "metadata": {},
   "source": [
    "Alternatively you can select the cell that you want to run then use the shortcut ``ctrl + Enter``"
   ]
  },
  {
   "cell_type": "markdown",
   "metadata": {
    "slideshow": {
     "slide_type": "fragment"
    }
   },
   "source": [
    "You can also print the values stored in each variables."
   ]
  },
  {
   "cell_type": "code",
   "execution_count": 5,
   "metadata": {
    "slideshow": {
     "slide_type": "fragment"
    }
   },
   "outputs": [
    {
     "name": "stdout",
     "output_type": "stream",
     "text": [
      "Patient Name: Phil Good\n",
      "Age: 25\n",
      "Temperature: 37.5\n",
      "First hospitalization: True\n"
     ]
    }
   ],
   "source": [
    "# Printing\n",
    "print(\"Patient Name:\", patient_name)\n",
    "print(\"Age:\", age)\n",
    "print(\"Temperature:\", temperature)\n",
    "print(\"First hospitalization:\", first_hospitalization)"
   ]
  },
  {
   "cell_type": "markdown",
   "metadata": {
    "slideshow": {
     "slide_type": "subslide"
    }
   },
   "source": [
    "Multiple values can also be printed at the same time:"
   ]
  },
  {
   "cell_type": "code",
   "execution_count": 6,
   "metadata": {
    "slideshow": {
     "slide_type": "fragment"
    }
   },
   "outputs": [
    {
     "name": "stdout",
     "output_type": "stream",
     "text": [
      "Phil Good is 25 and has a body temperature of 37.5 °C.\n"
     ]
    }
   ],
   "source": [
    "print(patient_name, 'is', age, 'and has a body temperature of', temperature, '°C.')"
   ]
  },
  {
   "cell_type": "markdown",
   "metadata": {
    "slideshow": {
     "slide_type": "fragment"
    }
   },
   "source": [
    "Some values, such as decimals values can be rounded when printing:"
   ]
  },
  {
   "cell_type": "code",
   "execution_count": 7,
   "metadata": {
    "slideshow": {
     "slide_type": "fragment"
    }
   },
   "outputs": [
    {
     "name": "stdout",
     "output_type": "stream",
     "text": [
      "0.3333333333333333\n",
      "0.33\n"
     ]
    }
   ],
   "source": [
    "print(1/3)\n",
    "print(round(1/3, 2))"
   ]
  },
  {
   "cell_type": "markdown",
   "metadata": {
    "slideshow": {
     "slide_type": "subslide"
    }
   },
   "source": [
    "You can perform basic operations with numerical values:"
   ]
  },
  {
   "cell_type": "code",
   "execution_count": 8,
   "metadata": {
    "slideshow": {
     "slide_type": "fragment"
    }
   },
   "outputs": [
    {
     "name": "stdout",
     "output_type": "stream",
     "text": [
      "BMI: 20.761245674740486\n"
     ]
    }
   ],
   "source": [
    "height = 170\n",
    "weight = 60\n",
    "bmi = weight/((height/100)**2)\n",
    "print('BMI:', bmi)"
   ]
  },
  {
   "cell_type": "markdown",
   "metadata": {
    "slideshow": {
     "slide_type": "skip"
    }
   },
   "source": [
    "<div class=\"alert alert-block alert-info\">\n",
    "<b>Exercise:</b>\n",
    "\n",
    "- Calculate the BMI for a patient with the following characteristics:\n",
    "    - Weight: 132.277 lb \n",
    "    - Height: 66.9291 inches\n",
    "    \n",
    "The formula for BMI is given by: \n",
    "$$\\text{BMI} = \\frac{\\text{weight (kg)}}{(\\text{height (m)})^2}= \\frac{\\text{weight (lb)}}{(\\text{height (in)}^2)} \\times 703$$\n",
    "\n",
    "- Print the results with 2 decimals using only the printing parameters.\n",
    "    \n",
    "</div>"
   ]
  },
  {
   "cell_type": "markdown",
   "metadata": {
    "slideshow": {
     "slide_type": "subslide"
    }
   },
   "source": [
    "- **Lists** are mutable heterogenous data structures.<br>\n",
    "    - An heterogenous data structure can store multiple type of data (e.g., ``bool``,``int``,``float``, ...)<br>\n",
    "    - A data structure is mutable if it can be modified (add, delete or modify an element)"
   ]
  },
  {
   "cell_type": "code",
   "execution_count": 9,
   "metadata": {
    "slideshow": {
     "slide_type": "subslide"
    }
   },
   "outputs": [
    {
     "name": "stdout",
     "output_type": "stream",
     "text": [
      "['fever', 'cough', 'daeth', 'fatigue']\n",
      "[160, 165, 170, 175]\n",
      "['Phil Good', 25, 37.5]\n"
     ]
    }
   ],
   "source": [
    "# Lists\n",
    "\n",
    "symptoms = [\"fever\", \"cough\", \"daeth\", \"fatigue\"]\n",
    "heights = [160, 165, 170, 175]\n",
    "patient_info = [patient_name, age, temperature]\n",
    "\n",
    "print(symptoms)\n",
    "print(heights)\n",
    "print(patient_info)"
   ]
  },
  {
   "cell_type": "code",
   "execution_count": 10,
   "metadata": {
    "slideshow": {
     "slide_type": "fragment"
    }
   },
   "outputs": [
    {
     "name": "stdout",
     "output_type": "stream",
     "text": [
      "First height: 160\n",
      "Last Symptom: fatigue\n"
     ]
    }
   ],
   "source": [
    "# Accessing List Elements\n",
    "print(\"First height:\", heights[0])\n",
    "print(\"Last Symptom:\", symptoms[-1])"
   ]
  },
  {
   "cell_type": "code",
   "execution_count": 11,
   "metadata": {
    "slideshow": {
     "slide_type": "fragment"
    }
   },
   "outputs": [
    {
     "name": "stdout",
     "output_type": "stream",
     "text": [
      "Updated Symptoms: ['fever', 'cough', 'daeth', 'fatigue', 'headache']\n",
      "Updated Symptoms: ['fever', 'cough', 'death', 'fatigue', 'headache']\n",
      "Updated Symptoms: ['fever', 'cough', 'fatigue', 'headache']\n"
     ]
    }
   ],
   "source": [
    "# Adding Elements to a List\n",
    "symptoms.append(\"headache\")\n",
    "print(\"Updated Symptoms:\", symptoms)\n",
    "\n",
    "# Modify Elements of a List\n",
    "symptoms[2] = \"death\"\n",
    "print(\"Updated Symptoms:\", symptoms)\n",
    "\n",
    "# Delete Elements of a List\n",
    "del symptoms[2]\n",
    "print(\"Updated Symptoms:\", symptoms)"
   ]
  },
  {
   "cell_type": "markdown",
   "metadata": {
    "slideshow": {
     "slide_type": "subslide"
    }
   },
   "source": [
    "A **dictionary** in Python is a mutable data structure that stores **key-value pairs**. Compared to a list, dictionary are designed for more efficient retrieval of values based on their associated keys."
   ]
  },
  {
   "cell_type": "code",
   "execution_count": 12,
   "metadata": {
    "slideshow": {
     "slide_type": "fragment"
    }
   },
   "outputs": [
    {
     "name": "stdout",
     "output_type": "stream",
     "text": [
      "{'name': 'Phil Good', 'age': 25, 'temperature': 37.5, 'height': 175}\n"
     ]
    }
   ],
   "source": [
    "patient_info = {\n",
    "    'name': patient_name,\n",
    "    'age': age,\n",
    "    'temperature': temperature\n",
    "}\n",
    "\n",
    "patient_info['height'] = 175\n",
    "\n",
    "print(patient_info)"
   ]
  },
  {
   "cell_type": "markdown",
   "metadata": {
    "slideshow": {
     "slide_type": "subslide"
    }
   },
   "source": [
    "Dictionaries cannot be accessed using integers. Only the key can return the corresponding value."
   ]
  },
  {
   "cell_type": "code",
   "execution_count": 13,
   "metadata": {
    "slideshow": {
     "slide_type": "fragment"
    }
   },
   "outputs": [
    {
     "ename": "KeyError",
     "evalue": "0",
     "output_type": "error",
     "traceback": [
      "\u001b[0;31m---------------------------------------------------------------------------\u001b[0m",
      "\u001b[0;31mKeyError\u001b[0m                                  Traceback (most recent call last)",
      "Cell \u001b[0;32mIn[13], line 1\u001b[0m\n\u001b[0;32m----> 1\u001b[0m \u001b[43mpatient_info\u001b[49m\u001b[43m[\u001b[49m\u001b[38;5;241;43m0\u001b[39;49m\u001b[43m]\u001b[49m\n",
      "\u001b[0;31mKeyError\u001b[0m: 0"
     ]
    }
   ],
   "source": [
    "patient_info[0]"
   ]
  },
  {
   "cell_type": "code",
   "execution_count": 14,
   "metadata": {
    "slideshow": {
     "slide_type": "fragment"
    }
   },
   "outputs": [
    {
     "name": "stdout",
     "output_type": "stream",
     "text": [
      "Phil Good\n",
      "25\n",
      "37.5\n"
     ]
    }
   ],
   "source": [
    "print(patient_info['name'])\n",
    "print(patient_info['age'])\n",
    "print(patient_info['temperature'])"
   ]
  },
  {
   "cell_type": "markdown",
   "metadata": {
    "slideshow": {
     "slide_type": "subslide"
    }
   },
   "source": [
    "**For loop** can be used to iterate over a collection of items (e.g., lists, dictionaries)."
   ]
  },
  {
   "cell_type": "code",
   "execution_count": 15,
   "metadata": {
    "slideshow": {
     "slide_type": "fragment"
    }
   },
   "outputs": [
    {
     "name": "stdout",
     "output_type": "stream",
     "text": [
      "Patient has fever\n",
      "Patient has cough\n",
      "Patient has fatigue\n",
      "Patient has headache\n"
     ]
    }
   ],
   "source": [
    "for symptom in symptoms: ## list\n",
    "    print(\"Patient has\", symptom)"
   ]
  },
  {
   "cell_type": "code",
   "execution_count": 16,
   "metadata": {
    "slideshow": {
     "slide_type": "fragment"
    }
   },
   "outputs": [
    {
     "name": "stdout",
     "output_type": "stream",
     "text": [
      "name : Phil Good\n",
      "age : 25\n",
      "temperature : 37.5\n",
      "height : 175\n"
     ]
    }
   ],
   "source": [
    "for keys, values in patient_info.items(): ## dictionary\n",
    "    print(keys,\":\", values)"
   ]
  },
  {
   "cell_type": "markdown",
   "metadata": {
    "slideshow": {
     "slide_type": "subslide"
    }
   },
   "source": [
    "Operations using lists are limited:"
   ]
  },
  {
   "cell_type": "code",
   "execution_count": 17,
   "metadata": {
    "slideshow": {
     "slide_type": "fragment"
    }
   },
   "outputs": [
    {
     "name": "stdout",
     "output_type": "stream",
     "text": [
      "[160, 165, 170, 175, 70, 75, 80, 85]\n"
     ]
    }
   ],
   "source": [
    "heights = [160, 165, 170, 175]\n",
    "weights = [70, 75, 80, 85]\n",
    "print(heights+weights)"
   ]
  },
  {
   "cell_type": "code",
   "execution_count": 18,
   "metadata": {
    "slideshow": {
     "slide_type": "fragment"
    }
   },
   "outputs": [
    {
     "ename": "TypeError",
     "evalue": "unsupported operand type(s) for /: 'list' and 'list'",
     "output_type": "error",
     "traceback": [
      "\u001b[0;31m---------------------------------------------------------------------------\u001b[0m",
      "\u001b[0;31mTypeError\u001b[0m                                 Traceback (most recent call last)",
      "Cell \u001b[0;32mIn[18], line 1\u001b[0m\n\u001b[0;32m----> 1\u001b[0m \u001b[38;5;28mprint\u001b[39m(\u001b[43mheights\u001b[49m\u001b[38;5;241;43m/\u001b[39;49m\u001b[43mweights\u001b[49m)\n",
      "\u001b[0;31mTypeError\u001b[0m: unsupported operand type(s) for /: 'list' and 'list'"
     ]
    }
   ],
   "source": [
    "print(heights/weights)"
   ]
  },
  {
   "cell_type": "markdown",
   "metadata": {
    "slideshow": {
     "slide_type": "subslide"
    }
   },
   "source": [
    "Numpy arrays are a useful objects for peforming numerical operations with numerical values contained in lists!<br>\n",
    "The library `numpy`contains a homogenous data strucute called **arrays** which is especially useful to do mathematical operations. "
   ]
  },
  {
   "cell_type": "code",
   "execution_count": 19,
   "metadata": {
    "slideshow": {
     "slide_type": "fragment"
    }
   },
   "outputs": [
    {
     "name": "stdout",
     "output_type": "stream",
     "text": [
      "BMI: [27.34375    27.54820937 27.6816609  27.75510204]\n"
     ]
    }
   ],
   "source": [
    "import numpy as np\n",
    "\n",
    "# Creating NumPy Arrays\n",
    "heights = np.array([160, 165, 170, 175])\n",
    "weights = np.array([70, 75, 80, 85])\n",
    "\n",
    "bmi = weights / ((heights / 100) ** 2)\n",
    "print(\"BMI:\", bmi)"
   ]
  },
  {
   "cell_type": "markdown",
   "metadata": {
    "slideshow": {
     "slide_type": "subslide"
    }
   },
   "source": [
    "### Functions"
   ]
  },
  {
   "cell_type": "markdown",
   "metadata": {
    "slideshow": {
     "slide_type": "fragment"
    }
   },
   "source": [
    "In Python, a **function** is a block of reusable code that performs a specific task. It encapsulates a set of instructions that can be called and executed multiple times. A function can take arguments to be used inside the function. <br>Functions help in organizing code, promoting reusability, and improving readability. <br> <br>\n",
    "Let's see an example:"
   ]
  },
  {
   "cell_type": "markdown",
   "metadata": {
    "slideshow": {
     "slide_type": "fragment"
    }
   },
   "source": [
    "Let's say we want to print patient's information except their name:"
   ]
  },
  {
   "cell_type": "code",
   "execution_count": 20,
   "metadata": {
    "slideshow": {
     "slide_type": "fragment"
    }
   },
   "outputs": [],
   "source": [
    "patient_1 = {\n",
    "    'name': \"patient one\",\n",
    "    'age': 26,\n",
    "    'temperature': 37.5\n",
    "}"
   ]
  },
  {
   "cell_type": "code",
   "execution_count": 21,
   "metadata": {
    "slideshow": {
     "slide_type": "fragment"
    }
   },
   "outputs": [
    {
     "name": "stdout",
     "output_type": "stream",
     "text": [
      "age : 26\n",
      "temperature : 37.5\n"
     ]
    }
   ],
   "source": [
    "for key, value in patient_1.items():\n",
    "        # Check if the key is 'name', if no, print the value\n",
    "        if key != \"name\":\n",
    "            # Print the key-value pair\n",
    "            print(key, \":\", value)"
   ]
  },
  {
   "cell_type": "markdown",
   "metadata": {
    "slideshow": {
     "slide_type": "subslide"
    }
   },
   "source": [
    "Then, for a new patient we would have to simply copy-paste the same code and change the patient dictionary:"
   ]
  },
  {
   "cell_type": "code",
   "execution_count": 22,
   "metadata": {
    "slideshow": {
     "slide_type": "fragment"
    }
   },
   "outputs": [],
   "source": [
    "patient_2 = {\n",
    "    'name': \"patient two\",\n",
    "    'age': 42,\n",
    "    'temperature': 37.2\n",
    "}"
   ]
  },
  {
   "cell_type": "code",
   "execution_count": 23,
   "metadata": {
    "slideshow": {
     "slide_type": "fragment"
    }
   },
   "outputs": [
    {
     "name": "stdout",
     "output_type": "stream",
     "text": [
      "age : 42\n",
      "temperature : 37.2\n"
     ]
    }
   ],
   "source": [
    "for key, value in patient_2.items():\n",
    "        # Check if the key is 'name', if no, print the value\n",
    "        if key != \"name\":\n",
    "            # Print the key-value pair\n",
    "            print(key, \":\", value)"
   ]
  },
  {
   "cell_type": "markdown",
   "metadata": {
    "slideshow": {
     "slide_type": "subslide"
    }
   },
   "source": [
    "Instead, we could write a function that takes a dictionary and prints all the information contained in it except the name."
   ]
  },
  {
   "cell_type": "code",
   "execution_count": 24,
   "metadata": {
    "slideshow": {
     "slide_type": "fragment"
    }
   },
   "outputs": [],
   "source": [
    "def print_anonymised_info(patient_dict, anonymised=True):\n",
    "    \"\"\"\n",
    "    Prints information from a dictionary representing patient data except their name\n",
    "\n",
    "    Args:\n",
    "    - patient_dict (dict): A dictionary containing patient information.\n",
    "    - anonymised (boolean): A boolean determining whether or not the name should be printed\n",
    "    Returns:\n",
    "    - None\n",
    "    \"\"\"\n",
    "    for key, value in patient_dict.items():\n",
    "        # Check if the key is 'name' and print_name is False, then skip printing it\n",
    "        if key != \"name\" or not anonymised:\n",
    "            print(key, \":\", value)\n",
    "    print('\\n') # line break"
   ]
  },
  {
   "cell_type": "code",
   "execution_count": 25,
   "metadata": {
    "slideshow": {
     "slide_type": "subslide"
    }
   },
   "outputs": [
    {
     "name": "stdout",
     "output_type": "stream",
     "text": [
      "age : 26\n",
      "temperature : 37.5\n",
      "\n",
      "\n"
     ]
    }
   ],
   "source": [
    "print_anonymised_info(patient_1)"
   ]
  },
  {
   "cell_type": "code",
   "execution_count": 26,
   "metadata": {
    "slideshow": {
     "slide_type": "fragment"
    }
   },
   "outputs": [
    {
     "name": "stdout",
     "output_type": "stream",
     "text": [
      "age : 42\n",
      "temperature : 37.2\n",
      "\n",
      "\n"
     ]
    }
   ],
   "source": [
    "print_anonymised_info(patient_2)"
   ]
  },
  {
   "cell_type": "code",
   "execution_count": 27,
   "metadata": {
    "slideshow": {
     "slide_type": "fragment"
    }
   },
   "outputs": [
    {
     "name": "stdout",
     "output_type": "stream",
     "text": [
      "name : patient two\n",
      "age : 42\n",
      "temperature : 37.2\n",
      "\n",
      "\n"
     ]
    }
   ],
   "source": [
    "print_anonymised_info(patient_2, anonymised=False)"
   ]
  },
  {
   "cell_type": "markdown",
   "metadata": {
    "slideshow": {
     "slide_type": "subslide"
    }
   },
   "source": [
    "### Libraries"
   ]
  },
  {
   "cell_type": "markdown",
   "metadata": {
    "slideshow": {
     "slide_type": "fragment"
    }
   },
   "source": [
    "Python comes with a vast collection of libraries like NumPy, Pandas, and Scikit-learn. These libraries simplify complex tasks such as data analysis, scientific computation, data visualization, machine learning, etc. To use a function implemented in a library we simply need to import it.<br>"
   ]
  },
  {
   "cell_type": "markdown",
   "metadata": {
    "slideshow": {
     "slide_type": "fragment"
    }
   },
   "source": [
    "Let's try to import the function in the numpy library that generates random values from a normal distribution.<br> The function is implemented in the `numpy` library."
   ]
  },
  {
   "cell_type": "code",
   "execution_count": 28,
   "metadata": {
    "slideshow": {
     "slide_type": "fragment"
    }
   },
   "outputs": [
    {
     "data": {
      "text/plain": [
       "array([-2.63175003,  0.41952555, -1.05240761,  0.0737236 , -0.91525636,\n",
       "       -0.26993943, -1.84324528,  2.07101262,  0.29367324,  0.373379  ])"
      ]
     },
     "execution_count": 28,
     "metadata": {},
     "output_type": "execute_result"
    }
   ],
   "source": [
    "import numpy as np \n",
    "\n",
    "np.random.randn(10)"
   ]
  },
  {
   "cell_type": "markdown",
   "metadata": {
    "slideshow": {
     "slide_type": "subslide"
    }
   },
   "source": [
    "Let's now move on to our real dataset!"
   ]
  },
  {
   "cell_type": "markdown",
   "metadata": {
    "slideshow": {
     "slide_type": "slide"
    }
   },
   "source": [
    "First, let's load our datasets (`icu_training.csv` and `icu_testing.csv`) in our environment:"
   ]
  },
  {
   "cell_type": "markdown",
   "metadata": {
    "slideshow": {
     "slide_type": "fragment"
    }
   },
   "source": [
    "![](https://github.com/AL0UNE/courses/blob/main/figures/colab_1.png?raw=true)"
   ]
  },
  {
   "cell_type": "markdown",
   "metadata": {
    "slideshow": {
     "slide_type": "subslide"
    }
   },
   "source": [
    "![](https://github.com/AL0UNE/courses/blob/main/figures/colab_2.png?raw=true)"
   ]
  },
  {
   "cell_type": "markdown",
   "metadata": {
    "scrolled": true,
    "slideshow": {
     "slide_type": "subslide"
    }
   },
   "source": [
    "![](https://github.com/AL0UNE/courses/blob/main/figures/colab_3.png?raw=true)"
   ]
  },
  {
   "cell_type": "markdown",
   "metadata": {
    "slideshow": {
     "slide_type": "slide"
    }
   },
   "source": [
    "Let's now import common python libraries."
   ]
  },
  {
   "cell_type": "code",
   "execution_count": 1,
   "metadata": {
    "slideshow": {
     "slide_type": "fragment"
    }
   },
   "outputs": [],
   "source": [
    "import numpy as np ## for numerical operations\n",
    "import pandas as pd ## for data analysis and manipulation\n",
    "import matplotlib.pyplot as plt ## for visualization (basic)\n",
    "import seaborn as sns ## for visualization (advanced)"
   ]
  },
  {
   "cell_type": "markdown",
   "metadata": {
    "slideshow": {
     "slide_type": "subslide"
    }
   },
   "source": [
    "Let's start by loading our dataset. "
   ]
  },
  {
   "cell_type": "code",
   "execution_count": 2,
   "metadata": {
    "id": "hm7_YGgm3vYW",
    "slideshow": {
     "slide_type": "fragment"
    }
   },
   "outputs": [],
   "source": [
    "df = pd.read_csv('icu_training.csv', index_col=0)"
   ]
  },
  {
   "cell_type": "markdown",
   "metadata": {
    "slideshow": {
     "slide_type": "fragment"
    }
   },
   "source": [
    "![](https://github.com/AL0UNE/courses/blob/main/figures/initial_data.png?raw=true)"
   ]
  },
  {
   "cell_type": "markdown",
   "metadata": {
    "slideshow": {
     "slide_type": "fragment"
    }
   },
   "source": [
    "- This dataset is a synthetic subset of the [MIMIC-III](https://mimic.mit.edu/) dataset.\n",
    "- It contains clinical data of patients admitted to the ICU.\n",
    "- Our goal is to predict for each patient the risk of hospital mortality."
   ]
  },
  {
   "cell_type": "markdown",
   "metadata": {
    "slideshow": {
     "slide_type": "subslide"
    }
   },
   "source": [
    "A good reflex to have is to print the first lines of the dataframe."
   ]
  },
  {
   "cell_type": "code",
   "execution_count": 3,
   "metadata": {
    "slideshow": {
     "slide_type": "fragment"
    }
   },
   "outputs": [
    {
     "data": {
      "text/html": [
       "<div>\n",
       "<style scoped>\n",
       "    .dataframe tbody tr th:only-of-type {\n",
       "        vertical-align: middle;\n",
       "    }\n",
       "\n",
       "    .dataframe tbody tr th {\n",
       "        vertical-align: top;\n",
       "    }\n",
       "\n",
       "    .dataframe thead th {\n",
       "        text-align: right;\n",
       "    }\n",
       "</style>\n",
       "<table border=\"1\" class=\"dataframe\">\n",
       "  <thead>\n",
       "    <tr style=\"text-align: right;\">\n",
       "      <th></th>\n",
       "      <th>subject_id</th>\n",
       "      <th>hadm_id</th>\n",
       "      <th>age_score</th>\n",
       "      <th>hr_score</th>\n",
       "      <th>sysbp_score</th>\n",
       "      <th>temp_score</th>\n",
       "      <th>pao2fio2_score</th>\n",
       "      <th>uo_score</th>\n",
       "      <th>bun_score</th>\n",
       "      <th>wbc_score</th>\n",
       "      <th>...</th>\n",
       "      <th>age</th>\n",
       "      <th>CURR_CAREUNIT_transfers</th>\n",
       "      <th>weight</th>\n",
       "      <th>bun_min</th>\n",
       "      <th>hemoglobin_max</th>\n",
       "      <th>height</th>\n",
       "      <th>lactate_max</th>\n",
       "      <th>creatinine_max</th>\n",
       "      <th>ptt_max</th>\n",
       "      <th>first_icu_stay</th>\n",
       "    </tr>\n",
       "  </thead>\n",
       "  <tbody>\n",
       "    <tr>\n",
       "      <th>6967</th>\n",
       "      <td>57091</td>\n",
       "      <td>165797</td>\n",
       "      <td>7</td>\n",
       "      <td>2</td>\n",
       "      <td>0</td>\n",
       "      <td>0</td>\n",
       "      <td>0</td>\n",
       "      <td>0</td>\n",
       "      <td>0</td>\n",
       "      <td>0</td>\n",
       "      <td>...</td>\n",
       "      <td>54.1641</td>\n",
       "      <td>MICU</td>\n",
       "      <td>64.0</td>\n",
       "      <td>11</td>\n",
       "      <td>13.6</td>\n",
       "      <td>170.00</td>\n",
       "      <td>1.6</td>\n",
       "      <td>1.0</td>\n",
       "      <td>29.2</td>\n",
       "      <td>True</td>\n",
       "    </tr>\n",
       "    <tr>\n",
       "      <th>3508</th>\n",
       "      <td>30243</td>\n",
       "      <td>167903</td>\n",
       "      <td>0</td>\n",
       "      <td>2</td>\n",
       "      <td>0</td>\n",
       "      <td>0</td>\n",
       "      <td>0</td>\n",
       "      <td>4</td>\n",
       "      <td>0</td>\n",
       "      <td>0</td>\n",
       "      <td>...</td>\n",
       "      <td>38.2289</td>\n",
       "      <td>MICU</td>\n",
       "      <td>71.3</td>\n",
       "      <td>9</td>\n",
       "      <td>14.0</td>\n",
       "      <td>173.00</td>\n",
       "      <td>1.9</td>\n",
       "      <td>0.9</td>\n",
       "      <td>24.7</td>\n",
       "      <td>True</td>\n",
       "    </tr>\n",
       "    <tr>\n",
       "      <th>44</th>\n",
       "      <td>29138</td>\n",
       "      <td>173662</td>\n",
       "      <td>12</td>\n",
       "      <td>2</td>\n",
       "      <td>5</td>\n",
       "      <td>0</td>\n",
       "      <td>0</td>\n",
       "      <td>0</td>\n",
       "      <td>0</td>\n",
       "      <td>0</td>\n",
       "      <td>...</td>\n",
       "      <td>69.4112</td>\n",
       "      <td>MICU</td>\n",
       "      <td>67.5</td>\n",
       "      <td>19</td>\n",
       "      <td>12.2</td>\n",
       "      <td>167.64</td>\n",
       "      <td>1.3</td>\n",
       "      <td>0.6</td>\n",
       "      <td>31.9</td>\n",
       "      <td>True</td>\n",
       "    </tr>\n",
       "    <tr>\n",
       "      <th>4073</th>\n",
       "      <td>13033</td>\n",
       "      <td>139630</td>\n",
       "      <td>0</td>\n",
       "      <td>0</td>\n",
       "      <td>5</td>\n",
       "      <td>0</td>\n",
       "      <td>0</td>\n",
       "      <td>4</td>\n",
       "      <td>6</td>\n",
       "      <td>0</td>\n",
       "      <td>...</td>\n",
       "      <td>38.1356</td>\n",
       "      <td>MICU</td>\n",
       "      <td>71.9</td>\n",
       "      <td>41</td>\n",
       "      <td>11.5</td>\n",
       "      <td>170.18</td>\n",
       "      <td>4.4</td>\n",
       "      <td>10.1</td>\n",
       "      <td>78.6</td>\n",
       "      <td>True</td>\n",
       "    </tr>\n",
       "    <tr>\n",
       "      <th>6571</th>\n",
       "      <td>54587</td>\n",
       "      <td>102683</td>\n",
       "      <td>7</td>\n",
       "      <td>2</td>\n",
       "      <td>5</td>\n",
       "      <td>0</td>\n",
       "      <td>0</td>\n",
       "      <td>0</td>\n",
       "      <td>0</td>\n",
       "      <td>0</td>\n",
       "      <td>...</td>\n",
       "      <td>51.4967</td>\n",
       "      <td>SICU</td>\n",
       "      <td>101.8</td>\n",
       "      <td>20</td>\n",
       "      <td>14.8</td>\n",
       "      <td>165.10</td>\n",
       "      <td>11.3</td>\n",
       "      <td>0.8</td>\n",
       "      <td>26.0</td>\n",
       "      <td>True</td>\n",
       "    </tr>\n",
       "  </tbody>\n",
       "</table>\n",
       "<p>5 rows × 29 columns</p>\n",
       "</div>"
      ],
      "text/plain": [
       "      subject_id  hadm_id  age_score  hr_score  sysbp_score  temp_score  \\\n",
       "6967       57091   165797          7         2            0           0   \n",
       "3508       30243   167903          0         2            0           0   \n",
       "44         29138   173662         12         2            5           0   \n",
       "4073       13033   139630          0         0            5           0   \n",
       "6571       54587   102683          7         2            5           0   \n",
       "\n",
       "      pao2fio2_score  uo_score  bun_score  wbc_score  ...      age  \\\n",
       "6967               0         0          0          0  ...  54.1641   \n",
       "3508               0         4          0          0  ...  38.2289   \n",
       "44                 0         0          0          0  ...  69.4112   \n",
       "4073               0         4          6          0  ...  38.1356   \n",
       "6571               0         0          0          0  ...  51.4967   \n",
       "\n",
       "      CURR_CAREUNIT_transfers  weight  bun_min  hemoglobin_max  height  \\\n",
       "6967                     MICU    64.0       11            13.6  170.00   \n",
       "3508                     MICU    71.3        9            14.0  173.00   \n",
       "44                       MICU    67.5       19            12.2  167.64   \n",
       "4073                     MICU    71.9       41            11.5  170.18   \n",
       "6571                     SICU   101.8       20            14.8  165.10   \n",
       "\n",
       "      lactate_max  creatinine_max ptt_max  first_icu_stay  \n",
       "6967          1.6             1.0    29.2            True  \n",
       "3508          1.9             0.9    24.7            True  \n",
       "44            1.3             0.6    31.9            True  \n",
       "4073          4.4            10.1    78.6            True  \n",
       "6571         11.3             0.8    26.0            True  \n",
       "\n",
       "[5 rows x 29 columns]"
      ]
     },
     "execution_count": 3,
     "metadata": {},
     "output_type": "execute_result"
    }
   ],
   "source": [
    "df.head()"
   ]
  },
  {
   "cell_type": "markdown",
   "metadata": {
    "slideshow": {
     "slide_type": "fragment"
    }
   },
   "source": [
    "We can see that the data has been read correctly."
   ]
  },
  {
   "cell_type": "markdown",
   "metadata": {
    "id": "J3EnqeqW3vYY",
    "slideshow": {
     "slide_type": "subslide"
    }
   },
   "source": [
    "We can print its dimensions using the `.shape` attribute of a pandas dataframe."
   ]
  },
  {
   "cell_type": "code",
   "execution_count": 4,
   "metadata": {
    "id": "oeMAJeV53vYZ",
    "scrolled": true,
    "slideshow": {
     "slide_type": "fragment"
    }
   },
   "outputs": [
    {
     "name": "stdout",
     "output_type": "stream",
     "text": [
      "(5000, 29)\n"
     ]
    }
   ],
   "source": [
    "print(df.shape)"
   ]
  },
  {
   "cell_type": "markdown",
   "metadata": {
    "slideshow": {
     "slide_type": "fragment"
    }
   },
   "source": [
    "Our dataset consists of 5000 rows and 32 columns."
   ]
  },
  {
   "cell_type": "markdown",
   "metadata": {
    "id": "Gbq2Z6S73vYa",
    "slideshow": {
     "slide_type": "fragment"
    }
   },
   "source": [
    "Let's have a look at the different columns of our dataset."
   ]
  },
  {
   "cell_type": "code",
   "execution_count": 5,
   "metadata": {
    "id": "PQcpwN_h3vYb",
    "slideshow": {
     "slide_type": "subslide"
    }
   },
   "outputs": [
    {
     "name": "stdout",
     "output_type": "stream",
     "text": [
      "['subject_id' 'hadm_id' 'age_score' 'hr_score' 'sysbp_score' 'temp_score'\n",
      " 'pao2fio2_score' 'uo_score' 'bun_score' 'wbc_score' 'potassium_score'\n",
      " 'sodium_score' 'bicarbonate_score' 'bilirubin_score' 'gcs_score'\n",
      " 'comorbidity_score' 'admissiontype_score' 'hospital_mortality' 'gender'\n",
      " 'age' 'CURR_CAREUNIT_transfers' 'weight' 'bun_min' 'hemoglobin_max'\n",
      " 'height' 'lactate_max' 'creatinine_max' 'ptt_max' 'first_icu_stay']\n"
     ]
    }
   ],
   "source": [
    "print(df.columns.values)"
   ]
  },
  {
   "cell_type": "markdown",
   "metadata": {
    "slideshow": {
     "slide_type": "subslide"
    }
   },
   "source": [
    "- **Outcome variables** (what we want to predict)<br>\n",
    "    - **hospital_mortality**: Hospital mortality with 1 corresponding to in-hospital death and 0 for discharge alive<br>\n",
    "    \n",
    "    \n",
    "    \n",
    "- **Covariates** (features that can be used to predict the outcome)<br>\n",
    "- *Variables used in the [SAPS II score](https://www.mdcalc.com/calc/4044/simplified-acute-physiology-score-saps-ii#use-cases) assessed by clinicians on admission. High scores correspond to greater severity for the patient.*\n",
    "\n",
    "    - **age_score**: score derived from age <br>\n",
    "    - **hr_score**: score derived from heart rate<br>\n",
    "    - **sysbp_score**: score derived from systolic blood pressure<br>\n",
    "    - **temp_score**: score derived from temperature<br>\n",
    "    - **pao2fio2_score**: scored derived from PaO2/FiO2 Fraction of inspired oxygen<br>\n",
    "    - **uo_score**: scored derived from urine output<br>\n",
    "    - **bun_score**: score derived from urea nitrogen present in the blood<br>\n",
    "    - **wbc_score**: score derived from leucocytes (white blood cells) values<br>\n",
    "    - **potassium_score**: score derived from potassium values<br>\n",
    "    - **sodium_score**: score derived from sodium values<br>\n",
    "    - **bicarbonate_score**: score derived from bicarbonate values<br>\n",
    "    - **bilirubin_score**: score derived from bilirubin values<br>\n",
    "    - **gcs_score**: Glasgow score<br>\n",
    "    - **comorbidity_score**: score derived from chronic disease<br>\n",
    "    - **admissiontype_score**: admission type<br>    \n",
    "    \n",
    "\n",
    "- *Demographic and laboratory tests*\n",
    "    - **subject_id** patient id\n",
    "    - **age** <br>\n",
    "    - **gender** (F/M) <br>\n",
    "    - **weight** (kg) <br>\n",
    "    - **height** (cm) <br>\n",
    "    - **first_icu_stay**: first stay in icu <br>\n",
    "    - **CURR_CAREUNIT_transfers**: current care unit: MICU for medical intensive care unit and SICU for surgical intensive care unit <br>\n",
    "    - **bun_min**: maximum urea (mM) in the first 24 hours <br>\n",
    "    - **hemoglobin_max**: maximum hemoglobin (g/dl) in the first 24 hours <br>\n",
    "    - **lactate_max**: maximum lactate (mM) in the first 24 hours <br>\n",
    "    - **creatinine_max**: maximum creatinine (mg/dl) in the first 24 hours <br>\n",
    "    - **ptt_max**: maximum partial thromboplastin time in the first 24 hours <br>"
   ]
  },
  {
   "cell_type": "markdown",
   "metadata": {
    "slideshow": {
     "slide_type": "subslide"
    }
   },
   "source": [
    "You can access a specific column in a DataFrame by using square brackets and specifying the column name, like this: `df['column name']`."
   ]
  },
  {
   "cell_type": "code",
   "execution_count": 6,
   "metadata": {
    "slideshow": {
     "slide_type": "fragment"
    }
   },
   "outputs": [
    {
     "data": {
      "text/plain": [
       "6967     1.6\n",
       "3508     1.9\n",
       "44       1.3\n",
       "4073     4.4\n",
       "6571    11.3\n",
       "        ... \n",
       "4089     1.1\n",
       "7094     1.8\n",
       "2882     2.1\n",
       "747      1.7\n",
       "7293     2.1\n",
       "Name: lactate_max, Length: 5000, dtype: float64"
      ]
     },
     "execution_count": 6,
     "metadata": {},
     "output_type": "execute_result"
    }
   ],
   "source": [
    "df['lactate_max']"
   ]
  },
  {
   "cell_type": "markdown",
   "metadata": {},
   "source": [
    "You can also access multiple columns in a DataFrame by using a list of column name."
   ]
  },
  {
   "cell_type": "code",
   "execution_count": 7,
   "metadata": {
    "slideshow": {
     "slide_type": "subslide"
    }
   },
   "outputs": [
    {
     "data": {
      "text/html": [
       "<div>\n",
       "<style scoped>\n",
       "    .dataframe tbody tr th:only-of-type {\n",
       "        vertical-align: middle;\n",
       "    }\n",
       "\n",
       "    .dataframe tbody tr th {\n",
       "        vertical-align: top;\n",
       "    }\n",
       "\n",
       "    .dataframe thead th {\n",
       "        text-align: right;\n",
       "    }\n",
       "</style>\n",
       "<table border=\"1\" class=\"dataframe\">\n",
       "  <thead>\n",
       "    <tr style=\"text-align: right;\">\n",
       "      <th></th>\n",
       "      <th>lactate_max</th>\n",
       "      <th>hospital_mortality</th>\n",
       "    </tr>\n",
       "  </thead>\n",
       "  <tbody>\n",
       "    <tr>\n",
       "      <th>6967</th>\n",
       "      <td>1.6</td>\n",
       "      <td>0</td>\n",
       "    </tr>\n",
       "    <tr>\n",
       "      <th>3508</th>\n",
       "      <td>1.9</td>\n",
       "      <td>0</td>\n",
       "    </tr>\n",
       "    <tr>\n",
       "      <th>44</th>\n",
       "      <td>1.3</td>\n",
       "      <td>0</td>\n",
       "    </tr>\n",
       "    <tr>\n",
       "      <th>4073</th>\n",
       "      <td>4.4</td>\n",
       "      <td>0</td>\n",
       "    </tr>\n",
       "    <tr>\n",
       "      <th>6571</th>\n",
       "      <td>11.3</td>\n",
       "      <td>0</td>\n",
       "    </tr>\n",
       "    <tr>\n",
       "      <th>...</th>\n",
       "      <td>...</td>\n",
       "      <td>...</td>\n",
       "    </tr>\n",
       "    <tr>\n",
       "      <th>4089</th>\n",
       "      <td>1.1</td>\n",
       "      <td>0</td>\n",
       "    </tr>\n",
       "    <tr>\n",
       "      <th>7094</th>\n",
       "      <td>1.8</td>\n",
       "      <td>0</td>\n",
       "    </tr>\n",
       "    <tr>\n",
       "      <th>2882</th>\n",
       "      <td>2.1</td>\n",
       "      <td>0</td>\n",
       "    </tr>\n",
       "    <tr>\n",
       "      <th>747</th>\n",
       "      <td>1.7</td>\n",
       "      <td>0</td>\n",
       "    </tr>\n",
       "    <tr>\n",
       "      <th>7293</th>\n",
       "      <td>2.1</td>\n",
       "      <td>0</td>\n",
       "    </tr>\n",
       "  </tbody>\n",
       "</table>\n",
       "<p>5000 rows × 2 columns</p>\n",
       "</div>"
      ],
      "text/plain": [
       "      lactate_max  hospital_mortality\n",
       "6967          1.6                   0\n",
       "3508          1.9                   0\n",
       "44            1.3                   0\n",
       "4073          4.4                   0\n",
       "6571         11.3                   0\n",
       "...           ...                 ...\n",
       "4089          1.1                   0\n",
       "7094          1.8                   0\n",
       "2882          2.1                   0\n",
       "747           1.7                   0\n",
       "7293          2.1                   0\n",
       "\n",
       "[5000 rows x 2 columns]"
      ]
     },
     "execution_count": 7,
     "metadata": {},
     "output_type": "execute_result"
    }
   ],
   "source": [
    "df[['lactate_max', 'hospital_mortality']]"
   ]
  },
  {
   "cell_type": "markdown",
   "metadata": {
    "slideshow": {
     "slide_type": "skip"
    }
   },
   "source": [
    "<div class=\"alert alert-block alert-info\">\n",
    "<b>Exercise:</b>\n",
    "\n",
    "- Find and print the corresponding columns for each of the following variables in the DataFrame:\n",
    "    - *Heart rate score*\n",
    "    - *Age*\n",
    "    - *Gender*\n",
    "    - *First stay in the ICU*\n",
    "\n",
    "- Describe the characteristics of each variable based on their column values.\n",
    "\n",
    "</div>"
   ]
  },
  {
   "cell_type": "code",
   "execution_count": null,
   "metadata": {
    "slideshow": {
     "slide_type": "skip"
    }
   },
   "outputs": [],
   "source": []
  },
  {
   "cell_type": "markdown",
   "metadata": {
    "slideshow": {
     "slide_type": "subslide"
    }
   },
   "source": [
    "Basic statistics, such as the *mean, minimum*, and *maximum*, can be calculated in pandas using the appropriate methods."
   ]
  },
  {
   "cell_type": "markdown",
   "metadata": {
    "slideshow": {
     "slide_type": "fragment"
    }
   },
   "source": [
    "For instance: `df['age'].min()` will return the minimum age of the dataset whereas `df['age'].max()` will return the maximum."
   ]
  },
  {
   "cell_type": "code",
   "execution_count": 8,
   "metadata": {
    "slideshow": {
     "slide_type": "fragment"
    }
   },
   "outputs": [
    {
     "name": "stdout",
     "output_type": "stream",
     "text": [
      "The youngest patient in our dataset is  17.3336  years old.\n"
     ]
    }
   ],
   "source": [
    "print(\"The youngest patient in our dataset is \", df['age'].min(), \" years old.\")"
   ]
  },
  {
   "cell_type": "code",
   "execution_count": 9,
   "metadata": {
    "slideshow": {
     "slide_type": "fragment"
    }
   },
   "outputs": [
    {
     "name": "stdout",
     "output_type": "stream",
     "text": [
      "The oldest patient in our dataset is  88.9791  years old.\n"
     ]
    }
   ],
   "source": [
    "print(\"The oldest patient in our dataset is \", df['age'].max(), \" years old.\")"
   ]
  },
  {
   "cell_type": "markdown",
   "metadata": {
    "slideshow": {
     "slide_type": "skip"
    }
   },
   "source": [
    "<div class=\"alert alert-block alert-info\">\n",
    "<b>Exercise:</b>\n",
    "    \n",
    "- Find the highest and lowest values of the variable *hemoglobin_max* in the dataset.\n",
    "- Calculate the average height in the dataset.\n",
    "- Calculate the median lactate value in the dataset.\n",
    "</div>"
   ]
  },
  {
   "cell_type": "code",
   "execution_count": null,
   "metadata": {
    "slideshow": {
     "slide_type": "skip"
    }
   },
   "outputs": [],
   "source": []
  },
  {
   "cell_type": "code",
   "execution_count": null,
   "metadata": {
    "slideshow": {
     "slide_type": "skip"
    }
   },
   "outputs": [],
   "source": []
  },
  {
   "cell_type": "code",
   "execution_count": null,
   "metadata": {
    "slideshow": {
     "slide_type": "skip"
    }
   },
   "outputs": [],
   "source": []
  },
  {
   "cell_type": "markdown",
   "metadata": {
    "slideshow": {
     "slide_type": "subslide"
    }
   },
   "source": [
    "You can also create a subset of your dataset by applying filters based on specific conditions.\n",
    "- Using standard comperators `<`, `<=`, `>`, `>=`, `==`, `!=`.\n",
    "- Combine two conditions with **AND** using the `&` operator.\n",
    "- Combine two conditions with **OR** using the `|` operator.\n",
    "\n",
    "A filter is a list boolean (`True`, `False`) of length equal to the number of lines of the dataset the filter is applied to. If the `i`th element of the filter is `True` the `i`th line of the dataset is preserved, if it is `False` the line is discarded."
   ]
  },
  {
   "cell_type": "code",
   "execution_count": 10,
   "metadata": {
    "slideshow": {
     "slide_type": "subslide"
    }
   },
   "outputs": [
    {
     "data": {
      "text/html": [
       "<div>\n",
       "<style scoped>\n",
       "    .dataframe tbody tr th:only-of-type {\n",
       "        vertical-align: middle;\n",
       "    }\n",
       "\n",
       "    .dataframe tbody tr th {\n",
       "        vertical-align: top;\n",
       "    }\n",
       "\n",
       "    .dataframe thead th {\n",
       "        text-align: right;\n",
       "    }\n",
       "</style>\n",
       "<table border=\"1\" class=\"dataframe\">\n",
       "  <thead>\n",
       "    <tr style=\"text-align: right;\">\n",
       "      <th></th>\n",
       "      <th>subject_id</th>\n",
       "      <th>hadm_id</th>\n",
       "      <th>age_score</th>\n",
       "      <th>hr_score</th>\n",
       "      <th>sysbp_score</th>\n",
       "      <th>temp_score</th>\n",
       "      <th>pao2fio2_score</th>\n",
       "      <th>uo_score</th>\n",
       "      <th>bun_score</th>\n",
       "      <th>wbc_score</th>\n",
       "      <th>...</th>\n",
       "      <th>age</th>\n",
       "      <th>CURR_CAREUNIT_transfers</th>\n",
       "      <th>weight</th>\n",
       "      <th>bun_min</th>\n",
       "      <th>hemoglobin_max</th>\n",
       "      <th>height</th>\n",
       "      <th>lactate_max</th>\n",
       "      <th>creatinine_max</th>\n",
       "      <th>ptt_max</th>\n",
       "      <th>first_icu_stay</th>\n",
       "    </tr>\n",
       "  </thead>\n",
       "  <tbody>\n",
       "    <tr>\n",
       "      <th>6967</th>\n",
       "      <td>57091</td>\n",
       "      <td>165797</td>\n",
       "      <td>7</td>\n",
       "      <td>2</td>\n",
       "      <td>0</td>\n",
       "      <td>0</td>\n",
       "      <td>0</td>\n",
       "      <td>0</td>\n",
       "      <td>0</td>\n",
       "      <td>0</td>\n",
       "      <td>...</td>\n",
       "      <td>54.1641</td>\n",
       "      <td>MICU</td>\n",
       "      <td>64.0</td>\n",
       "      <td>11</td>\n",
       "      <td>13.6</td>\n",
       "      <td>170.00</td>\n",
       "      <td>1.6</td>\n",
       "      <td>1.0</td>\n",
       "      <td>29.2</td>\n",
       "      <td>True</td>\n",
       "    </tr>\n",
       "    <tr>\n",
       "      <th>3508</th>\n",
       "      <td>30243</td>\n",
       "      <td>167903</td>\n",
       "      <td>0</td>\n",
       "      <td>2</td>\n",
       "      <td>0</td>\n",
       "      <td>0</td>\n",
       "      <td>0</td>\n",
       "      <td>4</td>\n",
       "      <td>0</td>\n",
       "      <td>0</td>\n",
       "      <td>...</td>\n",
       "      <td>38.2289</td>\n",
       "      <td>MICU</td>\n",
       "      <td>71.3</td>\n",
       "      <td>9</td>\n",
       "      <td>14.0</td>\n",
       "      <td>173.00</td>\n",
       "      <td>1.9</td>\n",
       "      <td>0.9</td>\n",
       "      <td>24.7</td>\n",
       "      <td>True</td>\n",
       "    </tr>\n",
       "    <tr>\n",
       "      <th>44</th>\n",
       "      <td>29138</td>\n",
       "      <td>173662</td>\n",
       "      <td>12</td>\n",
       "      <td>2</td>\n",
       "      <td>5</td>\n",
       "      <td>0</td>\n",
       "      <td>0</td>\n",
       "      <td>0</td>\n",
       "      <td>0</td>\n",
       "      <td>0</td>\n",
       "      <td>...</td>\n",
       "      <td>69.4112</td>\n",
       "      <td>MICU</td>\n",
       "      <td>67.5</td>\n",
       "      <td>19</td>\n",
       "      <td>12.2</td>\n",
       "      <td>167.64</td>\n",
       "      <td>1.3</td>\n",
       "      <td>0.6</td>\n",
       "      <td>31.9</td>\n",
       "      <td>True</td>\n",
       "    </tr>\n",
       "    <tr>\n",
       "      <th>4073</th>\n",
       "      <td>13033</td>\n",
       "      <td>139630</td>\n",
       "      <td>0</td>\n",
       "      <td>0</td>\n",
       "      <td>5</td>\n",
       "      <td>0</td>\n",
       "      <td>0</td>\n",
       "      <td>4</td>\n",
       "      <td>6</td>\n",
       "      <td>0</td>\n",
       "      <td>...</td>\n",
       "      <td>38.1356</td>\n",
       "      <td>MICU</td>\n",
       "      <td>71.9</td>\n",
       "      <td>41</td>\n",
       "      <td>11.5</td>\n",
       "      <td>170.18</td>\n",
       "      <td>4.4</td>\n",
       "      <td>10.1</td>\n",
       "      <td>78.6</td>\n",
       "      <td>True</td>\n",
       "    </tr>\n",
       "    <tr>\n",
       "      <th>6571</th>\n",
       "      <td>54587</td>\n",
       "      <td>102683</td>\n",
       "      <td>7</td>\n",
       "      <td>2</td>\n",
       "      <td>5</td>\n",
       "      <td>0</td>\n",
       "      <td>0</td>\n",
       "      <td>0</td>\n",
       "      <td>0</td>\n",
       "      <td>0</td>\n",
       "      <td>...</td>\n",
       "      <td>51.4967</td>\n",
       "      <td>SICU</td>\n",
       "      <td>101.8</td>\n",
       "      <td>20</td>\n",
       "      <td>14.8</td>\n",
       "      <td>165.10</td>\n",
       "      <td>11.3</td>\n",
       "      <td>0.8</td>\n",
       "      <td>26.0</td>\n",
       "      <td>True</td>\n",
       "    </tr>\n",
       "    <tr>\n",
       "      <th>...</th>\n",
       "      <td>...</td>\n",
       "      <td>...</td>\n",
       "      <td>...</td>\n",
       "      <td>...</td>\n",
       "      <td>...</td>\n",
       "      <td>...</td>\n",
       "      <td>...</td>\n",
       "      <td>...</td>\n",
       "      <td>...</td>\n",
       "      <td>...</td>\n",
       "      <td>...</td>\n",
       "      <td>...</td>\n",
       "      <td>...</td>\n",
       "      <td>...</td>\n",
       "      <td>...</td>\n",
       "      <td>...</td>\n",
       "      <td>...</td>\n",
       "      <td>...</td>\n",
       "      <td>...</td>\n",
       "      <td>...</td>\n",
       "      <td>...</td>\n",
       "    </tr>\n",
       "    <tr>\n",
       "      <th>1788</th>\n",
       "      <td>83751</td>\n",
       "      <td>161819</td>\n",
       "      <td>12</td>\n",
       "      <td>2</td>\n",
       "      <td>5</td>\n",
       "      <td>0</td>\n",
       "      <td>0</td>\n",
       "      <td>11</td>\n",
       "      <td>6</td>\n",
       "      <td>3</td>\n",
       "      <td>...</td>\n",
       "      <td>67.3191</td>\n",
       "      <td>MICU</td>\n",
       "      <td>66.8</td>\n",
       "      <td>53</td>\n",
       "      <td>9.1</td>\n",
       "      <td>175.26</td>\n",
       "      <td>1.9</td>\n",
       "      <td>6.8</td>\n",
       "      <td>83.0</td>\n",
       "      <td>True</td>\n",
       "    </tr>\n",
       "    <tr>\n",
       "      <th>5052</th>\n",
       "      <td>25049</td>\n",
       "      <td>193225</td>\n",
       "      <td>12</td>\n",
       "      <td>2</td>\n",
       "      <td>5</td>\n",
       "      <td>0</td>\n",
       "      <td>0</td>\n",
       "      <td>4</td>\n",
       "      <td>6</td>\n",
       "      <td>0</td>\n",
       "      <td>...</td>\n",
       "      <td>63.8893</td>\n",
       "      <td>MICU</td>\n",
       "      <td>118.0</td>\n",
       "      <td>47</td>\n",
       "      <td>9.3</td>\n",
       "      <td>177.80</td>\n",
       "      <td>1.6</td>\n",
       "      <td>4.0</td>\n",
       "      <td>25.6</td>\n",
       "      <td>True</td>\n",
       "    </tr>\n",
       "    <tr>\n",
       "      <th>6692</th>\n",
       "      <td>14757</td>\n",
       "      <td>192174</td>\n",
       "      <td>18</td>\n",
       "      <td>0</td>\n",
       "      <td>5</td>\n",
       "      <td>0</td>\n",
       "      <td>0</td>\n",
       "      <td>0</td>\n",
       "      <td>6</td>\n",
       "      <td>0</td>\n",
       "      <td>...</td>\n",
       "      <td>84.1143</td>\n",
       "      <td>SICU</td>\n",
       "      <td>68.6</td>\n",
       "      <td>32</td>\n",
       "      <td>10.1</td>\n",
       "      <td>175.26</td>\n",
       "      <td>3.0</td>\n",
       "      <td>1.5</td>\n",
       "      <td>41.3</td>\n",
       "      <td>True</td>\n",
       "    </tr>\n",
       "    <tr>\n",
       "      <th>6441</th>\n",
       "      <td>19059</td>\n",
       "      <td>154958</td>\n",
       "      <td>12</td>\n",
       "      <td>2</td>\n",
       "      <td>5</td>\n",
       "      <td>0</td>\n",
       "      <td>9</td>\n",
       "      <td>0</td>\n",
       "      <td>6</td>\n",
       "      <td>0</td>\n",
       "      <td>...</td>\n",
       "      <td>61.5253</td>\n",
       "      <td>MICU</td>\n",
       "      <td>114.0</td>\n",
       "      <td>37</td>\n",
       "      <td>10.1</td>\n",
       "      <td>154.94</td>\n",
       "      <td>1.3</td>\n",
       "      <td>1.6</td>\n",
       "      <td>32.2</td>\n",
       "      <td>True</td>\n",
       "    </tr>\n",
       "    <tr>\n",
       "      <th>7094</th>\n",
       "      <td>13033</td>\n",
       "      <td>157973</td>\n",
       "      <td>0</td>\n",
       "      <td>0</td>\n",
       "      <td>0</td>\n",
       "      <td>0</td>\n",
       "      <td>0</td>\n",
       "      <td>0</td>\n",
       "      <td>6</td>\n",
       "      <td>0</td>\n",
       "      <td>...</td>\n",
       "      <td>34.6061</td>\n",
       "      <td>MICU</td>\n",
       "      <td>75.3</td>\n",
       "      <td>24</td>\n",
       "      <td>12.0</td>\n",
       "      <td>170.18</td>\n",
       "      <td>1.8</td>\n",
       "      <td>7.4</td>\n",
       "      <td>40.8</td>\n",
       "      <td>True</td>\n",
       "    </tr>\n",
       "  </tbody>\n",
       "</table>\n",
       "<p>4475 rows × 29 columns</p>\n",
       "</div>"
      ],
      "text/plain": [
       "      subject_id  hadm_id  age_score  hr_score  sysbp_score  temp_score  \\\n",
       "6967       57091   165797          7         2            0           0   \n",
       "3508       30243   167903          0         2            0           0   \n",
       "44         29138   173662         12         2            5           0   \n",
       "4073       13033   139630          0         0            5           0   \n",
       "6571       54587   102683          7         2            5           0   \n",
       "...          ...      ...        ...       ...          ...         ...   \n",
       "1788       83751   161819         12         2            5           0   \n",
       "5052       25049   193225         12         2            5           0   \n",
       "6692       14757   192174         18         0            5           0   \n",
       "6441       19059   154958         12         2            5           0   \n",
       "7094       13033   157973          0         0            0           0   \n",
       "\n",
       "      pao2fio2_score  uo_score  bun_score  wbc_score  ...      age  \\\n",
       "6967               0         0          0          0  ...  54.1641   \n",
       "3508               0         4          0          0  ...  38.2289   \n",
       "44                 0         0          0          0  ...  69.4112   \n",
       "4073               0         4          6          0  ...  38.1356   \n",
       "6571               0         0          0          0  ...  51.4967   \n",
       "...              ...       ...        ...        ...  ...      ...   \n",
       "1788               0        11          6          3  ...  67.3191   \n",
       "5052               0         4          6          0  ...  63.8893   \n",
       "6692               0         0          6          0  ...  84.1143   \n",
       "6441               9         0          6          0  ...  61.5253   \n",
       "7094               0         0          6          0  ...  34.6061   \n",
       "\n",
       "      CURR_CAREUNIT_transfers  weight  bun_min  hemoglobin_max  height  \\\n",
       "6967                     MICU    64.0       11            13.6  170.00   \n",
       "3508                     MICU    71.3        9            14.0  173.00   \n",
       "44                       MICU    67.5       19            12.2  167.64   \n",
       "4073                     MICU    71.9       41            11.5  170.18   \n",
       "6571                     SICU   101.8       20            14.8  165.10   \n",
       "...                       ...     ...      ...             ...     ...   \n",
       "1788                     MICU    66.8       53             9.1  175.26   \n",
       "5052                     MICU   118.0       47             9.3  177.80   \n",
       "6692                     SICU    68.6       32            10.1  175.26   \n",
       "6441                     MICU   114.0       37            10.1  154.94   \n",
       "7094                     MICU    75.3       24            12.0  170.18   \n",
       "\n",
       "      lactate_max  creatinine_max ptt_max  first_icu_stay  \n",
       "6967          1.6             1.0    29.2            True  \n",
       "3508          1.9             0.9    24.7            True  \n",
       "44            1.3             0.6    31.9            True  \n",
       "4073          4.4            10.1    78.6            True  \n",
       "6571         11.3             0.8    26.0            True  \n",
       "...           ...             ...     ...             ...  \n",
       "1788          1.9             6.8    83.0            True  \n",
       "5052          1.6             4.0    25.6            True  \n",
       "6692          3.0             1.5    41.3            True  \n",
       "6441          1.3             1.6    32.2            True  \n",
       "7094          1.8             7.4    40.8            True  \n",
       "\n",
       "[4475 rows x 29 columns]"
      ]
     },
     "execution_count": 10,
     "metadata": {},
     "output_type": "execute_result"
    }
   ],
   "source": [
    "## Selecting only patient' first visit in ICU:\n",
    "df[df[\"first_icu_stay\"]==True]"
   ]
  },
  {
   "cell_type": "code",
   "execution_count": 11,
   "metadata": {
    "slideshow": {
     "slide_type": "subslide"
    }
   },
   "outputs": [
    {
     "data": {
      "text/html": [
       "<div>\n",
       "<style scoped>\n",
       "    .dataframe tbody tr th:only-of-type {\n",
       "        vertical-align: middle;\n",
       "    }\n",
       "\n",
       "    .dataframe tbody tr th {\n",
       "        vertical-align: top;\n",
       "    }\n",
       "\n",
       "    .dataframe thead th {\n",
       "        text-align: right;\n",
       "    }\n",
       "</style>\n",
       "<table border=\"1\" class=\"dataframe\">\n",
       "  <thead>\n",
       "    <tr style=\"text-align: right;\">\n",
       "      <th></th>\n",
       "      <th>subject_id</th>\n",
       "      <th>hadm_id</th>\n",
       "      <th>age_score</th>\n",
       "      <th>hr_score</th>\n",
       "      <th>sysbp_score</th>\n",
       "      <th>temp_score</th>\n",
       "      <th>pao2fio2_score</th>\n",
       "      <th>uo_score</th>\n",
       "      <th>bun_score</th>\n",
       "      <th>wbc_score</th>\n",
       "      <th>...</th>\n",
       "      <th>age</th>\n",
       "      <th>CURR_CAREUNIT_transfers</th>\n",
       "      <th>weight</th>\n",
       "      <th>bun_min</th>\n",
       "      <th>hemoglobin_max</th>\n",
       "      <th>height</th>\n",
       "      <th>lactate_max</th>\n",
       "      <th>creatinine_max</th>\n",
       "      <th>ptt_max</th>\n",
       "      <th>first_icu_stay</th>\n",
       "    </tr>\n",
       "  </thead>\n",
       "  <tbody>\n",
       "    <tr>\n",
       "      <th>3508</th>\n",
       "      <td>30243</td>\n",
       "      <td>167903</td>\n",
       "      <td>0</td>\n",
       "      <td>2</td>\n",
       "      <td>0</td>\n",
       "      <td>0</td>\n",
       "      <td>0</td>\n",
       "      <td>4</td>\n",
       "      <td>0</td>\n",
       "      <td>0</td>\n",
       "      <td>...</td>\n",
       "      <td>38.2289</td>\n",
       "      <td>MICU</td>\n",
       "      <td>71.3</td>\n",
       "      <td>9</td>\n",
       "      <td>14.0</td>\n",
       "      <td>173.00</td>\n",
       "      <td>1.9</td>\n",
       "      <td>0.9</td>\n",
       "      <td>24.7</td>\n",
       "      <td>True</td>\n",
       "    </tr>\n",
       "    <tr>\n",
       "      <th>4073</th>\n",
       "      <td>13033</td>\n",
       "      <td>139630</td>\n",
       "      <td>0</td>\n",
       "      <td>0</td>\n",
       "      <td>5</td>\n",
       "      <td>0</td>\n",
       "      <td>0</td>\n",
       "      <td>4</td>\n",
       "      <td>6</td>\n",
       "      <td>0</td>\n",
       "      <td>...</td>\n",
       "      <td>38.1356</td>\n",
       "      <td>MICU</td>\n",
       "      <td>71.9</td>\n",
       "      <td>41</td>\n",
       "      <td>11.5</td>\n",
       "      <td>170.18</td>\n",
       "      <td>4.4</td>\n",
       "      <td>10.1</td>\n",
       "      <td>78.6</td>\n",
       "      <td>True</td>\n",
       "    </tr>\n",
       "    <tr>\n",
       "      <th>1177</th>\n",
       "      <td>14565</td>\n",
       "      <td>133543</td>\n",
       "      <td>0</td>\n",
       "      <td>0</td>\n",
       "      <td>0</td>\n",
       "      <td>0</td>\n",
       "      <td>0</td>\n",
       "      <td>0</td>\n",
       "      <td>0</td>\n",
       "      <td>0</td>\n",
       "      <td>...</td>\n",
       "      <td>29.3881</td>\n",
       "      <td>MICU</td>\n",
       "      <td>51.0</td>\n",
       "      <td>2</td>\n",
       "      <td>14.2</td>\n",
       "      <td>152.40</td>\n",
       "      <td>3.7</td>\n",
       "      <td>0.8</td>\n",
       "      <td>58.0</td>\n",
       "      <td>True</td>\n",
       "    </tr>\n",
       "    <tr>\n",
       "      <th>3545</th>\n",
       "      <td>27362</td>\n",
       "      <td>151053</td>\n",
       "      <td>0</td>\n",
       "      <td>4</td>\n",
       "      <td>0</td>\n",
       "      <td>0</td>\n",
       "      <td>0</td>\n",
       "      <td>0</td>\n",
       "      <td>6</td>\n",
       "      <td>0</td>\n",
       "      <td>...</td>\n",
       "      <td>22.9328</td>\n",
       "      <td>MICU</td>\n",
       "      <td>59.0</td>\n",
       "      <td>16</td>\n",
       "      <td>7.1</td>\n",
       "      <td>155.00</td>\n",
       "      <td>2.2</td>\n",
       "      <td>9.3</td>\n",
       "      <td>27.0</td>\n",
       "      <td>True</td>\n",
       "    </tr>\n",
       "    <tr>\n",
       "      <th>6363</th>\n",
       "      <td>6428</td>\n",
       "      <td>152771</td>\n",
       "      <td>0</td>\n",
       "      <td>4</td>\n",
       "      <td>5</td>\n",
       "      <td>0</td>\n",
       "      <td>0</td>\n",
       "      <td>0</td>\n",
       "      <td>0</td>\n",
       "      <td>0</td>\n",
       "      <td>...</td>\n",
       "      <td>24.4951</td>\n",
       "      <td>MICU</td>\n",
       "      <td>73.1</td>\n",
       "      <td>18</td>\n",
       "      <td>14.4</td>\n",
       "      <td>165.00</td>\n",
       "      <td>1.5</td>\n",
       "      <td>8.5</td>\n",
       "      <td>34.6</td>\n",
       "      <td>True</td>\n",
       "    </tr>\n",
       "    <tr>\n",
       "      <th>...</th>\n",
       "      <td>...</td>\n",
       "      <td>...</td>\n",
       "      <td>...</td>\n",
       "      <td>...</td>\n",
       "      <td>...</td>\n",
       "      <td>...</td>\n",
       "      <td>...</td>\n",
       "      <td>...</td>\n",
       "      <td>...</td>\n",
       "      <td>...</td>\n",
       "      <td>...</td>\n",
       "      <td>...</td>\n",
       "      <td>...</td>\n",
       "      <td>...</td>\n",
       "      <td>...</td>\n",
       "      <td>...</td>\n",
       "      <td>...</td>\n",
       "      <td>...</td>\n",
       "      <td>...</td>\n",
       "      <td>...</td>\n",
       "      <td>...</td>\n",
       "    </tr>\n",
       "    <tr>\n",
       "      <th>3955</th>\n",
       "      <td>109</td>\n",
       "      <td>147469</td>\n",
       "      <td>0</td>\n",
       "      <td>0</td>\n",
       "      <td>2</td>\n",
       "      <td>0</td>\n",
       "      <td>0</td>\n",
       "      <td>4</td>\n",
       "      <td>6</td>\n",
       "      <td>0</td>\n",
       "      <td>...</td>\n",
       "      <td>23.8456</td>\n",
       "      <td>MICU</td>\n",
       "      <td>54.0</td>\n",
       "      <td>45</td>\n",
       "      <td>8.8</td>\n",
       "      <td>152.00</td>\n",
       "      <td>0.7</td>\n",
       "      <td>7.1</td>\n",
       "      <td>47.2</td>\n",
       "      <td>True</td>\n",
       "    </tr>\n",
       "    <tr>\n",
       "      <th>4716</th>\n",
       "      <td>25225</td>\n",
       "      <td>143004</td>\n",
       "      <td>0</td>\n",
       "      <td>4</td>\n",
       "      <td>13</td>\n",
       "      <td>0</td>\n",
       "      <td>0</td>\n",
       "      <td>0</td>\n",
       "      <td>0</td>\n",
       "      <td>0</td>\n",
       "      <td>...</td>\n",
       "      <td>32.8654</td>\n",
       "      <td>MICU</td>\n",
       "      <td>51.8</td>\n",
       "      <td>18</td>\n",
       "      <td>9.1</td>\n",
       "      <td>170.00</td>\n",
       "      <td>1.9</td>\n",
       "      <td>6.8</td>\n",
       "      <td>66.3</td>\n",
       "      <td>False</td>\n",
       "    </tr>\n",
       "    <tr>\n",
       "      <th>7094</th>\n",
       "      <td>13033</td>\n",
       "      <td>157973</td>\n",
       "      <td>0</td>\n",
       "      <td>0</td>\n",
       "      <td>0</td>\n",
       "      <td>0</td>\n",
       "      <td>0</td>\n",
       "      <td>0</td>\n",
       "      <td>6</td>\n",
       "      <td>0</td>\n",
       "      <td>...</td>\n",
       "      <td>34.6061</td>\n",
       "      <td>MICU</td>\n",
       "      <td>75.3</td>\n",
       "      <td>24</td>\n",
       "      <td>12.0</td>\n",
       "      <td>170.18</td>\n",
       "      <td>1.8</td>\n",
       "      <td>7.4</td>\n",
       "      <td>40.8</td>\n",
       "      <td>True</td>\n",
       "    </tr>\n",
       "    <tr>\n",
       "      <th>2882</th>\n",
       "      <td>18996</td>\n",
       "      <td>136635</td>\n",
       "      <td>0</td>\n",
       "      <td>0</td>\n",
       "      <td>5</td>\n",
       "      <td>0</td>\n",
       "      <td>6</td>\n",
       "      <td>11</td>\n",
       "      <td>6</td>\n",
       "      <td>0</td>\n",
       "      <td>...</td>\n",
       "      <td>31.3453</td>\n",
       "      <td>MICU</td>\n",
       "      <td>70.0</td>\n",
       "      <td>35</td>\n",
       "      <td>13.9</td>\n",
       "      <td>182.88</td>\n",
       "      <td>2.1</td>\n",
       "      <td>11.9</td>\n",
       "      <td>36.4</td>\n",
       "      <td>False</td>\n",
       "    </tr>\n",
       "    <tr>\n",
       "      <th>747</th>\n",
       "      <td>25256</td>\n",
       "      <td>153803</td>\n",
       "      <td>0</td>\n",
       "      <td>0</td>\n",
       "      <td>5</td>\n",
       "      <td>0</td>\n",
       "      <td>0</td>\n",
       "      <td>0</td>\n",
       "      <td>0</td>\n",
       "      <td>3</td>\n",
       "      <td>...</td>\n",
       "      <td>39.0581</td>\n",
       "      <td>MICU</td>\n",
       "      <td>47.4</td>\n",
       "      <td>10</td>\n",
       "      <td>9.2</td>\n",
       "      <td>170.00</td>\n",
       "      <td>1.7</td>\n",
       "      <td>0.5</td>\n",
       "      <td>27.6</td>\n",
       "      <td>False</td>\n",
       "    </tr>\n",
       "  </tbody>\n",
       "</table>\n",
       "<p>806 rows × 29 columns</p>\n",
       "</div>"
      ],
      "text/plain": [
       "      subject_id  hadm_id  age_score  hr_score  sysbp_score  temp_score  \\\n",
       "3508       30243   167903          0         2            0           0   \n",
       "4073       13033   139630          0         0            5           0   \n",
       "1177       14565   133543          0         0            0           0   \n",
       "3545       27362   151053          0         4            0           0   \n",
       "6363        6428   152771          0         4            5           0   \n",
       "...          ...      ...        ...       ...          ...         ...   \n",
       "3955         109   147469          0         0            2           0   \n",
       "4716       25225   143004          0         4           13           0   \n",
       "7094       13033   157973          0         0            0           0   \n",
       "2882       18996   136635          0         0            5           0   \n",
       "747        25256   153803          0         0            5           0   \n",
       "\n",
       "      pao2fio2_score  uo_score  bun_score  wbc_score  ...      age  \\\n",
       "3508               0         4          0          0  ...  38.2289   \n",
       "4073               0         4          6          0  ...  38.1356   \n",
       "1177               0         0          0          0  ...  29.3881   \n",
       "3545               0         0          6          0  ...  22.9328   \n",
       "6363               0         0          0          0  ...  24.4951   \n",
       "...              ...       ...        ...        ...  ...      ...   \n",
       "3955               0         4          6          0  ...  23.8456   \n",
       "4716               0         0          0          0  ...  32.8654   \n",
       "7094               0         0          6          0  ...  34.6061   \n",
       "2882               6        11          6          0  ...  31.3453   \n",
       "747                0         0          0          3  ...  39.0581   \n",
       "\n",
       "      CURR_CAREUNIT_transfers  weight  bun_min  hemoglobin_max  height  \\\n",
       "3508                     MICU    71.3        9            14.0  173.00   \n",
       "4073                     MICU    71.9       41            11.5  170.18   \n",
       "1177                     MICU    51.0        2            14.2  152.40   \n",
       "3545                     MICU    59.0       16             7.1  155.00   \n",
       "6363                     MICU    73.1       18            14.4  165.00   \n",
       "...                       ...     ...      ...             ...     ...   \n",
       "3955                     MICU    54.0       45             8.8  152.00   \n",
       "4716                     MICU    51.8       18             9.1  170.00   \n",
       "7094                     MICU    75.3       24            12.0  170.18   \n",
       "2882                     MICU    70.0       35            13.9  182.88   \n",
       "747                      MICU    47.4       10             9.2  170.00   \n",
       "\n",
       "      lactate_max  creatinine_max ptt_max  first_icu_stay  \n",
       "3508          1.9             0.9    24.7            True  \n",
       "4073          4.4            10.1    78.6            True  \n",
       "1177          3.7             0.8    58.0            True  \n",
       "3545          2.2             9.3    27.0            True  \n",
       "6363          1.5             8.5    34.6            True  \n",
       "...           ...             ...     ...             ...  \n",
       "3955          0.7             7.1    47.2            True  \n",
       "4716          1.9             6.8    66.3           False  \n",
       "7094          1.8             7.4    40.8            True  \n",
       "2882          2.1            11.9    36.4           False  \n",
       "747           1.7             0.5    27.6           False  \n",
       "\n",
       "[806 rows x 29 columns]"
      ]
     },
     "execution_count": 11,
     "metadata": {},
     "output_type": "execute_result"
    }
   ],
   "source": [
    "## Selecting patients between 20 and 40:\n",
    "df[(df['age']>=20) & (df['age']<=40)]"
   ]
  },
  {
   "cell_type": "code",
   "execution_count": 12,
   "metadata": {
    "slideshow": {
     "slide_type": "subslide"
    }
   },
   "outputs": [
    {
     "data": {
      "text/plain": [
       "np.float64(244.0)"
      ]
     },
     "execution_count": 12,
     "metadata": {},
     "output_type": "execute_result"
    }
   ],
   "source": [
    "df[((df['age']>=20) & (df['age']<=40)) | df['first_icu_stay']==True]['height'].max()"
   ]
  },
  {
   "cell_type": "markdown",
   "metadata": {
    "slideshow": {
     "slide_type": "fragment"
    }
   },
   "source": [
    "The code above returns the maximum height among patients who are between 20 and 40 or patients who have been to the ICU for the first time."
   ]
  },
  {
   "cell_type": "markdown",
   "metadata": {
    "slideshow": {
     "slide_type": "skip"
    }
   },
   "source": [
    "<div class=\"alert alert-block alert-info\">\n",
    "<b>Exercise:</b>\n",
    "    \n",
    "- How many patients have a lactate above 1.9 mM or a creatine value above 1.2 mg/dL? How many of those patients died in the hospital?\n",
    "- Find the longest ICU stay among patients aged between 40 and 80.\n",
    "- Calculate the average height for both men and women.\n",
    "- Identify the patient with the highest number of visits. <br>(*Hint: **(1)** Try to find which variable corresponds to the patient identifier and **(2)** Use the `value_counts()` method*)    \n",
    "</div>"
   ]
  },
  {
   "cell_type": "code",
   "execution_count": null,
   "metadata": {},
   "outputs": [],
   "source": []
  },
  {
   "cell_type": "markdown",
   "metadata": {
    "slideshow": {
     "slide_type": "subslide"
    }
   },
   "source": [
    "You can compute basic statistics on the whole dataset directly using the `.describe()` method."
   ]
  },
  {
   "cell_type": "code",
   "execution_count": 13,
   "metadata": {
    "slideshow": {
     "slide_type": "fragment"
    }
   },
   "outputs": [
    {
     "data": {
      "text/html": [
       "<div>\n",
       "<style scoped>\n",
       "    .dataframe tbody tr th:only-of-type {\n",
       "        vertical-align: middle;\n",
       "    }\n",
       "\n",
       "    .dataframe tbody tr th {\n",
       "        vertical-align: top;\n",
       "    }\n",
       "\n",
       "    .dataframe thead th {\n",
       "        text-align: right;\n",
       "    }\n",
       "</style>\n",
       "<table border=\"1\" class=\"dataframe\">\n",
       "  <thead>\n",
       "    <tr style=\"text-align: right;\">\n",
       "      <th></th>\n",
       "      <th>subject_id</th>\n",
       "      <th>hadm_id</th>\n",
       "      <th>age_score</th>\n",
       "      <th>hr_score</th>\n",
       "      <th>sysbp_score</th>\n",
       "      <th>temp_score</th>\n",
       "      <th>pao2fio2_score</th>\n",
       "      <th>uo_score</th>\n",
       "      <th>bun_score</th>\n",
       "      <th>wbc_score</th>\n",
       "      <th>...</th>\n",
       "      <th>admissiontype_score</th>\n",
       "      <th>hospital_mortality</th>\n",
       "      <th>age</th>\n",
       "      <th>weight</th>\n",
       "      <th>bun_min</th>\n",
       "      <th>hemoglobin_max</th>\n",
       "      <th>height</th>\n",
       "      <th>lactate_max</th>\n",
       "      <th>creatinine_max</th>\n",
       "      <th>ptt_max</th>\n",
       "    </tr>\n",
       "  </thead>\n",
       "  <tbody>\n",
       "    <tr>\n",
       "      <th>count</th>\n",
       "      <td>5000.00000</td>\n",
       "      <td>5000.000000</td>\n",
       "      <td>5000.000000</td>\n",
       "      <td>5000.000000</td>\n",
       "      <td>5000.000000</td>\n",
       "      <td>5000.000000</td>\n",
       "      <td>5000.000000</td>\n",
       "      <td>5000.000000</td>\n",
       "      <td>5000.000000</td>\n",
       "      <td>5000.000000</td>\n",
       "      <td>...</td>\n",
       "      <td>5000.000000</td>\n",
       "      <td>5000.000000</td>\n",
       "      <td>5000.000000</td>\n",
       "      <td>5000.000000</td>\n",
       "      <td>5000.000000</td>\n",
       "      <td>5000.000000</td>\n",
       "      <td>4900.000000</td>\n",
       "      <td>5000.000000</td>\n",
       "      <td>5000.000000</td>\n",
       "      <td>5000.000000</td>\n",
       "    </tr>\n",
       "    <tr>\n",
       "      <th>mean</th>\n",
       "      <td>32681.07440</td>\n",
       "      <td>149726.799200</td>\n",
       "      <td>9.655200</td>\n",
       "      <td>1.823400</td>\n",
       "      <td>3.891800</td>\n",
       "      <td>0.000600</td>\n",
       "      <td>2.142400</td>\n",
       "      <td>1.872400</td>\n",
       "      <td>2.968000</td>\n",
       "      <td>0.517200</td>\n",
       "      <td>...</td>\n",
       "      <td>6.034800</td>\n",
       "      <td>0.111200</td>\n",
       "      <td>58.991396</td>\n",
       "      <td>79.245550</td>\n",
       "      <td>27.520600</td>\n",
       "      <td>11.215880</td>\n",
       "      <td>168.323202</td>\n",
       "      <td>2.588928</td>\n",
       "      <td>2.251480</td>\n",
       "      <td>42.320152</td>\n",
       "    </tr>\n",
       "    <tr>\n",
       "      <th>std</th>\n",
       "      <td>28095.07763</td>\n",
       "      <td>28777.336131</td>\n",
       "      <td>5.709539</td>\n",
       "      <td>1.888525</td>\n",
       "      <td>3.462671</td>\n",
       "      <td>0.042426</td>\n",
       "      <td>3.577748</td>\n",
       "      <td>3.572712</td>\n",
       "      <td>3.314389</td>\n",
       "      <td>1.626479</td>\n",
       "      <td>...</td>\n",
       "      <td>1.361749</td>\n",
       "      <td>0.314411</td>\n",
       "      <td>16.857492</td>\n",
       "      <td>24.219706</td>\n",
       "      <td>21.551661</td>\n",
       "      <td>2.053407</td>\n",
       "      <td>10.619872</td>\n",
       "      <td>2.236436</td>\n",
       "      <td>2.488215</td>\n",
       "      <td>29.192942</td>\n",
       "    </tr>\n",
       "    <tr>\n",
       "      <th>min</th>\n",
       "      <td>41.00000</td>\n",
       "      <td>100018.000000</td>\n",
       "      <td>0.000000</td>\n",
       "      <td>0.000000</td>\n",
       "      <td>0.000000</td>\n",
       "      <td>0.000000</td>\n",
       "      <td>0.000000</td>\n",
       "      <td>0.000000</td>\n",
       "      <td>0.000000</td>\n",
       "      <td>0.000000</td>\n",
       "      <td>...</td>\n",
       "      <td>0.000000</td>\n",
       "      <td>0.000000</td>\n",
       "      <td>17.333600</td>\n",
       "      <td>1.000000</td>\n",
       "      <td>1.000000</td>\n",
       "      <td>5.100000</td>\n",
       "      <td>121.920000</td>\n",
       "      <td>0.300000</td>\n",
       "      <td>0.100000</td>\n",
       "      <td>17.400000</td>\n",
       "    </tr>\n",
       "    <tr>\n",
       "      <th>25%</th>\n",
       "      <td>11628.25000</td>\n",
       "      <td>124828.000000</td>\n",
       "      <td>7.000000</td>\n",
       "      <td>0.000000</td>\n",
       "      <td>0.000000</td>\n",
       "      <td>0.000000</td>\n",
       "      <td>0.000000</td>\n",
       "      <td>0.000000</td>\n",
       "      <td>0.000000</td>\n",
       "      <td>0.000000</td>\n",
       "      <td>...</td>\n",
       "      <td>6.000000</td>\n",
       "      <td>0.000000</td>\n",
       "      <td>47.890400</td>\n",
       "      <td>63.500000</td>\n",
       "      <td>13.000000</td>\n",
       "      <td>9.800000</td>\n",
       "      <td>160.020000</td>\n",
       "      <td>1.300000</td>\n",
       "      <td>0.800000</td>\n",
       "      <td>27.200000</td>\n",
       "    </tr>\n",
       "    <tr>\n",
       "      <th>50%</th>\n",
       "      <td>23079.00000</td>\n",
       "      <td>149303.500000</td>\n",
       "      <td>12.000000</td>\n",
       "      <td>2.000000</td>\n",
       "      <td>5.000000</td>\n",
       "      <td>0.000000</td>\n",
       "      <td>0.000000</td>\n",
       "      <td>0.000000</td>\n",
       "      <td>0.000000</td>\n",
       "      <td>0.000000</td>\n",
       "      <td>...</td>\n",
       "      <td>6.000000</td>\n",
       "      <td>0.000000</td>\n",
       "      <td>60.130500</td>\n",
       "      <td>75.000000</td>\n",
       "      <td>21.000000</td>\n",
       "      <td>11.000000</td>\n",
       "      <td>170.000000</td>\n",
       "      <td>1.900000</td>\n",
       "      <td>1.200000</td>\n",
       "      <td>32.200000</td>\n",
       "    </tr>\n",
       "    <tr>\n",
       "      <th>75%</th>\n",
       "      <td>52826.50000</td>\n",
       "      <td>174489.500000</td>\n",
       "      <td>15.000000</td>\n",
       "      <td>2.000000</td>\n",
       "      <td>5.000000</td>\n",
       "      <td>0.000000</td>\n",
       "      <td>6.000000</td>\n",
       "      <td>4.000000</td>\n",
       "      <td>6.000000</td>\n",
       "      <td>0.000000</td>\n",
       "      <td>...</td>\n",
       "      <td>6.000000</td>\n",
       "      <td>0.000000</td>\n",
       "      <td>71.867250</td>\n",
       "      <td>90.000000</td>\n",
       "      <td>35.000000</td>\n",
       "      <td>12.500000</td>\n",
       "      <td>175.260000</td>\n",
       "      <td>3.000000</td>\n",
       "      <td>2.400000</td>\n",
       "      <td>41.600000</td>\n",
       "    </tr>\n",
       "    <tr>\n",
       "      <th>max</th>\n",
       "      <td>99937.00000</td>\n",
       "      <td>199994.000000</td>\n",
       "      <td>18.000000</td>\n",
       "      <td>11.000000</td>\n",
       "      <td>13.000000</td>\n",
       "      <td>3.000000</td>\n",
       "      <td>11.000000</td>\n",
       "      <td>11.000000</td>\n",
       "      <td>10.000000</td>\n",
       "      <td>12.000000</td>\n",
       "      <td>...</td>\n",
       "      <td>8.000000</td>\n",
       "      <td>1.000000</td>\n",
       "      <td>88.979100</td>\n",
       "      <td>277.400000</td>\n",
       "      <td>232.000000</td>\n",
       "      <td>20.800000</td>\n",
       "      <td>244.000000</td>\n",
       "      <td>27.700000</td>\n",
       "      <td>22.200000</td>\n",
       "      <td>150.000000</td>\n",
       "    </tr>\n",
       "  </tbody>\n",
       "</table>\n",
       "<p>8 rows × 26 columns</p>\n",
       "</div>"
      ],
      "text/plain": [
       "        subject_id        hadm_id    age_score     hr_score  sysbp_score  \\\n",
       "count   5000.00000    5000.000000  5000.000000  5000.000000  5000.000000   \n",
       "mean   32681.07440  149726.799200     9.655200     1.823400     3.891800   \n",
       "std    28095.07763   28777.336131     5.709539     1.888525     3.462671   \n",
       "min       41.00000  100018.000000     0.000000     0.000000     0.000000   \n",
       "25%    11628.25000  124828.000000     7.000000     0.000000     0.000000   \n",
       "50%    23079.00000  149303.500000    12.000000     2.000000     5.000000   \n",
       "75%    52826.50000  174489.500000    15.000000     2.000000     5.000000   \n",
       "max    99937.00000  199994.000000    18.000000    11.000000    13.000000   \n",
       "\n",
       "        temp_score  pao2fio2_score     uo_score    bun_score    wbc_score  \\\n",
       "count  5000.000000     5000.000000  5000.000000  5000.000000  5000.000000   \n",
       "mean      0.000600        2.142400     1.872400     2.968000     0.517200   \n",
       "std       0.042426        3.577748     3.572712     3.314389     1.626479   \n",
       "min       0.000000        0.000000     0.000000     0.000000     0.000000   \n",
       "25%       0.000000        0.000000     0.000000     0.000000     0.000000   \n",
       "50%       0.000000        0.000000     0.000000     0.000000     0.000000   \n",
       "75%       0.000000        6.000000     4.000000     6.000000     0.000000   \n",
       "max       3.000000       11.000000    11.000000    10.000000    12.000000   \n",
       "\n",
       "       ...  admissiontype_score  hospital_mortality          age       weight  \\\n",
       "count  ...          5000.000000         5000.000000  5000.000000  5000.000000   \n",
       "mean   ...             6.034800            0.111200    58.991396    79.245550   \n",
       "std    ...             1.361749            0.314411    16.857492    24.219706   \n",
       "min    ...             0.000000            0.000000    17.333600     1.000000   \n",
       "25%    ...             6.000000            0.000000    47.890400    63.500000   \n",
       "50%    ...             6.000000            0.000000    60.130500    75.000000   \n",
       "75%    ...             6.000000            0.000000    71.867250    90.000000   \n",
       "max    ...             8.000000            1.000000    88.979100   277.400000   \n",
       "\n",
       "           bun_min  hemoglobin_max       height  lactate_max  creatinine_max  \\\n",
       "count  5000.000000     5000.000000  4900.000000  5000.000000     5000.000000   \n",
       "mean     27.520600       11.215880   168.323202     2.588928        2.251480   \n",
       "std      21.551661        2.053407    10.619872     2.236436        2.488215   \n",
       "min       1.000000        5.100000   121.920000     0.300000        0.100000   \n",
       "25%      13.000000        9.800000   160.020000     1.300000        0.800000   \n",
       "50%      21.000000       11.000000   170.000000     1.900000        1.200000   \n",
       "75%      35.000000       12.500000   175.260000     3.000000        2.400000   \n",
       "max     232.000000       20.800000   244.000000    27.700000       22.200000   \n",
       "\n",
       "           ptt_max  \n",
       "count  5000.000000  \n",
       "mean     42.320152  \n",
       "std      29.192942  \n",
       "min      17.400000  \n",
       "25%      27.200000  \n",
       "50%      32.200000  \n",
       "75%      41.600000  \n",
       "max     150.000000  \n",
       "\n",
       "[8 rows x 26 columns]"
      ]
     },
     "execution_count": 13,
     "metadata": {},
     "output_type": "execute_result"
    }
   ],
   "source": [
    "df.describe()"
   ]
  },
  {
   "cell_type": "markdown",
   "metadata": {
    "slideshow": {
     "slide_type": "slide"
    }
   },
   "source": [
    "## Data visualization\n",
    "\n",
    "\n",
    "While descriptive statistics offer insights into the data, they must be interpreted cautiously. Data visualization, however, can reveal valuable insights that descriptive statistics may overlook."
   ]
  },
  {
   "cell_type": "markdown",
   "metadata": {
    "slideshow": {
     "slide_type": "fragment"
    }
   },
   "source": [
    "The **Anscombe's quartet** serves as a perfect example to illustrate the significance of data visualization."
   ]
  },
  {
   "cell_type": "markdown",
   "metadata": {
    "slideshow": {
     "slide_type": "subslide"
    }
   },
   "source": [
    "The Anscombe's quartet is composed of 4 different datasets, each containing 10 data points with two coordinates. Let's have a look:"
   ]
  },
  {
   "cell_type": "markdown",
   "metadata": {
    "slideshow": {
     "slide_type": "fragment"
    }
   },
   "source": [
    "|    |   X1 |    Y1 |    |    |   X2 |    Y2 |    |    |   X3 |    Y3 |    |    |   X4 |    Y4 |\n",
    "|----|-----:|------:|----|----|-----:|------:|----|----|-----:|------:|----|----|-----:|------:|\n",
    "||   10 |  8.04 |    |    |   10 |  9.14 |    |    |   10 |  7.46 |    |    |    8 |  6.58 |\n",
    "||    8 |  6.95 |    |    |    8 |  8.14 |    |    |    8 |  6.77 |    |    |    8 |  5.76 |\n",
    "||   13 |  7.58 |    |    |   13 |  8.74 |    |    |   13 | 12.74 |    |    |    8 |  7.71 |\n",
    "||    9 |  8.81 |    |    |    9 |  8.77 |    |    |    9 |  7.11 |    |    |    8 |  8.84 |\n",
    "||   11 |  8.33 |    |    |   11 |  9.26 |    |    |   11 |  7.81 |    |    |    8 |  8.47 |\n",
    "||   14 |  9.96 |    |    |   14 |  8.10 |    |    |   14 |  8.84 |    |    |    8 |  7.04 |\n",
    "||    6 |  7.24 |    |    |    6 |  6.13 |    |    |    6 |  6.08 |    |    |    8 |  5.25 |\n",
    "||    4 |  4.26 |    |    |    4 |  3.10 |    |    |    4 |  5.39 |    |    |   19 | 12.50 |\n",
    "||   12 | 10.84 |    |    |   12 |  9.13 |    |    |   12 |  8.15 |    |    |    8 |  5.56 |\n",
    "||    7 |  4.82 |    |    |    7 |  7.26 |    |    |    7 |  6.42 |    |    |    8 |  7.91 |\n",
    "||    5 |  5.68 |    |    |    5 |  4.74 |    |    |    5 |  5.73 |    |    |   10 |  6.89 |\n"
   ]
  },
  {
   "cell_type": "markdown",
   "metadata": {
    "slideshow": {
     "slide_type": "subslide"
    }
   },
   "source": [
    "At first glance, everything appears normal. Let's proceed by printing some descriptive statistics:"
   ]
  },
  {
   "cell_type": "markdown",
   "metadata": {
    "slideshow": {
     "slide_type": "fragment"
    },
    "tags": [
     "hide-input"
    ]
   },
   "source": [
    "|      |   X1 |   X2 |   X3 |   X4 |    |    |   Y1 |   Y2 |   Y3 |   Y4 |\n",
    "|------|-----:|-----:|-----:|-----:|----|----|-----:|-----:|-----:|-----:|\n",
    "| mean |  9.0 |  9.0 |  9.0 |  9.0 |    |    |  7.5 |  7.5 |  7.5 |  7.5 |\n",
    "| std  |  3.32|  3.32|  3.32|  3.32|    |    |  2.03|  2.03|  2.03|  2.03|\n",
    "| min  |  4.0 |  4.0 |  4.0 |  8.0 |    |    |  4.26|  3.10|  5.39|  5.25|\n",
    "| 25%  |  6.5 |  6.5 |  6.5 |  8.0 |    |    |  6.31|  6.70|  6.25|  6.17|\n",
    "| 50%  |  9.0 |  9.0 |  9.0 |  8.0 |    |    |  7.58|  8.14|  7.11|  7.04|\n",
    "| 75%  | 11.5 | 11.5 | 11.5 |  8.0 |    |    |  8.57|  8.95|  7.98|  8.19|\n",
    "| max  | 14.0 | 14.0 | 14.0 | 19.0 |    |    | 10.84|  9.26| 12.74| 12.50|\n"
   ]
  },
  {
   "cell_type": "markdown",
   "metadata": {
    "slideshow": {
     "slide_type": "fragment"
    }
   },
   "source": [
    "Once more, everything seems normal. The datasets exhibit similar statistics, such as mean and standard deviation, and their values are within the same order of magnitude. At this point, we might consider fitting a regression model to predict $Y$ using $X$. However, to ensure that everything is normal, let's visualize the data points:"
   ]
  },
  {
   "cell_type": "markdown",
   "metadata": {
    "slideshow": {
     "slide_type": "subslide"
    }
   },
   "source": [
    "![](https://github.com/AL0UNE/courses/blob/main/figures/Quartet_anscombe.png?raw=true)"
   ]
  },
  {
   "cell_type": "markdown",
   "metadata": {
    "slideshow": {
     "slide_type": "subslide"
    }
   },
   "source": [
    "What is even more surprising is that performing linear regression fits on any of the four datasets yields identical regression lines!"
   ]
  },
  {
   "cell_type": "markdown",
   "metadata": {
    "slideshow": {
     "slide_type": "subslide"
    },
    "tags": [
     "hide-input"
    ]
   },
   "source": [
    "![](https://github.com/AL0UNE/courses/blob/main/figures/Quartet_anscombe_with_linear_reg.png?raw=true)"
   ]
  },
  {
   "cell_type": "markdown",
   "metadata": {
    "slideshow": {
     "slide_type": "subslide"
    }
   },
   "source": [
    "This illustrative example highlights the importance of conducting exploratory data analysis before developing any machine learning models. <br>Let's now explore some of the fundamental visualization plots."
   ]
  },
  {
   "cell_type": "markdown",
   "metadata": {
    "slideshow": {
     "slide_type": "slide"
    }
   },
   "source": [
    "**Categorical data**"
   ]
  },
  {
   "cell_type": "code",
   "execution_count": 14,
   "metadata": {
    "slideshow": {
     "slide_type": "fragment"
    }
   },
   "outputs": [
    {
     "data": {
      "text/plain": [
       "<Axes: xlabel='hospital_mortality', ylabel='count'>"
      ]
     },
     "execution_count": 14,
     "metadata": {},
     "output_type": "execute_result"
    },
    {
     "data": {
      "image/png": "[encoded data removed]",
      "text/plain": [
       "<Figure size 640x480 with 1 Axes>"
      ]
     },
     "metadata": {},
     "output_type": "display_data"
    }
   ],
   "source": [
    "sns.countplot(data=df, x='hospital_mortality')"
   ]
  },
  {
   "cell_type": "markdown",
   "metadata": {
    "slideshow": {
     "slide_type": "subslide"
    }
   },
   "source": [
    "**Continuous data**"
   ]
  },
  {
   "cell_type": "code",
   "execution_count": 15,
   "metadata": {
    "slideshow": {
     "slide_type": "fragment"
    }
   },
   "outputs": [
    {
     "data": {
      "text/plain": [
       "<Axes: xlabel='hemoglobin_max', ylabel='Count'>"
      ]
     },
     "execution_count": 15,
     "metadata": {},
     "output_type": "execute_result"
    },
    {
     "data": {
      "image/png": "[encoded data removed]",
      "text/plain": [
       "<Figure size 640x480 with 1 Axes>"
      ]
     },
     "metadata": {},
     "output_type": "display_data"
    }
   ],
   "source": [
    "sns.histplot(data=df, x='hemoglobin_max')"
   ]
  },
  {
   "cell_type": "markdown",
   "metadata": {
    "slideshow": {
     "slide_type": "subslide"
    }
   },
   "source": [
    "**Categorical/Categorical**"
   ]
  },
  {
   "cell_type": "code",
   "execution_count": 16,
   "metadata": {
    "slideshow": {
     "slide_type": "fragment"
    }
   },
   "outputs": [
    {
     "data": {
      "text/plain": [
       "<Axes: xlabel='hospital_mortality', ylabel='count'>"
      ]
     },
     "execution_count": 16,
     "metadata": {},
     "output_type": "execute_result"
    },
    {
     "data": {
      "image/png": "[encoded data removed]",
      "text/plain": [
       "<Figure size 640x480 with 1 Axes>"
      ]
     },
     "metadata": {},
     "output_type": "display_data"
    }
   ],
   "source": [
    "sns.countplot(data=df, x='hospital_mortality', hue='gender')"
   ]
  },
  {
   "cell_type": "markdown",
   "metadata": {
    "slideshow": {
     "slide_type": "subslide"
    }
   },
   "source": [
    "**Continuous/Continuous**"
   ]
  },
  {
   "cell_type": "code",
   "execution_count": 17,
   "metadata": {
    "slideshow": {
     "slide_type": "fragment"
    }
   },
   "outputs": [
    {
     "data": {
      "text/plain": [
       "<Axes: xlabel='creatinine_max', ylabel='bun_min'>"
      ]
     },
     "execution_count": 17,
     "metadata": {},
     "output_type": "execute_result"
    },
    {
     "data": {
      "image/png": "[encoded data removed]",
      "text/plain": [
       "<Figure size 640x480 with 1 Axes>"
      ]
     },
     "metadata": {},
     "output_type": "display_data"
    }
   ],
   "source": [
    "sns.scatterplot(data=df, x='creatinine_max', y='bun_min', alpha=.05)"
   ]
  },
  {
   "cell_type": "markdown",
   "metadata": {
    "slideshow": {
     "slide_type": "subslide"
    }
   },
   "source": [
    "**Categorical/Continuous**"
   ]
  },
  {
   "cell_type": "code",
   "execution_count": 18,
   "metadata": {
    "slideshow": {
     "slide_type": "fragment"
    }
   },
   "outputs": [
    {
     "data": {
      "text/plain": [
       "<Axes: xlabel='hospital_mortality', ylabel='age'>"
      ]
     },
     "execution_count": 18,
     "metadata": {},
     "output_type": "execute_result"
    },
    {
     "data": {
      "image/png": "[encoded data removed]",
      "text/plain": [
       "<Figure size 640x480 with 1 Axes>"
      ]
     },
     "metadata": {},
     "output_type": "display_data"
    }
   ],
   "source": [
    "sns.boxplot(data=df, x='hospital_mortality', y='age')"
   ]
  },
  {
   "cell_type": "markdown",
   "metadata": {
    "slideshow": {
     "slide_type": "subslide"
    }
   },
   "source": [
    "**Adding a third information**"
   ]
  },
  {
   "cell_type": "code",
   "execution_count": 19,
   "metadata": {
    "slideshow": {
     "slide_type": "fragment"
    }
   },
   "outputs": [
    {
     "data": {
      "text/plain": [
       "<Axes: xlabel='bun_min', ylabel='lactate_max'>"
      ]
     },
     "execution_count": 19,
     "metadata": {},
     "output_type": "execute_result"
    },
    {
     "data": {
      "image/png": "[encoded data removed]",
      "text/plain": [
       "<Figure size 640x480 with 1 Axes>"
      ]
     },
     "metadata": {},
     "output_type": "display_data"
    }
   ],
   "source": [
    "sns.scatterplot(data=df, x='bun_min', y='lactate_max', hue='hospital_mortality', alpha=0.05)"
   ]
  },
  {
   "cell_type": "markdown",
   "metadata": {
    "slideshow": {
     "slide_type": "skip"
    }
   },
   "source": [
    "<div class=\"alert alert-block alert-info\">\n",
    "<b>Exercise:</b> \n",
    "\n",
    "- Plot *gender* and *age* in the same figure.\n",
    "- Visualize the *temp_score* feature. What observations can you make?\n",
    "- Create a plot of *age_score* against *age* and interpret the scoring rule.\n",
    "\n",
    "</div>"
   ]
  },
  {
   "cell_type": "code",
   "execution_count": null,
   "metadata": {
    "slideshow": {
     "slide_type": "skip"
    }
   },
   "outputs": [],
   "source": []
  },
  {
   "cell_type": "code",
   "execution_count": null,
   "metadata": {
    "slideshow": {
     "slide_type": "skip"
    }
   },
   "outputs": [],
   "source": []
  },
  {
   "cell_type": "code",
   "execution_count": null,
   "metadata": {
    "slideshow": {
     "slide_type": "skip"
    }
   },
   "outputs": [],
   "source": []
  },
  {
   "cell_type": "code",
   "execution_count": null,
   "metadata": {
    "slideshow": {
     "slide_type": "skip"
    }
   },
   "outputs": [],
   "source": []
  },
  {
   "cell_type": "markdown",
   "metadata": {
    "slideshow": {
     "slide_type": "subslide"
    }
   },
   "source": [
    "There are many other ways to represents data, depending on the type of the data and the information you want to represent. <br>The [Data to viz](https://www.data-to-viz.com) website lists many visualization methods along with the corresponding python (and R) code for replication."
   ]
  },
  {
   "cell_type": "markdown",
   "metadata": {
    "slideshow": {
     "slide_type": "slide"
    }
   },
   "source": [
    "## Data preprocessing\n",
    "\n",
    "\n",
    "Data pre-processing plays a crucial role prior to model development. It encompasses several essential steps, including handling missing values through imputation or removal, addressing outliers, data encoding, feature engineering, and data standardization."
   ]
  },
  {
   "cell_type": "markdown",
   "metadata": {
    "slideshow": {
     "slide_type": "subslide"
    }
   },
   "source": [
    "To start, we will keep only a subset of variables."
   ]
  },
  {
   "cell_type": "code",
   "execution_count": 20,
   "metadata": {
    "slideshow": {
     "slide_type": "fragment"
    }
   },
   "outputs": [],
   "source": [
    "keep = [\n",
    "    \"age\", \"gender\", \"height\", \"weight\", \"CURR_CAREUNIT_transfers\" , \n",
    "    \"hr_score\", \"sysbp_score\", \"pao2fio2_score\",\n",
    "    \"bun_min\", \"hemoglobin_max\", \"lactate_max\", \"creatinine_max\",\n",
    "    \"ptt_max\", \"first_icu_stay\", \"hospital_mortality\"\n",
    "]"
   ]
  },
  {
   "cell_type": "code",
   "execution_count": 21,
   "metadata": {
    "slideshow": {
     "slide_type": "fragment"
    }
   },
   "outputs": [],
   "source": [
    "df = df[keep]"
   ]
  },
  {
   "cell_type": "markdown",
   "metadata": {
    "slideshow": {
     "slide_type": "subslide"
    }
   },
   "source": [
    "### Missing data"
   ]
  },
  {
   "cell_type": "markdown",
   "metadata": {
    "slideshow": {
     "slide_type": "fragment"
    }
   },
   "source": [
    "Missing data is ubiquitous. Reasons for observing missing data are many, especially in healthcare: \n",
    "- Missing when entering the data in the electronic healthcare system \n",
    "- Data not being collected in a different healthcare institution\n",
    "- Missingness is actually a value by itself (e.g. patient' not answering specific questions in a survey)\n",
    "- Physician not ordering a specific lab exams based on the patient health condition"
   ]
  },
  {
   "cell_type": "markdown",
   "metadata": {
    "slideshow": {
     "slide_type": "subslide"
    }
   },
   "source": [
    "Let's check if there are missing values in our data:"
   ]
  },
  {
   "cell_type": "code",
   "execution_count": 22,
   "metadata": {
    "slideshow": {
     "slide_type": "fragment"
    }
   },
   "outputs": [
    {
     "data": {
      "text/plain": [
       "height                     100\n",
       "first_icu_stay               6\n",
       "age                          0\n",
       "gender                       0\n",
       "weight                       0\n",
       "CURR_CAREUNIT_transfers      0\n",
       "hr_score                     0\n",
       "sysbp_score                  0\n",
       "pao2fio2_score               0\n",
       "bun_min                      0\n",
       "hemoglobin_max               0\n",
       "lactate_max                  0\n",
       "creatinine_max               0\n",
       "ptt_max                      0\n",
       "hospital_mortality           0\n",
       "dtype: int64"
      ]
     },
     "execution_count": 22,
     "metadata": {},
     "output_type": "execute_result"
    }
   ],
   "source": [
    "df.isna().sum().sort_values(ascending=False)"
   ]
  },
  {
   "cell_type": "markdown",
   "metadata": {
    "slideshow": {
     "slide_type": "fragment"
    }
   },
   "source": [
    "We have `height` (100 missing values) and `first_icu_stay` (6 missing values) that have missing values. Let's have a look on those features."
   ]
  },
  {
   "cell_type": "code",
   "execution_count": 23,
   "metadata": {
    "slideshow": {
     "slide_type": "subslide"
    }
   },
   "outputs": [
    {
     "data": {
      "image/png": "[encoded data removed]",
      "text/plain": [
       "<Figure size 640x480 with 1 Axes>"
      ]
     },
     "metadata": {},
     "output_type": "display_data"
    }
   ],
   "source": [
    "sns.histplot(data=df, x='height');"
   ]
  },
  {
   "cell_type": "code",
   "execution_count": 24,
   "metadata": {
    "slideshow": {
     "slide_type": "subslide"
    }
   },
   "outputs": [
    {
     "data": {
      "image/png": "[encoded data removed]",
      "text/plain": [
       "<Figure size 640x480 with 1 Axes>"
      ]
     },
     "metadata": {},
     "output_type": "display_data"
    }
   ],
   "source": [
    "sns.countplot(data=df, x='first_icu_stay');"
   ]
  },
  {
   "cell_type": "markdown",
   "metadata": {
    "slideshow": {
     "slide_type": "subslide"
    }
   },
   "source": [
    "**Height** is a continuous feature with a distribution that looks gaussian (bell-shaped). <br>**First_icu_stay** takes binary values."
   ]
  },
  {
   "cell_type": "markdown",
   "metadata": {
    "slideshow": {
     "slide_type": "fragment"
    }
   },
   "source": [
    "Missing values can be addressed in various ways, for example:\n",
    "- Imputing with mean, median for continuous features\n",
    "- Imputing with most frequent value for categorical features\n",
    "- Regressing the missing features using the other variable (e.g. predicting missing heights based on patients' weights)\n",
    "- Considering the missing value as a distinct value (which value to choose?)\n",
    "- Removing the features with missing values (columns)\n",
    "- Removing the observations with missing values (rows)"
   ]
  },
  {
   "cell_type": "markdown",
   "metadata": {
    "slideshow": {
     "slide_type": "subslide"
    }
   },
   "source": [
    "Here we will do a naïve imputation using the mean of the `height` and the most frequent value in `first_icu_stay`.<br>"
   ]
  },
  {
   "cell_type": "code",
   "execution_count": 25,
   "metadata": {
    "slideshow": {
     "slide_type": "fragment"
    }
   },
   "outputs": [],
   "source": [
    "## we store in two variables the value that will be used to impute the missing values\n",
    "mean_height = df['height'].mean()\n",
    "most_frequent_first_icu_stay = df['first_icu_stay'].mode()[0]"
   ]
  },
  {
   "cell_type": "code",
   "execution_count": 26,
   "metadata": {
    "slideshow": {
     "slide_type": "fragment"
    }
   },
   "outputs": [
    {
     "name": "stderr",
     "output_type": "stream",
     "text": [
      "/var/folders/ry/xg2b7wgn68l_8pvwr4fzhh1r0000gn/T/ipykernel_60953/4222208777.py:2: FutureWarning: A value is trying to be set on a copy of a DataFrame or Series through chained assignment using an inplace method.\n",
      "The behavior will change in pandas 3.0. This inplace method will never work because the intermediate object on which we are setting values always behaves as a copy.\n",
      "\n",
      "For example, when doing 'df[col].method(value, inplace=True)', try using 'df.method({col: value}, inplace=True)' or df[col] = df[col].method(value) instead, to perform the operation inplace on the original object.\n",
      "\n",
      "\n",
      "  df['height'].fillna(mean_height, inplace=True)\n",
      "/var/folders/ry/xg2b7wgn68l_8pvwr4fzhh1r0000gn/T/ipykernel_60953/4222208777.py:3: FutureWarning: A value is trying to be set on a copy of a DataFrame or Series through chained assignment using an inplace method.\n",
      "The behavior will change in pandas 3.0. This inplace method will never work because the intermediate object on which we are setting values always behaves as a copy.\n",
      "\n",
      "For example, when doing 'df[col].method(value, inplace=True)', try using 'df.method({col: value}, inplace=True)' or df[col] = df[col].method(value) instead, to perform the operation inplace on the original object.\n",
      "\n",
      "\n",
      "  df['first_icu_stay'].fillna(most_frequent_first_icu_stay, inplace=True)\n",
      "/var/folders/ry/xg2b7wgn68l_8pvwr4fzhh1r0000gn/T/ipykernel_60953/4222208777.py:3: FutureWarning: Downcasting object dtype arrays on .fillna, .ffill, .bfill is deprecated and will change in a future version. Call result.infer_objects(copy=False) instead. To opt-in to the future behavior, set `pd.set_option('future.no_silent_downcasting', True)`\n",
      "  df['first_icu_stay'].fillna(most_frequent_first_icu_stay, inplace=True)\n"
     ]
    }
   ],
   "source": [
    "## we impute (using the fillna method) directly on the dataframe (using the inplace parameter)\n",
    "df['height'].fillna(mean_height, inplace=True)\n",
    "df['first_icu_stay'].fillna(most_frequent_first_icu_stay, inplace=True)"
   ]
  },
  {
   "cell_type": "markdown",
   "metadata": {
    "slideshow": {
     "slide_type": "fragment"
    }
   },
   "source": [
    "**Important**: Potential missing values in the testing dataset need to be imputed using information from the training data. In other words, the values used to impute the testing data are the same used to impute the training data."
   ]
  },
  {
   "cell_type": "markdown",
   "metadata": {
    "slideshow": {
     "slide_type": "subslide"
    }
   },
   "source": [
    "### Feature encoding"
   ]
  },
  {
   "cell_type": "markdown",
   "metadata": {
    "slideshow": {
     "slide_type": "fragment"
    }
   },
   "source": [
    "Among these features, some, such as *gender* and *first_icu_stay*, are non-numeric values. Most machine learning algorithms can only process data in numerical form.\n",
    "\n",
    "Therefore, we need a method to encode these variables. This can be done in two ways:\n",
    "\n",
    "- **Manual Encoding**: This involves defining the appropriate mapping or transformation for each categorical variable. You can manually assign numerical values or create your custom encoding schemes tailored to your specific requirements.\n"
   ]
  },
  {
   "cell_type": "code",
   "execution_count": null,
   "metadata": {
    "id": "wbvXzO_W3vYd",
    "slideshow": {
     "slide_type": "fragment"
    }
   },
   "outputs": [],
   "source": [
    "print(df['gender'].unique()) ## print unique values of that feature\n",
    "df['gender'] = df['gender'].replace({'M': 1, 'F': 0}) ## encode the values with predefined mapping\n",
    "print(df['gender'].unique()) ## print unique values of encoded features"
   ]
  },
  {
   "cell_type": "code",
   "execution_count": null,
   "metadata": {
    "slideshow": {
     "slide_type": "fragment"
    }
   },
   "outputs": [],
   "source": [
    "print(df['first_icu_stay'].unique())\n",
    "df['first_icu_stay'] = df['first_icu_stay'].replace({True: 1, False: 0})\n",
    "print(df['first_icu_stay'].unique())"
   ]
  },
  {
   "cell_type": "markdown",
   "metadata": {
    "slideshow": {
     "slide_type": "subslide"
    }
   },
   "source": [
    "- **Automatical encoding with scikit-learn package**: The scikit-learn package provides a convenient solution for categorical variable encoding through its `LabelEncoder` function. This function automatically converts categorical values into numeric labels, simplifying the encoding process.\n",
    "\n",
    "The **scikit-learn** package is a python library that provides a set of python modules for machine learning and data analysis."
   ]
  },
  {
   "cell_type": "code",
   "execution_count": null,
   "metadata": {
    "slideshow": {
     "slide_type": "fragment"
    }
   },
   "outputs": [],
   "source": [
    "from sklearn.preprocessing import LabelEncoder\n",
    "\n",
    "print(df['CURR_CAREUNIT_transfers'].unique())\n",
    "\n",
    "encoder = LabelEncoder() ## instantiate the LabelEncoder object\n",
    "\n",
    "df['CURR_CAREUNIT_transfers'] encoder.fit_transform(df['CURR_CAREUNIT_transfers']) ## \"Train\" and transform the encoder to form a mapping\n",
    "\n",
    "print(df['CURR_CAREUNIT_transfers'].unique()) ## print uniques values of encoded features"
   ]
  },
  {
   "cell_type": "markdown",
   "metadata": {
    "id": "66M86PL53vYo",
    "slideshow": {
     "slide_type": "subslide"
    }
   },
   "source": [
    "### Feature correlation \n",
    "\n",
    "Pairwise correlation provides information about which features are correlated. The method `.corr()` method computes the correlation matrix of our dataset. This can help to remove redundant features (correlation of ±1)."
   ]
  },
  {
   "cell_type": "code",
   "execution_count": null,
   "metadata": {
    "slideshow": {
     "slide_type": "skip"
    }
   },
   "outputs": [],
   "source": [
    "corr_matrix = df.corr(method='pearson')\n",
    "mask = np.zeros_like(corr_matrix)\n",
    "mask[np.triu_indices_from(mask)] = True"
   ]
  },
  {
   "cell_type": "code",
   "execution_count": null,
   "metadata": {
    "slideshow": {
     "slide_type": "fragment"
    },
    "tags": [
     "hide-input"
    ]
   },
   "outputs": [],
   "source": [
    "plt.figure(figsize=(18,6))\n",
    "sns.heatmap(corr_matrix, mask=mask,annot=True, cmap=\"YlGnBu\");"
   ]
  },
  {
   "cell_type": "markdown",
   "metadata": {
    "slideshow": {
     "slide_type": "skip"
    }
   },
   "source": [
    "<div class=\"alert alert-block alert-info\">\n",
    "<b>Exercise:</b> \n",
    "\n",
    "- Using the provided heatmap, determine the correlation between *creatinine_max* and *bun_min*. Plot a scatterplot with both features. Does it make sense with the correlation value?\n",
    "- Calculate and create the *BMI (Body Mass Index)* feature. <br>To create and add a new feature to a dataframe, use the same syntax as for accessing an existing feature: <br>`df['name of the new feature'] = ...`\n",
    "</div>"
   ]
  },
  {
   "cell_type": "code",
   "execution_count": null,
   "metadata": {
    "scrolled": true,
    "slideshow": {
     "slide_type": "skip"
    }
   },
   "outputs": [],
   "source": []
  },
  {
   "cell_type": "code",
   "execution_count": null,
   "metadata": {
    "slideshow": {
     "slide_type": "skip"
    }
   },
   "outputs": [],
   "source": []
  },
  {
   "cell_type": "markdown",
   "metadata": {
    "slideshow": {
     "slide_type": "subslide"
    }
   },
   "source": [
    "### Standardization\n",
    "\n",
    "Standardization is a common practice in data preprocessing. It involves scaling the data to have a **mean of 0** and a **standard deviation of 1**. This process is performed to prevent features with different scales from disproportionately influencing the training process, especially when using regularization. Additionally, standardization can improve the performance of certain models during training. *Standardization* is not the only way to scale the data, for example *normalization* consists in rescaling the values between $[0,1]$ or $[-1,1]$."
   ]
  },
  {
   "cell_type": "code",
   "execution_count": 27,
   "metadata": {
    "slideshow": {
     "slide_type": "fragment"
    }
   },
   "outputs": [],
   "source": [
    "X = df.drop('hospital_mortality', axis=1)\n",
    "y = df['hospital_mortality']"
   ]
  },
  {
   "cell_type": "code",
   "execution_count": 40,
   "metadata": {
    "slideshow": {
     "slide_type": "fragment"
    }
   },
   "outputs": [
    {
     "ename": "TypeError",
     "evalue": "Could not convert ['MMMMFFFFMFMMMMFMFFFFMFFMFFMMMMMFFFFMFMFFFMFMFFMMMMFMFFMFFFFMMMMFFMFMFFMFMFFMFFMFFMMMMFFMFFMFMMFFMFFMFMMFMMFFMFFMMFFFMFFMFMMMMFFMFMMMMMFMMMMFFMMFMMFMFMFFFFMMFFFFFFFFMMFFFMFFMFFFFMMFMMMMMMFMFMMFMFFMMFFFMMMFMFFFFMMMMMMMMMMMMFFMMFFMFMFMMMMMMFFFFFFMMMMMFMFFMMMMMFFMFMMFFMFMMFMFFMFMMFFMMMFMFFFFMFFFFFMMMFFMFMFMFMFMMFMMFFFMMFMFFFFFFMMFMMMFFFMMMFFFMMMMFFMMMFFFMMMMFMFMMMMFMFMMMMMMFMMMMFFMFFFMFFFMMMMFFFMMMMFFFMFMFFMMMMMMMMMMFFFMMFMMMFFFFMFMFMMMFMFFFMMMMMFFFFFMFMFMFFMFFFMFMMMFMFMMMFFFFMFMMMMFMMFFFFFMFFMMMFMFMMFMFMMMMMFMFFFMFMFMFMFMFMFFFFFMMFFMMMMFFMMMMMMMMFFFFMFFFMFFMMFFMMMFMFMFFMMFFMFMFFMMMMMMMFFMFFFMMMMMMMFFFFFMMFMFFMMFMMFMMFFFFMFMMFFMMMMMMFMFMMFMFMFMMMMFFMMFMFFFFMFMFMMMMMMMMFMFMMMMFFFMFFMMFFFFFFMFMMFMFFFFMFFFFMFMMMMMMFFFMMMMFFFFMMMMFMFMMFMMMMFFFMMMFFMMMFMMFMMMFFMFMFMFFMMMMMFMMMFMFMFMMMFFFFMFFMMFFMMMFMMFFFFMMMFFFFMFMFFFFFFMMFFMMFMMFFMFFMFFMMMMFMMFFMFFFMMMFMMMMFMMMMMMMFFMFMFMFFFMMMMMMMMFMFFMFFFMFMMFMFMMFFMMFMMMFFMMMMMFMMFFFFMFMMFMMMMFMMMFFMMMMFMMFMMMFMFFMMMMFMMMMFFFMMFMFFFFFFMFMMMFFFMFMMMFMMMFFMFFMFMMMMMFMFFMMMMMFFMMFMFMMFMMFMMMMFFFMMFFMFFFFFMMMFMFFMFMFMMMMFMFFMMMMMFFFMMFFFMMFFFFMFFFFMMFFMFMMFMFFFMMMFMFFMMFMMFMFMMFMMMFMMFMFFFMFMMMMFFMMFFMFFFMMMFMMMMMFMMMMMFMFMMMFMFMFFFMMFFMMMMMFMMFMFFFMMMFFMFMMFMFFMMMFMFMFFMMMMFFMMFMFMMFFMMFFMMFFMMFFFFMFMMFFMMMMMFMMMMMFFMMFFFMMMFMFMMMFMMMFFMMMFFFFFMMFMMMMFMFMFMFFMMMFMFFFMFFFFMMFMFFMFMFFFMMMFMMFFFMFFFMMFMFFMMFFMMMMMFFMMFFMMFMMMFMMFMMFMFFFMMMMFFMMFMFMMMMFFMMFMFMFMMFFFMMMMFFMMMMFMFMFFFFMMMMFMFMMFMFFMFMMMFFFFFFMFMMFMMMMMFMMFMFFMMFMMFFMFMMFMMMMMMFFFFMFFMMFMMFMFMFFMMMFMFMFFMFMFFMMMFMFMFMMFFFFMMMFFFFFFFMFMMFFFFFMMFMFMFFFMFMFFMFMMFMMFFFFFFMMMFMMMFFMFMMFMFFMFFMFMMMMFFMFFMMFMFMMMMMFMMMMMFFFMMFFMMMFMFFFFFFMMMMMMMMFFMFFFFMMMMMFMMFMMMMFMFFFFFFMFFMMFFFMMMMFMFMMFFMMFMFMFFFMMFMMFFFMFMFMMFMMMMFMFMMMFFFFMFFFFMFMFMFMMFFFMFFMFFMMMFMMMMFMFMMFFFMMMFMFMFMMMFFFFMFMMMMMMMMMFMMMMFFFFMMMFMFFFFMFFMMFMFMFMFMFMMMMMMMFFMMMFMMMFMFMMMFMMFMMFFMMFFFFMFFFMFMFFMFFMFFFMMFFFFMMFFFMMMFMMMFMFMFFFMFFMMMMFMMMFFFMFMMMFMFFMMFFFMMFMFFFMMMFFMFMFMFFMMMFMFFMMMFFFFMMMFMMFMMMFMFFMMFFFMMFFFMMFMMFFMFFMMMMFMFFFFMMMMFFFMFMMMFMMMMFMMFFFFFMFFMFMMFMFFFFMFFFFMMMMMFMMMMFFFMFMMFMFMFMMFMFFFFFMFMFFFFMFFFMFMMFMMMFMFMFFFFMMFFMMFFFFFMMFFMMFFFFMMMMMFMMFMMFMFMMMFMMFFFMFMFFFMFMFFFMFMFMMMMMMFFFFMMMFFFMFFFMMMMFMFFFMMMFMFMMFMFMMFMMMMMFMFFMFFMFMMFFFFFFMFFFFMMFFMFMFFMFMMMMMFMMFMFFMFFFMFMMMMFFMMFMFFMMFMFMMFMFMMMMMFMMMFMMFMMMMMFFMMFMFFFMMMMFFMFMMFFMFMMFMFMMMFMFMFFMMFFFFFMMMFMFMFMMFFFMFMMFFMMFMFFFMMFMMFMFMMFMMFMMMMMMMMMMMMMFMMMFMMMFMMMMMFMMMFMMFMMMFMFMMMMMMFMMMMFMFMFFMFFMFFFMFFFMFMMMFMFMFFMFFFFMMFMMMFMMMMFFMMMMFMFFMFMFMFFFFFFFMMFMMMMFMMMFFMFMMFMMMMFFMMMFMMMMMFMFMMMMMMMFMFMFMFMFFMMFMMMMMFFFFMFFMMMFMFMMMMFMFMMMMFMMFFFMFMMMMFMFMFMMMFFMFFFMFMMMFFMFMMMFFMMMFFFMMFMFMMMMMFFFMFFMMMFMFMFFFMMMFMMFFFFFMFMFFMMFFFMMMMMMMFFFMMFMMMMFMMFMMMFFMFMFFFMMMFFFFFMFMMMFMMMMMFFMFMFFMFMFMFMFFMMFMFFMFFFFFMMMFFFFMMFMFMFMFFFMMMMFMFFFMFMMFMFMMFFMMFMMMFMMFFFMFFMMFMFFMMFFMMMFMMFMFFMMFFMFFFMMFMMFFFFMMMMMMMMFMFFFMFMMMFFFMMMFMMMFMMMMMFFMFMMFFMMFFMMMFFMFFFMMFFFFMMFMMMFFFMMFMMMMFMMMFMFFFMMFMMFFFMMFMMMMMFMMMFFFMFFMMMMMMMMMMFMMMFMFFMMMMMFFFMFMMMMMMMMFFMMMMFFFMMMMMMFMMMMMFMMMFMFFMFMFMFFMFFMMMFFFMFFFMMMFFMFFFMFMMFMFMFMFFMFFFFFMMFFFMMMMFMMFMFFMMMFFMMFMMFMFFFMFFFFMMMFMMMMMFMMFMFFMMMFFMFMFMMFMFFMFMMMMMFMFFFFFMFFFFMFMMFMFMFMMFFFMFFMFMFMMFMMFMFFMFMMFMMMFFMMFMFFMFFFMFFMFFMFFMFFFMMFMMMMFFMMFMMMFFFMMFFMMMFMFFMFFMMFMFMFFMMFMMFMFFFMFMMMMFFMMFMMFFFMMFMFFFFMFMFFFMMMMFMMFFMFMFMMMMMFFMFMMMFMFFMMMMFMFMFFFMFFMMFFMFMMFFMMFMFFFFFMMMMMFMMMFMMMMMMFFFFFMMMMMFFMMFMMMFFMFFMFMMFMFFMMMMMMMMFMFFMMMMFMFFMFFMMFFMMFFFFFFMFFMFFFFFMMFMFFMFFFFFMMMMMMFFFFMFMFFFFFFMMMMMFFFFFMMMMFFMMFFMFMMFFMFMFMMMMMFMMFFFFMFMMFMMFMFFFMMFMMFMFMMMMFMFMMMMFMFMFFMMFFFFMMFMFFFMFFFFMMMFMFFFMFFMMFMMFMMFMFMMFMMFFMFFFMFMMMFMFMMFMFMFMMFFMFFFMFMMMMFFMFFMMMMFFFMMMMMFFFMFMMFMMFFFFFMMFMFMFMFMFFFMFFMMMFMFFFFMFFMFFMFMMFMMMFMFFFMMMMMFFFMMFMFFMFFFMMFMMFMFFFMFMMFFMMFMMMMMMFMFMMFFMFFMMMMMFFMMMMMMMMFFFFFMMMMFFFMMFFFMFFMMFMFMFFMMFMMFFMFFFMFMFMFFFFMFMFFMFMMFMMFFFFMMFFFMFMMFFFMMMMFMMMFMFMFMFMFMMFMFFFFFMFFFFMFFFMMMFFMFFMFFFFFFMMFFMMMFFMMMMFMMMMFMMFMFMFMFFMFMFMFMFFMMMMFMMFFMFFMFMMMMMMFMMFFFFFMMFMMFFMMFFFMFFMMMMMMMFFMFMMMMMMFFFMMMFFFFFMFFMFFMMMMMMMFFMMFFFMFMMMMMFFFFFFMMMMFFMFMMFMMFMMMMMMMMFMMMMFMMMMMFFMFMMMFMFFFFFFMMMFMMFFMFFMMFFMMMFFMMMMMFFMMFMFMMFMMFMFMFFMFMMMMMMMMFMFMMMFMMFMMMMFFFFFFMFFFFFFFFMFMFMMMMMMFMFMMMMMMMMFMFFMMFMFFMFMFFFMMMFMMMMMFFFMMMMMFMFFMMMMMMMFMFFMFMMMFMFMFMMFFMMMMFFFFFFMMMMFFMMFMMMMMMFMFMFFMFMFMMFMMMMFMMMFFFFFMMFMMMFFFMFFMMMFMFFFMFMFFMFMMFFFFFMFFFMMMMMFMMMFFMMMFMFFMMFMFFFMMFFFMMMFMFMFFFMMFMMFFMMFMMMFMFFFFMFMMFFFMMMFMMFMMMMFMFMMMFMMFFMFMFMMFFMFFFMFFMFFFMMMMMMMMMFFMMMMFMFMFFFMMFMMMMFFFMMFMMMFFMMFFMMMFMFMFFFMMMMFFFFFMMMMMMFMFFFMFFMMFFFFMMMMFFMMMFMMMMMFFMMMMMFFFMFFFFFMMFFMFFFMMMFFFMFFFMMMMMFFMMFFFMMFFMFMMMFFMFFMMFMMMFFFMMMFMMFMMMFFMFMFFFFMFFFMFFMFMFMFMMFFFFMMMMMMFMMMMFMFMFMFMFFMFMMMMMMMMMMMFMMFMFMMFFFMMMMFMFFMFFFFMFFFFMMFFMMFFFFMMMFMFMFFMFFMMMMFFFMMMMMFMFMFFFFMFMMMMMMFFFMFMFMFMMFMMMMMMFFMFMFMFFMFMFFMFMMMMMFMFMMFFMMMFFMFMMMMMMMMMFFFFFFFMFMMFMMFMFFFFMFMFFMMFMMFFMMFFMFMFFFFMFMFMMMMMFMMMFMMMFFFMMFMFFMFFFFMMFFFFMMMMMMMMFMFFMFMMFFMFMMMMMMFFMMMFMMMFMMFFFFFFMFMFFMMMMFFMMMF'\n 'MICUMICUMICUMICUSICUMICUMICUMICUMICUMICUMICUSICUSICUMICUMICUMICUMICUMICUMICUMICUMICUMICUMICUMICUMICUMICUMICUMICUSICUMICUMICUSICUMICUSICUMICUMICUSICUMICUMICUMICUMICUMICUMICUMICUMICUMICUSICUMICUMICUMICUMICUMICUMICUMICUMICUMICUMICUMICUMICUMICUMICUMICUSICUMICUSICUSICUMICUMICUMICUMICUMICUMICUMICUSICUMICUMICUMICUSICUMICUMICUMICUMICUMICUSICUMICUMICUMICUSICUSICUMICUSICUMICUMICUMICUMICUSICUMICUSICUMICUMICUMICUMICUMICUSICUMICUMICUMICUSICUMICUMICUMICUMICUMICUSICUMICUMICUSICUSICUSICUMICUSICUMICUMICUMICUMICUMICUMICUMICUSICUMICUMICUMICUMICUSICUSICUMICUSICUMICUMICUMICUMICUMICUSICUMICUSICUSICUMICUSICUMICUMICUMICUMICUMICUMICUMICUMICUMICUMICUMICUSICUMICUMICUSICUSICUMICUMICUMICUMICUMICUMICUMICUMICUSICUMICUMICUMICUMICUSICUMICUSICUMICUMICUMICUMICUMICUMICUMICUMICUSICUSICUMICUSICUMICUMICUMICUMICUSICUSICUMICUMICUMICUMICUMICUMICUSICUMICUMICUMICUMICUSICUMICUMICUMICUMICUMICUMICUMICUMICUMICUSICUSICUMICUMICUSICUMICUSICUMICUMICUSICUMICUMICUSICUMICUMICUSICUSICUSICUMICUMICUSICUMICUSICUMICUMICUMICUSICUMICUMICUMICUMICUSICUMICUMICUMICUSICUMICUMICUMICUSICUMICUSICUMICUMICUMICUMICUMICUMICUMICUMICUMICUMICUMICUMICUSICUMICUMICUSICUMICUMICUMICUMICUSICUMICUSICUMICUMICUSICUMICUMICUMICUMICUMICUMICUMICUMICUSICUMICUMICUMICUMICUMICUMICUMICUMICUMICUSICUSICUSICUMICUMICUSICUMICUSICUMICUSICUSICUSICUMICUSICUMICUMICUMICUSICUSICUMICUMICUMICUMICUMICUMICUMICUMICUMICUMICUMICUSICUMICUSICUMICUMICUMICUSICUMICUMICUMICUMICUMICUMICUMICUSICUMICUMICUSICUSICUMICUMICUMICUMICUMICUMICUMICUMICUSICUMICUSICUSICUMICUMICUMICUMICUMICUMICUMICUMICUMICUMICUMICUMICUMICUSICUMICUMICUMICUSICUMICUSICUMICUSICUMICUMICUMICUMICUSICUMICUSICUMICUMICUMICUMICUMICUSICUSICUSICUMICUMICUMICUMICUMICUSICUMICUSICUMICUMICUSICUMICUMICUMICUMICUMICUMICUMICUMICUMICUSICUMICUMICUSICUSICUMICUMICUMICUMICUMICUSICUMICUMICUSICUMICUMICUMICUMICUMICUMICUMICUSICUSICUMICUMICUMICUSICUSICUMICUSICUSICUMICUMICUMICUMICUMICUSICUMICUMICUMICUMICUMICUSICUMICUMICUMICUMICUSICUSICUMICUMICUMICUMICUMICUMICUSICUMICUMICUSICUMICUMICUMICUMICUMICUMICUMICUSICUMICUMICUMICUSICUSICUMICUSICUMICUSICUMICUSICUMICUMICUSICUMICUMICUMICUMICUMICUSICUMICUMICUSICUMICUSICUMICUMICUMICUSICUSICUMICUSICUSICUMICUMICUMICUMICUMICUMICUMICUMICUMICUMICUMICUMICUSICUSICUMICUSICUMICUSICUMICUMICUMICUMICUMICUMICUMICUMICUMICUMICUMICUMICUSICUMICUSICUMICUSICUMICUSICUSICUSICUMICUMICUMICUMICUMICUSICUMICUMICUMICUMICUMICUMICUSICUSICUSICUMICUSICUSICUMICUSICUMICUMICUMICUMICUMICUMICUMICUMICUMICUMICUSICUMICUMICUMICUMICUMICUSICUSICUSICUMICUMICUMICUMICUMICUSICUMICUMICUSICUMICUMICUMICUMICUMICUMICUMICUMICUSICUSICUMICUMICUMICUMICUMICUSICUSICUMICUMICUMICUSICUMICUMICUMICUMICUMICUMICUMICUSICUMICUMICUMICUMICUMICUMICUMICUMICUMICUMICUSICUMICUMICUMICUMICUMICUSICUMICUMICUMICUMICUMICUMICUMICUSICUMICUMICUMICUMICUMICUMICUMICUMICUMICUMICUSICUMICUSICUMICUMICUMICUMICUSICUSICUMICUMICUMICUMICUMICUMICUMICUSICUMICUSICUSICUMICUSICUMICUMICUMICUMICUSICUMICUSICUMICUMICUMICUMICUMICUMICUMICUMICUMICUMICUMICUMICUMICUMICUMICUMICUMICUSICUMICUSICUSICUMICUMICUSICUMICUMICUMICUMICUMICUSICUMICUMICUMICUMICUMICUSICUMICUMICUMICUMICUSICUMICUSICUMICUMICUMICUSICUMICUMICUSICUSICUMICUMICUMICUMICUMICUMICUSICUMICUSICUSICUMICUMICUMICUMICUMICUSICUMICUMICUSICUMICUMICUMICUMICUMICUSICUMICUSICUMICUMICUMICUSICUMICUMICUSICUMICUMICUMICUMICUMICUMICUSICUMICUSICUMICUSICUMICUSICUMICUSICUMICUMICUSICUMICUMICUMICUMICUMICUMICUMICUSICUMICUMICUMICUMICUMICUMICUMICUSICUMICUMICUSICUSICUMICUMICUMICUMICUSICUMICUMICUMICUMICUMICUMICUSICUMICUSICUMICUMICUMICUMICUMICUMICUMICUMICUMICUMICUMICUMICUMICUSICUMICUSICUSICUSICUMICUMICUMICUMICUSICUMICUMICUSICUMICUMICUMICUSICUMICUMICUMICUMICUMICUSICUSICUMICUMICUMICUMICUSICUMICUMICUMICUSICUSICUMICUMICUMICUSICUMICUMICUMICUMICUMICUMICUMICUSICUMICUMICUMICUMICUMICUSICUMICUMICUSICUMICUMICUMICUMICUMICUMICUMICUSICUMICUSICUMICUMICUMICUMICUSICUMICUMICUMICUMICUMICUMICUMICUMICUSICUMICUSICUSICUMICUSICUMICUMICUSICUMICUSICUMICUMICUMICUMICUMICUMICUSICUSICUMICUMICUMICUMICUMICUMICUSICUMICUMICUMICUSICUMICUSICUSICUMICUMICUSICUMICUMICUMICUMICUMICUMICUMICUMICUSICUSICUMICUMICUSICUMICUMICUSICUMICUMICUSICUMICUMICUMICUMICUMICUSICUMICUMICUMICUMICUMICUMICUMICUMICUMICUSICUMICUSICUSICUMICUMICUMICUMICUSICUSICUMICUSICUMICUMICUMICUMICUSICUMICUMICUMICUMICUMICUSICUMICUMICUMICUMICUSICUMICUSICUMICUMICUMICUSICUMICUMICUMICUMICUMICUMICUSICUSICUMICUMICUMICUMICUMICUSICUMICUMICUMICUMICUMICUMICUMICUMICUMICUMICUMICUMICUMICUMICUMICUMICUMICUMICUMICUMICUSICUMICUMICUSICUMICUSICUMICUMICUMICUMICUSICUMICUMICUMICUMICUMICUMICUMICUMICUMICUMICUSICUSICUSICUMICUMICUSICUSICUMICUMICUMICUMICUMICUMICUMICUMICUSICUSICUMICUMICUMICUMICUMICUMICUMICUMICUSICUMICUMICUMICUMICUMICUMICUSICUMICUMICUMICUSICUMICUMICUMICUMICUMICUMICUMICUMICUMICUSICUMICUMICUMICUSICUMICUMICUMICUMICUSICUMICUMICUMICUMICUSICUMICUMICUMICUMICUMICUMICUMICUMICUMICUSICUMICUMICUMICUSICUMICUSICUMICUMICUMICUMICUMICUMICUSICUMICUMICUMICUMICUMICUMICUSICUMICUSICUMICUMICUMICUMICUMICUMICUSICUMICUMICUMICUMICUMICUMICUMICUSICUMICUSICUSICUMICUSICUSICUMICUSICUMICUMICUMICUSICUMICUMICUSICUMICUMICUMICUMICUMICUMICUMICUSICUMICUMICUMICUSICUMICUMICUMICUMICUMICUSICUMICUMICUMICUMICUMICUMICUMICUMICUMICUMICUMICUMICUMICUMICUSICUSICUMICUMICUSICUMICUSICUMICUMICUMICUMICUMICUMICUMICUMICUSICUMICUMICUMICUMICUMICUSICUSICUMICUMICUMICUMICUMICUSICUMICUMICUSICUMICUMICUMICUSICUMICUMICUMICUMICUMICUMICUMICUMICUMICUMICUMICUMICUMICUMICUMICUMICUSICUMICUMICUMICUMICUMICUSICUSICUSICUSICUMICUMICUMICUMICUMICUMICUSICUMICUMICUMICUMICUSICUSICUMICUSICUMICUSICUMICUMICUSICUMICUMICUMICUMICUSICUMICUMICUMICUMICUSICUMICUMICUMICUMICUMICUMICUMICUMICUSICUMICUMICUSICUMICUSICUSICUMICUMICUSICUMICUSICUMICUMICUMICUSICUSICUMICUSICUMICUSICUMICUMICUMICUMICUSICUMICUSICUMICUMICUSICUMICUMICUSICUMICUMICUMICUMICUMICUSICUMICUSICUSICUMICUMICUMICUMICUSICUMICUMICUMICUMICUMICUMICUSICUMICUMICUSICUSICUMICUMICUMICUMICUSICUMICUMICUMICUMICUSICUMICUMICUSICUSICUMICUSICUMICUMICUMICUMICUMICUMICUSICUMICUMICUMICUMICUMICUMICUMICUMICUMICUMICUMICUSICUSICUMICUMICUSICUMICUMICUMICUMICUMICUMICUMICUSICUMICUMICUMICUMICUSICUSICUMICUMICUMICUSICUSICUMICUSICUSICUMICUMICUMICUMICUMICUMICUMICUMICUMICUSICUMICUSICUMICUMICUMICUMICUSICUMICUSICUMICUSICUMICUMICUSICUMICUMICUMICUMICUMICUMICUMICUSICUMICUMICUMICUSICUMICUSICUSICUMICUMICUMICUMICUMICUMICUMICUSICUMICUMICUMICUMICUSICUMICUMICUSICUMICUMICUMICUMICUSICUSICUSICUMICUSICUMICUSICUMICUMICUSICUMICUMICUMICUMICUMICUMICUMICUMICUMICUSICUSICUMICUMICUSICUMICUMICUMICUMICUMICUMICUMICUSICUMICUSICUMICUMICUMICUMICUMICUMICUMICUMICUMICUMICUSICUMICUSICUSICUMICUMICUMICUMICUMICUMICUMICUSICUMICUMICUSICUMICUMICUMICUMICUSICUMICUMICUMICUMICUMICUMICUMICUMICUMICUMICUMICUMICUMICUMICUMICUMICUMICUMICUMICUMICUMICUMICUMICUMICUMICUMICUSICUSICUMICUMICUMICUMICUMICUMICUMICUMICUSICUMICUMICUSICUMICUMICUMICUMICUMICUMICUMICUSICUMICUMICUSICUSICUMICUSICUSICUMICUSICUSICUMICUSICUMICUMICUSICUSICUSICUSICUSICUMICUSICUMICUSICUSICUSICUMICUMICUMICUMICUMICUSICUMICUMICUMICUMICUMICUMICUSICUMICUSICUMICUMICUMICUMICUMICUMICUSICUSICUSICUMICUMICUMICUMICUMICUMICUMICUMICUMICUMICUSICUMICUMICUMICUMICUSICUMICUSICUMICUMICUMICUMICUMICUMICUMICUMICUMICUMICUMICUMICUMICUMICUMICUSICUMICUMICUSICUMICUMICUMICUSICUSICUMICUMICUMICUMICUMICUSICUMICUSICUSICUMICUSICUMICUMICUMICUSICUMICUSICUMICUMICUMICUMICUMICUSICUMICUMICUMICUMICUSICUMICUMICUSICUSICUSICUSICUMICUSICUMICUMICUMICUMICUMICUSICUMICUSICUSICUSICUMICUSICUSICUMICUSICUMICUMICUMICUMICUMICUMICUMICUMICUSICUMICUSICUMICUSICUMICUMICUMICUMICUMICUSICUMICUMICUMICUMICUMICUMICUSICUMICUMICUMICUMICUMICUMICUMICUSICUSICUMICUMICUSICUSICUMICUMICUMICUMICUMICUMICUMICUMICUMICUMICUMICUMICUMICUSICUSICUSICUMICUMICUMICUSICUMICUMICUMICUMICUMICUMICUMICUMICUMICUMICUMICUMICUMICUMICUMICUMICUMICUMICUSICUMICUMICUMICUMICUMICUSICUMICUMICUMICUMICUMICUSICUSICUMICUMICUSICUSICUMICUSICUSICUMICUMICUMICUMICUMICUMICUMICUMICUSICUSICUSICUMICUMICUMICUMICUMICUMICUMICUMICUMICUMICUMICUSICUMICUMICUMICUMICUMICUMICUMICUSICUMICUSICUMICUMICUMICUMICUMICUMICUMICUMICUSICUMICUMICUSICUMICUSICUMICUSICUMICUMICUMICUMICUMICUSICUSICUSICUMICUMICUMICUMICUMICUMICUSICUMICUSICUMICUMICUMICUMICUSICUMICUMICUSICUMICUMICUMICUMICUMICUMICUSICUSICUMICUMICUMICUSICUMICUMICUMICUSICUMICUMICUSICUMICUSICUMICUMICUMICUMICUMICUMICUMICUMICUSICUMICUSICUMICUSICUMICUMICUMICUMICUMICUMICUSICUMICUMICUMICUSICUMICUMICUMICUSICUMICUSICUMICUSICUMICUSICUSICUSICUMICUMICUSICUSICUMICUSICUMICUMICUMICUMICUMICUMICUMICUSICUMICUMICUSICUSICUMICUMICUMICUMICUSICUSICUSICUMICUMICUMICUSICUMICUMICUMICUMICUMICUMICUMICUMICUSICUMICUMICUMICUMICUMICUMICUSICUMICUSICUMICUSICUMICUMICUSICUSICUMICUSICUMICUMICUSICUMICUSICUSICUMICUMICUMICUMICUSICUSICUMICUSICUMICUMICUMICUMICUMICUMICUMICUMICUMICUMICUMICUSICUSICUSICUMICUMICUMICUSICUMICUMICUMICUMICUMICUMICUSICUSICUMICUMICUMICUMICUMICUSICUSICUSICUSICUSICUMICUMICUMICUMICUMICUSICUMICUMICUMICUSICUSICUMICUSICUMICUMICUSICUMICUMICUMICUSICUSICUSICUMICUMICUMICUMICUMICUMICUMICUMICUMICUSICUSICUMICUMICUSICUMICUMICUMICUSICUMICUMICUMICUSICUSICUSICUMICUSICUMICUSICUMICUMICUSICUMICUMICUMICUMICUSICUMICUSICUSICUMICUMICUMICUMICUMICUMICUMICUMICUMICUMICUMICUMICUMICUMICUMICUMICUSICUMICUMICUMICUMICUMICUMICUMICUMICUMICUMICUMICUSICUMICUMICUMICUMICUMICUMICUMICUMICUMICUSICUMICUMICUMICUSICUMICUMICUMICUMICUSICUMICUSICUMICUMICUMICUMICUMICUMICUMICUMICUSICUMICUSICUMICUMICUSICUMICUMICUSICUSICUMICUMICUMICUMICUMICUMICUMICUMICUMICUMICUMICUMICUMICUMICUMICUMICUSICUMICUMICUSICUSICUMICUMICUSICUMICUSICUSICUMICUMICUSICUSICUMICUMICUMICUMICUSICUSICUSICUMICUMICUSICUMICUMICUMICUMICUMICUMICUSICUMICUMICUSICUMICUMICUSICUMICUMICUMICUSICUSICUMICUMICUMICUMICUMICUSICUMICUMICUMICUSICUMICUSICUSICUMICUMICUMICUSICUMICUMICUMICUMICUMICUMICUMICUSICUMICUMICUMICUMICUSICUSICUMICUMICUMICUSICUSICUMICUMICUSICUMICUMICUSICUMICUSICUSICUMICUSICUMICUSICUMICUMICUSICUMICUMICUMICUMICUSICUSICUMICUSICUMICUMICUMICUMICUMICUSICUMICUMICUMICUMICUMICUMICUSICUMICUMICUMICUMICUSICUSICUSICUMICUSICUMICUMICUSICUMICUMICUMICUMICUSICUMICUMICUSICUMICUMICUMICUMICUMICUMICUSICUMICUSICUSICUMICUMICUMICUMICUMICUMICUMICUMICUMICUMICUMICUSICUMICUMICUMICUMICUSICUSICUSICUSICUMICUMICUMICUMICUSICUMICUMICUMICUMICUMICUMICUMICUMICUSICUMICUSICUMICUMICUMICUMICUMICUMICUSICUSICUMICUSICUSICUMICUMICUSICUMICUMICUMICUMICUMICUMICUMICUMICUMICUMICUMICUMICUMICUMICUMICUMICUMICUMICUMICUMICUSICUSICUMICUMICUMICUMICUMICUSICUMICUMICUMICUMICUMICUMICUSICUMICUMICUMICUMICUSICUMICUMICUMICUMICUMICUMICUMICUSICUMICUMICUMICUMICUMICUMICUMICUSICUMICUMICUMICUMICUMICUMICUSICUSICUMICUMICUSICUMICUMICUMICUMICUMICUSICUSICUMICUMICUMICUMICUMICUMICUMICUMICUSICUMICUMICUMICUMICUSICUMICUMICUSICUMICUSICUMICUMICUMICUSICUMICUMICUMICUMICUMICUMICUMICUSICUSICUMICUMICUMICUMICUMICUMICUMICUMICUMICUMICUMICUMICUMICUMICUMICUMICUMICUMICUMICUMICUMICUMICUSICUSICUMICUMICUMICUMICUMICUMICUMICUMICUMICUMICUMICUMICUMICUSICUMICUMICUSICUMICUMICUMICUSICUMICUMICUMICUSICUSICUMICUMICUSICUMICUSICUMICUMICUMICUMICUSICUMICUSICUSICUMICUMICUMICUMICUMICUMICUMICUMICUMICUMICUMICUSICUMICUMICUMICUMICUSICUMICUSICUMICUMICUSICUMICUMICUMICUMICUMICUMICUMICUMICUMICUSICUMICUMICUMICUMICUMICUMICUMICUMICUMICUSICUMICUMICUMICUMICUMICUMICUMICUMICUMICUMICUSICUMICUMICUMICUMICUMICUMICUMICUSICUSICUMICUMICUMICUMICUMICUSICUMICUMICUMICUSICUMICUMICUMICUMICUMICUMICUMICUMICUSICUSICUMICUMICUMICUMICUSICUSICUSICUMICUSICUMICUSICUSICUMICUSICUMICUMICUMICUSICUMICUSICUSICUMICUMICUSICUSICUMICUMICUMICUMICUMICUMICUSICUMICUSICUMICUSICUMICUMICUSICUSICUMICUMICUMICUMICUMICUMICUSICUMICUMICUMICUMICUMICUMICUMICUSICUMICUMICUMICUMICUMICUSICUMICUMICUMICUSICUMICUMICUMICUMICUMICUMICUMICUMICUMICUMICUMICUMICUMICUMICUMICUMICUMICUMICUMICUMICUMICUMICUMICUMICUMICUSICUSICUMICUMICUMICUMICUMICUMICUMICUSICUMICUMICUMICUSICUSICUMICUMICUMICUMICUMICUSICUMICUMICUMICUSICUMICUSICUMICUMICUMICUMICUMICUMICUMICUMICUMICUMICUMICUSICUMICUMICUMICUMICUSICUSICUMICUMICUMICUMICUMICUMICUSICUMICUMICUMICUMICUMICUMICUMICUMICUMICUMICUMICUMICUMICUMICUMICUMICUMICUMICUMICUSICUMICUMICUMICUMICUMICUMICUMICUSICUMICUMICUSICUMICUMICUMICUMICUMICUMICUMICUSICUMICUSICUSICUMICUMICUMICUMICUMICUMICUMICUSICUSICUSICUMICUSICUSICUMICUMICUMICUSICUMICUMICUMICUMICUMICUSICUMICUMICUMICUMICUSICUMICUMICUMICUMICUMICUSICUMICUMICUMICUSICUSICUMICUMICUSICUMICUMICUMICUMICUMICUMICUMICUSICUMICUMICUMICUMICUSICUMICUMICUMICUSICUMICUMICUSICUMICUMICUMICUSICUSICUMICUMICUMICUSICUMICUMICUMICUMICUSICUMICUMICUMICUMICUMICUMICUSICUMICUMICUMICUMICUSICUSICUSICUMICUSICUMICUMICUMICUMICUMICUMICUMICUMICUMICUMICUSICUMICUMICUMICUMICUSICUMICUMICUMICUMICUMICUMICUMICUMICUMICUMICUMICUMICUMICUMICUMICUMICUMICUMICUSICUMICUSICUMICUMICUSICUSICUSICUMICUMICUMICUMICUSICUMICUMICUMICUSICUMICUMICUMICUMICUMICUMICUMICUMICUMICUMICUMICUMICUMICUMICUMICUMICUMICUMICUMICUMICUMICUMICUMICUMICUMICUMICUSICUMICUMICUSICUSICUMICUSICUMICUSICUMICUMICUMICUMICUMICUMICUMICUMICUMICUMICUSICUMICUMICUMICUMICUSICUMICUSICUMICUMICUSICUMICUMICUSICUMICUMICUMICUMICUSICUMICUMICUMICUMICUSICUMICUMICUMICUSICUSICUMICUMICUMICUMICUMICUMICUSICUMICUMICUMICUSICUMICUMICUMICUMICUMICUMICUMICUSICUMICUMICUMICUMICUMICUSICUMICUSICUSICUMICUMICUMICUMICUSICUMICUMICUMICUMICUMICUMICUMICUSICUSICUMICUSICUMICUMICUSICUMICUMICUMICUMICUMICUMICUSICUMICUMICUMICUMICUMICUMICUMICUMICUMICUMICUSICUMICUMICUMICUMICUSICUMICUMICUSICUSICUMICUSICUMICUSICUMICUMICUSICUMICUSICUMICUMICUMICUMICUMICUSICUMICUSICUMICUMICUMICUMICUMICUMICUMICUMICUMICUMICUSICUSICUMICUMICUMICUSICUMICUSICUMICUMICUMICUMICUMICUMICUSICUMICUSICUMICUMICUMICUMICUMICUMICUMICUMICUMICUMICUMICUMICUSICUSICUMICUSICUMICUSICUMICUMICUMICUMICUSICUMICUSICUMICUMICUMICUMICUSICUMICUMICUMICUMICUMICUMICUMICUMICUMICUMICUMICUMICUMICUMICUMICUMICUMICUMICUMICUSICUSICUMICUMICUMICUSICUMICUMICUMICUMICUMICUMICUMICUSICUMICUMICUMICUMICUMICUMICUMICUMICUMICUMICUSICUMICUMICUMICUMICUMICUMICUSICUMICUMICUMICUMICUMICUMICUMICUMICUMICUMICUSICUSICUMICUSICUMICUMICUMICUMICUMICUMICUMICUMICUSICUMICUSICUMICUMICUMICUMICUMICUMICUSICUMICUSICUMICUMICUSICUMICUMICUMICUSICUMICUSICUMICUSICUSICUMICUMICUSICUSICUMICUMICUMICUMICUMICUMICUMICUSICUMICUMICUMICUMICUMICUMICUMICUSICUMICUMICUMICUMICUMICUMICUMICUMICUSICUMICUMICUSICUMICUMICUMICUMICUMICUMICUMICUMICUMICUMICUMICUSICUMICUMICUSICUMICUMICUMICUMICUSICUSICUMICUSICUMICUMICUMICUMICUMICUMICUMICUSICUSICUSICUMICUMICUMICUSICUMICUMICUMICUMICUMICUMICUMICUSICUSICUMICUMICUSICUSICUMICUSICUMICUMICUMICUMICUMICUMICUMICUMICUSICUMICUMICUSICUMICUMICUMICUMICUMICUSICUSICUSICUMICUMICUMICUMICUMICUSICUMICUMICUMICUMICUMICUMICUMICUMICUMICUSICUSICUMICUSICUMICUSICUMICUMICUSICUSICUSICUMICUMICUSICUMICUMICUSICUSICUSICUSICUMICUSICUMICUMICUMICUMICUMICUMICUSICUMICUMICUMICUMICUMICUMICUMICUMICUMICUMICUMICUMICUMICUMICUMICUSICUMICUMICUMICUMICUMICUMICUSICUSICUSICUMICUSICUMICUMICUSICUMICUSICUMICUMICUMICUMICUMICUMICUMICUMICUMICUSICUMICUMICUMICUMICUMICUSICUMICUMICUMICUSICUMICUSICUMICUMICUMICUMICUMICUMICUSICUMICUMICUMICUMICUMICUMICUMICUMICUMICUSICUMICUMICUMICUSICUMICUMICUMICUMICUSICUMICUMICUSICUMICUSICUSICUMICUMICUMICUMICUMICUSICUSICUSICUMICUSICUMICUSICUSICUMICUMICUMICUMICUMICUSICUMICUSICUMICUSICUMICUMICUMICUMICUMICUMICUMICUMICUSICUMICUMICUSICUSICUMICUMICUMICUMICUSICUMICUMICUMICUMICUMICUMICUMICUMICUMICUMICUSICUSICUSICUSICUMICUMICUMICUMICUMICUMICUMICUMICUMICUMICUMICUSICUMICUMICUMICUMICUMICUSICUMICUMICUMICUMICUMICUMICUSICUMICUMICUMICUMICUMICUMICUSICUMICUMICUMICUMICUSICUMICUMICUMICUMICUSICUSICUMICUMICUMICUSICUMICUMICUMICUMICUMICUMICUSICUSICUSICUMICUMICUMICUMICUMICUMICUMICUMICUSICUMICUMICUMICUMICUMICUMICUMICUMICUMICUMICUMICUMICUMICUMICUSICUMICUSICUMICUSICUMICUSICUSICUSICUMICUMICUMICUMICUMICUMICUMICUMICUSICUMICUMICUSICUMICUMICUMICUMICUMICUMICUMICUMICUSICUSICUMICUMICUMICUSICUMICUSICUMICUSICUMICUMICUMICUMICUMICUMICUMICUMICUMICUSICUSICUMICUMICUSICUSICUMICUMICUMICUMICUMICUMICUMICUMICUMICUSICUMICUMICUMICUSICUMICUSICUSICUSICUMICUSICUMICUSICUMICUMICUMICUMICUMICUSICUMICUSICUMICUSICUSICUMICUMICUSICUSICUMICUMICUMICUMICUMICUMICUMICUMICUSICUSICUMICUSICUMICUMICUMICUSICUMICUMICUSICUSICUMICUSICUMICUMICUMICUMICUSICUMICUMICUMICUSICUMICUMICUMICUMICUMICUMICUMICUMICUSICUMICUMICUSICUMICUMICUSICUMICUMICUMICUMICUSICUMICUSICUMICUSICUSICUSICUMICUMICUMICUSICUMICUMICUSICUMICUSICUSICUMICUMICUMICUMICUMICUMICUMICUMICUMICUSICUMICUSICUMICUSICUMICUSICUSICUMICUSICUMICUMICUMICUSICUSICUMICUMICUMICUMICUMICUMICUMICUMICUMICUSICUMICUMICUSICUMICUMICUSICUMICUSICUMICUMICUMICUMICUSICUMICUMICUMICUMICUMICUMICUMICUMICUMICUMICUSICUMICUMICUMICUMICUSICUMICUMICUSICUMICUSICUMICUMICUSICUMICUMICUMICUMICUMICUMICUMICUMICUMICUMICUMICUMICUMICUSICUMICUSICUMICUSICUMICUSICUMICUSICUMICUMICUMICUMICUMICUMICUMICUMICUMICUMICUMICUMICUMICUMICUMICUMICUMICUMICUMICUSICUMICUMICUMICUSICUMICUMICUMICUSICUMICUMICUMICUSICUMICUMICUMICUMICUMICUMICUMICUMICUMICUMICUSICUMICUMICUMICUSICUMICUMICUMICUMICUMICUMICUMICUMICUSICUMICUMICUSICUMICUMICUSICUMICUSICUMICUMICUMICUMICUMICUMICUSICUMICUMICUMICUMICUMICUMICUMICUSICUSICUSICUMICUMICUMICUMICUMICUMICUMICUMICUSICUMICUMICUMICUSICUSICUMICUSICUMICUSICUMICUSICUMICUMICUMICUMICUMICUMICUMICUMICUMICUMICUMICUMICUSICUMICUSICUSICUSICUMICUMICUMICUMICUSICUSICUMICUMICUMICUMICUMICUMICUMICUSICUMICUMICUMICUMICUMICUSICUMICUMICUSICUMICUSICUMICUMICUMICUMICUMICUMICUMICUMICUMICUMICUMICUSICUMICUMICUMICUMICUMICUMICUMICUSICUMICUSICUMICUMICUMICUMICUMICUMICUMICUMICUMICUMICUMICUMICUSICUMICUMICUMICUMICUMICUMICUSICUMICUMICUSICUSICUMICUMICUMICUMICUMICUMICUSICUSICUMICUMICUMICUMICUMICUMICUSICUMICUMICUMICUSICUMICUMICUMICUMICUMICUMICUMICUSICUMICUMICUMICUMICUMICUSICUMICUSICUMICUSICUMICUMICUMICUMICUMICUMICUSICUMICUMICUMICUMICUSICUMICUSICUSICUMICUMICUMICUMICUSICUSICUMICUSICUMICUSICUMICUMICUMICUMICUSICUMICUMICUMICUMICUMICUSICUMICUSICUMICUSICUSICUMICUMICUMICUMICUMICUMICUMICUSICUMICUMICUMICUMICUMICUSICUMICUMICUMICUSICUMICUMICUMICUMICUMICUMICUMICUMICUMICUSICUMICUMICUSICUMICUMICUMICUMICUMICUSICUSICUMICUMICUMICUMICUMICUMICUMICUMICUSICUMICUMICUSICUMICUSICUSICUSICUSICUSICUMICUMICUMICUMICUMICUSICUMICUMICUSICUMICUMICUSICUMICUSICUMICUMICUMICUMICUMICUMICUSICUMICUSICUMICUSICUMICUMICUSICUMICUSICUSICUMICUMICUMICUMICUMICUSICUMICUMICUSICUMICUMICUSICUMICUSICUMICUMICUMICUMICUMICUMICUSICUMICUMICUSICUMICUMICUMICUMICUMICUSICUMICUMICUMICUSICUMICUSICUMICUMICUMICUSICUMICUMICUMICUMICUSICUMICUMICUMICUMICUMICUMICUMICUMICUSICUSICUSICUMICUMICUMICUMICUMICUSICUMICUSICUSICUMICUSICUMICUMICUMICUMICUMICUMICUMICUMICUMICUMICUMICUSICUMICUMICUMICUMICUMICUMICUMICUSICUMICUMICUMICUSICUMICUMICUMICUSICUMICUMICUSICUMICUMICUMICUMICUSICUMICUMICUMICUSICUMICUMICUSICUSICUMICUSICUMICUMICUMICUMICUSICUMICUMICUSICUMICUSICUSICUMICUSICUMICUSICUMICUMICUMICUSICUMICUSICUSICUMICUMICUMICUMICUMICUMICUSICUMICUMICUSICUMICUMICUMICUMICUMICUMICUSICUMICUMICUMICUMICUMICUMICUMICUMICUMICUMICUMICUSICUMICUMICUMICUMICUMICUMICUMICUSICUMICUMICUMICUMICUMICUSICUMICUMICUSICUMICUSICUMICUMICUMICUMICUSICUSICUMICUMICUMICUMICUSICUMICUMICUMICUMICUMICUMICUMICUMICUSICUMICUMICUMICUMICUMICUSICUMICUSICUMICUSICUMICUSICUSICUMICUMICUMICUMICUMICUMICUMICUMICUMICUMICUSICUMICUMICUMICUSICUMICUSICUMICUMICUMICUSICUSICUMICUMICUMICUMICUMICUMICUMICUMICUMICUSICUMICUMICUMICUMICUMICUSICUSICUMICUMICUMICUMICUMICUMICUSICUMICUMICUSICUMICUMICUSICUSICUMICUMICUMICUMICUMICUMICUSICUMICUMICUMICUMICUSICUMICUMICUMICUMICUMICUMICUMICUMICUMICUMICUSICUSICUSICUMICUMICUMICUMICUMICUMICUMICUSICUMICUMICUSICUMICUMICUMICUSICUMICUSICUMICUMICUMICUMICUSICUSICUMICUMICUMICUMICUMICUSICUMICUSICUMICUMICUSICUMICUMICUMICUSICUMICUSICUMICUMICUMICUMICUMICUMICUMICUMICUMICUMICUSICUSICUSICUMICUMICUMICUMICUMICUMICUMICUMICUMICUMICUSICUMICUMICUMICUSICUMICUMICUMICUMICUMICUSICUSICUSICUMICUSICUMICUMICUSICUMICUSICUMICUMICUSICUSICUMICUMICUMICUMICUMICUMICUMICUSICUMICUMICUSICUSICUMICUMICUMICUMICUMICUMICUMICUMICUSICUMICUSICUMICUMICUMICUMICUSICUSICUMICUMICUMICUMICUSICUMICUMICUMICUMICUMICUMICUMICUMICUMICUSICUMICUMICUMICUMICUMICUSICUSICUSICUSICUMICUMICUSICUMICUSICUMICUMICUSICUSICUSICUMICUMICUMICUMICUSICUMICUMICUSICUMICUSICUMICUMICUMICUMICUMICUMICUMICUMICUSICUMICUSICUSICUSICUMICUSICUSICUMICUMICUMICUMICUSICUMICUMICUMICUMICUMICUSICUMICUMICUMICUSICUMICUSICUMICUSICUSICUMICUMICUMICUMICUSICUMICUSICUMICUMICUMICUMICUMICUSICUMICUMICUMICUMICUSICUMICUMICUMICUSICUSICUMICUSICUMICUMICUMICUMICUMICUMICUSICUMICUMICUMICUMICUMICUMICUMICUMICUMICUMICUMICUMICUSICUMICUMICUMICUMICUMICUMICUMICUMICUMICUSICUSICUMICUMICUMICUMICUSICUMICUMICUMICUSICUMICUMICUMICUSICUSICUSICUMICUMICUMICUSICUMICUMICUMICUMICUMICUSICUSICUSICUMICUMICUMICUMICUMICUMICUMICUSICUMICUMICUMICUSICUMICUMICUMICUMICUMICUMICUMICUSICUSICUMICUMICUSICUMICUMICUMICUSICUMICUSICUMICUMICUSICUMICUMICUSICUMICUMICUMICUMICUSICUMICUMICUMICUSICUSICUMICUSICUMICUMICUMICUMICUMICUMICUSICUSICUMICUMICUMICUMICUMICUSICUMICUMICUMICUMICUMICUMICUSICUMICUMICUMICUMICUMICUSICUMICUMICUMICUMICUMICUMICUSICUMICUMICUMICUMICUMICUMICUMICUMICUMICUSICUMICUMICUMICUMICUSICUMICUMICUMICUMICUMICUMICUMICU'] to numeric",
     "output_type": "error",
     "traceback": [
      "\u001b[0;31m---------------------------------------------------------------------------\u001b[0m",
      "\u001b[0;31mTypeError\u001b[0m                                 Traceback (most recent call last)",
      "Cell \u001b[0;32mIn[40], line 1\u001b[0m\n\u001b[0;32m----> 1\u001b[0m train_mean \u001b[38;5;241m=\u001b[39m \u001b[43mX\u001b[49m\u001b[38;5;241;43m.\u001b[39;49m\u001b[43mmean\u001b[49m\u001b[43m(\u001b[49m\u001b[43m)\u001b[49m\n\u001b[1;32m      2\u001b[0m train_std \u001b[38;5;241m=\u001b[39m X\u001b[38;5;241m.\u001b[39mstd()\n\u001b[1;32m      3\u001b[0m X \u001b[38;5;241m=\u001b[39m (X\u001b[38;5;241m-\u001b[39mtrain_mean)\u001b[38;5;241m/\u001b[39mtrain_std \n",
      "File \u001b[0;32m~/Desktop/DU IA & Santé/Fwd__Matériels_&_instructions_-_DU_IA_SANTE_05_02/venv_td/lib/python3.12/site-packages/pandas/core/frame.py:11693\u001b[0m, in \u001b[0;36mDataFrame.mean\u001b[0;34m(self, axis, skipna, numeric_only, **kwargs)\u001b[0m\n\u001b[1;32m  11685\u001b[0m \u001b[38;5;129m@doc\u001b[39m(make_doc(\u001b[38;5;124m\"\u001b[39m\u001b[38;5;124mmean\u001b[39m\u001b[38;5;124m\"\u001b[39m, ndim\u001b[38;5;241m=\u001b[39m\u001b[38;5;241m2\u001b[39m))\n\u001b[1;32m  11686\u001b[0m \u001b[38;5;28;01mdef\u001b[39;00m\u001b[38;5;250m \u001b[39m\u001b[38;5;21mmean\u001b[39m(\n\u001b[1;32m  11687\u001b[0m     \u001b[38;5;28mself\u001b[39m,\n\u001b[0;32m   (...)\u001b[0m\n\u001b[1;32m  11691\u001b[0m     \u001b[38;5;241m*\u001b[39m\u001b[38;5;241m*\u001b[39mkwargs,\n\u001b[1;32m  11692\u001b[0m ):\n\u001b[0;32m> 11693\u001b[0m     result \u001b[38;5;241m=\u001b[39m \u001b[38;5;28;43msuper\u001b[39;49m\u001b[43m(\u001b[49m\u001b[43m)\u001b[49m\u001b[38;5;241;43m.\u001b[39;49m\u001b[43mmean\u001b[49m\u001b[43m(\u001b[49m\u001b[43maxis\u001b[49m\u001b[43m,\u001b[49m\u001b[43m \u001b[49m\u001b[43mskipna\u001b[49m\u001b[43m,\u001b[49m\u001b[43m \u001b[49m\u001b[43mnumeric_only\u001b[49m\u001b[43m,\u001b[49m\u001b[43m \u001b[49m\u001b[38;5;241;43m*\u001b[39;49m\u001b[38;5;241;43m*\u001b[39;49m\u001b[43mkwargs\u001b[49m\u001b[43m)\u001b[49m\n\u001b[1;32m  11694\u001b[0m     \u001b[38;5;28;01mif\u001b[39;00m \u001b[38;5;28misinstance\u001b[39m(result, Series):\n\u001b[1;32m  11695\u001b[0m         result \u001b[38;5;241m=\u001b[39m result\u001b[38;5;241m.\u001b[39m__finalize__(\u001b[38;5;28mself\u001b[39m, method\u001b[38;5;241m=\u001b[39m\u001b[38;5;124m\"\u001b[39m\u001b[38;5;124mmean\u001b[39m\u001b[38;5;124m\"\u001b[39m)\n",
      "File \u001b[0;32m~/Desktop/DU IA & Santé/Fwd__Matériels_&_instructions_-_DU_IA_SANTE_05_02/venv_td/lib/python3.12/site-packages/pandas/core/generic.py:12420\u001b[0m, in \u001b[0;36mNDFrame.mean\u001b[0;34m(self, axis, skipna, numeric_only, **kwargs)\u001b[0m\n\u001b[1;32m  12413\u001b[0m \u001b[38;5;28;01mdef\u001b[39;00m\u001b[38;5;250m \u001b[39m\u001b[38;5;21mmean\u001b[39m(\n\u001b[1;32m  12414\u001b[0m     \u001b[38;5;28mself\u001b[39m,\n\u001b[1;32m  12415\u001b[0m     axis: Axis \u001b[38;5;241m|\u001b[39m \u001b[38;5;28;01mNone\u001b[39;00m \u001b[38;5;241m=\u001b[39m \u001b[38;5;241m0\u001b[39m,\n\u001b[0;32m   (...)\u001b[0m\n\u001b[1;32m  12418\u001b[0m     \u001b[38;5;241m*\u001b[39m\u001b[38;5;241m*\u001b[39mkwargs,\n\u001b[1;32m  12419\u001b[0m ) \u001b[38;5;241m-\u001b[39m\u001b[38;5;241m>\u001b[39m Series \u001b[38;5;241m|\u001b[39m \u001b[38;5;28mfloat\u001b[39m:\n\u001b[0;32m> 12420\u001b[0m     \u001b[38;5;28;01mreturn\u001b[39;00m \u001b[38;5;28;43mself\u001b[39;49m\u001b[38;5;241;43m.\u001b[39;49m\u001b[43m_stat_function\u001b[49m\u001b[43m(\u001b[49m\n\u001b[1;32m  12421\u001b[0m \u001b[43m        \u001b[49m\u001b[38;5;124;43m\"\u001b[39;49m\u001b[38;5;124;43mmean\u001b[39;49m\u001b[38;5;124;43m\"\u001b[39;49m\u001b[43m,\u001b[49m\u001b[43m \u001b[49m\u001b[43mnanops\u001b[49m\u001b[38;5;241;43m.\u001b[39;49m\u001b[43mnanmean\u001b[49m\u001b[43m,\u001b[49m\u001b[43m \u001b[49m\u001b[43maxis\u001b[49m\u001b[43m,\u001b[49m\u001b[43m \u001b[49m\u001b[43mskipna\u001b[49m\u001b[43m,\u001b[49m\u001b[43m \u001b[49m\u001b[43mnumeric_only\u001b[49m\u001b[43m,\u001b[49m\u001b[43m \u001b[49m\u001b[38;5;241;43m*\u001b[39;49m\u001b[38;5;241;43m*\u001b[39;49m\u001b[43mkwargs\u001b[49m\n\u001b[1;32m  12422\u001b[0m \u001b[43m    \u001b[49m\u001b[43m)\u001b[49m\n",
      "File \u001b[0;32m~/Desktop/DU IA & Santé/Fwd__Matériels_&_instructions_-_DU_IA_SANTE_05_02/venv_td/lib/python3.12/site-packages/pandas/core/generic.py:12377\u001b[0m, in \u001b[0;36mNDFrame._stat_function\u001b[0;34m(self, name, func, axis, skipna, numeric_only, **kwargs)\u001b[0m\n\u001b[1;32m  12373\u001b[0m nv\u001b[38;5;241m.\u001b[39mvalidate_func(name, (), kwargs)\n\u001b[1;32m  12375\u001b[0m validate_bool_kwarg(skipna, \u001b[38;5;124m\"\u001b[39m\u001b[38;5;124mskipna\u001b[39m\u001b[38;5;124m\"\u001b[39m, none_allowed\u001b[38;5;241m=\u001b[39m\u001b[38;5;28;01mFalse\u001b[39;00m)\n\u001b[0;32m> 12377\u001b[0m \u001b[38;5;28;01mreturn\u001b[39;00m \u001b[38;5;28;43mself\u001b[39;49m\u001b[38;5;241;43m.\u001b[39;49m\u001b[43m_reduce\u001b[49m\u001b[43m(\u001b[49m\n\u001b[1;32m  12378\u001b[0m \u001b[43m    \u001b[49m\u001b[43mfunc\u001b[49m\u001b[43m,\u001b[49m\u001b[43m \u001b[49m\u001b[43mname\u001b[49m\u001b[38;5;241;43m=\u001b[39;49m\u001b[43mname\u001b[49m\u001b[43m,\u001b[49m\u001b[43m \u001b[49m\u001b[43maxis\u001b[49m\u001b[38;5;241;43m=\u001b[39;49m\u001b[43maxis\u001b[49m\u001b[43m,\u001b[49m\u001b[43m \u001b[49m\u001b[43mskipna\u001b[49m\u001b[38;5;241;43m=\u001b[39;49m\u001b[43mskipna\u001b[49m\u001b[43m,\u001b[49m\u001b[43m \u001b[49m\u001b[43mnumeric_only\u001b[49m\u001b[38;5;241;43m=\u001b[39;49m\u001b[43mnumeric_only\u001b[49m\n\u001b[1;32m  12379\u001b[0m \u001b[43m\u001b[49m\u001b[43m)\u001b[49m\n",
      "File \u001b[0;32m~/Desktop/DU IA & Santé/Fwd__Matériels_&_instructions_-_DU_IA_SANTE_05_02/venv_td/lib/python3.12/site-packages/pandas/core/frame.py:11562\u001b[0m, in \u001b[0;36mDataFrame._reduce\u001b[0;34m(self, op, name, axis, skipna, numeric_only, filter_type, **kwds)\u001b[0m\n\u001b[1;32m  11558\u001b[0m     df \u001b[38;5;241m=\u001b[39m df\u001b[38;5;241m.\u001b[39mT\n\u001b[1;32m  11560\u001b[0m \u001b[38;5;66;03m# After possibly _get_data and transposing, we are now in the\u001b[39;00m\n\u001b[1;32m  11561\u001b[0m \u001b[38;5;66;03m#  simple case where we can use BlockManager.reduce\u001b[39;00m\n\u001b[0;32m> 11562\u001b[0m res \u001b[38;5;241m=\u001b[39m \u001b[43mdf\u001b[49m\u001b[38;5;241;43m.\u001b[39;49m\u001b[43m_mgr\u001b[49m\u001b[38;5;241;43m.\u001b[39;49m\u001b[43mreduce\u001b[49m\u001b[43m(\u001b[49m\u001b[43mblk_func\u001b[49m\u001b[43m)\u001b[49m\n\u001b[1;32m  11563\u001b[0m out \u001b[38;5;241m=\u001b[39m df\u001b[38;5;241m.\u001b[39m_constructor_from_mgr(res, axes\u001b[38;5;241m=\u001b[39mres\u001b[38;5;241m.\u001b[39maxes)\u001b[38;5;241m.\u001b[39miloc[\u001b[38;5;241m0\u001b[39m]\n\u001b[1;32m  11564\u001b[0m \u001b[38;5;28;01mif\u001b[39;00m out_dtype \u001b[38;5;129;01mis\u001b[39;00m \u001b[38;5;129;01mnot\u001b[39;00m \u001b[38;5;28;01mNone\u001b[39;00m \u001b[38;5;129;01mand\u001b[39;00m out\u001b[38;5;241m.\u001b[39mdtype \u001b[38;5;241m!=\u001b[39m \u001b[38;5;124m\"\u001b[39m\u001b[38;5;124mboolean\u001b[39m\u001b[38;5;124m\"\u001b[39m:\n",
      "File \u001b[0;32m~/Desktop/DU IA & Santé/Fwd__Matériels_&_instructions_-_DU_IA_SANTE_05_02/venv_td/lib/python3.12/site-packages/pandas/core/internals/managers.py:1500\u001b[0m, in \u001b[0;36mBlockManager.reduce\u001b[0;34m(self, func)\u001b[0m\n\u001b[1;32m   1498\u001b[0m res_blocks: \u001b[38;5;28mlist\u001b[39m[Block] \u001b[38;5;241m=\u001b[39m []\n\u001b[1;32m   1499\u001b[0m \u001b[38;5;28;01mfor\u001b[39;00m blk \u001b[38;5;129;01min\u001b[39;00m \u001b[38;5;28mself\u001b[39m\u001b[38;5;241m.\u001b[39mblocks:\n\u001b[0;32m-> 1500\u001b[0m     nbs \u001b[38;5;241m=\u001b[39m \u001b[43mblk\u001b[49m\u001b[38;5;241;43m.\u001b[39;49m\u001b[43mreduce\u001b[49m\u001b[43m(\u001b[49m\u001b[43mfunc\u001b[49m\u001b[43m)\u001b[49m\n\u001b[1;32m   1501\u001b[0m     res_blocks\u001b[38;5;241m.\u001b[39mextend(nbs)\n\u001b[1;32m   1503\u001b[0m index \u001b[38;5;241m=\u001b[39m Index([\u001b[38;5;28;01mNone\u001b[39;00m])  \u001b[38;5;66;03m# placeholder\u001b[39;00m\n",
      "File \u001b[0;32m~/Desktop/DU IA & Santé/Fwd__Matériels_&_instructions_-_DU_IA_SANTE_05_02/venv_td/lib/python3.12/site-packages/pandas/core/internals/blocks.py:404\u001b[0m, in \u001b[0;36mBlock.reduce\u001b[0;34m(self, func)\u001b[0m\n\u001b[1;32m    398\u001b[0m \u001b[38;5;129m@final\u001b[39m\n\u001b[1;32m    399\u001b[0m \u001b[38;5;28;01mdef\u001b[39;00m\u001b[38;5;250m \u001b[39m\u001b[38;5;21mreduce\u001b[39m(\u001b[38;5;28mself\u001b[39m, func) \u001b[38;5;241m-\u001b[39m\u001b[38;5;241m>\u001b[39m \u001b[38;5;28mlist\u001b[39m[Block]:\n\u001b[1;32m    400\u001b[0m     \u001b[38;5;66;03m# We will apply the function and reshape the result into a single-row\u001b[39;00m\n\u001b[1;32m    401\u001b[0m     \u001b[38;5;66;03m#  Block with the same mgr_locs; squeezing will be done at a higher level\u001b[39;00m\n\u001b[1;32m    402\u001b[0m     \u001b[38;5;28;01massert\u001b[39;00m \u001b[38;5;28mself\u001b[39m\u001b[38;5;241m.\u001b[39mndim \u001b[38;5;241m==\u001b[39m \u001b[38;5;241m2\u001b[39m\n\u001b[0;32m--> 404\u001b[0m     result \u001b[38;5;241m=\u001b[39m \u001b[43mfunc\u001b[49m\u001b[43m(\u001b[49m\u001b[38;5;28;43mself\u001b[39;49m\u001b[38;5;241;43m.\u001b[39;49m\u001b[43mvalues\u001b[49m\u001b[43m)\u001b[49m\n\u001b[1;32m    406\u001b[0m     \u001b[38;5;28;01mif\u001b[39;00m \u001b[38;5;28mself\u001b[39m\u001b[38;5;241m.\u001b[39mvalues\u001b[38;5;241m.\u001b[39mndim \u001b[38;5;241m==\u001b[39m \u001b[38;5;241m1\u001b[39m:\n\u001b[1;32m    407\u001b[0m         res_values \u001b[38;5;241m=\u001b[39m result\n",
      "File \u001b[0;32m~/Desktop/DU IA & Santé/Fwd__Matériels_&_instructions_-_DU_IA_SANTE_05_02/venv_td/lib/python3.12/site-packages/pandas/core/frame.py:11481\u001b[0m, in \u001b[0;36mDataFrame._reduce.<locals>.blk_func\u001b[0;34m(values, axis)\u001b[0m\n\u001b[1;32m  11479\u001b[0m         \u001b[38;5;28;01mreturn\u001b[39;00m np\u001b[38;5;241m.\u001b[39marray([result])\n\u001b[1;32m  11480\u001b[0m \u001b[38;5;28;01melse\u001b[39;00m:\n\u001b[0;32m> 11481\u001b[0m     \u001b[38;5;28;01mreturn\u001b[39;00m \u001b[43mop\u001b[49m\u001b[43m(\u001b[49m\u001b[43mvalues\u001b[49m\u001b[43m,\u001b[49m\u001b[43m \u001b[49m\u001b[43maxis\u001b[49m\u001b[38;5;241;43m=\u001b[39;49m\u001b[43maxis\u001b[49m\u001b[43m,\u001b[49m\u001b[43m \u001b[49m\u001b[43mskipna\u001b[49m\u001b[38;5;241;43m=\u001b[39;49m\u001b[43mskipna\u001b[49m\u001b[43m,\u001b[49m\u001b[43m \u001b[49m\u001b[38;5;241;43m*\u001b[39;49m\u001b[38;5;241;43m*\u001b[39;49m\u001b[43mkwds\u001b[49m\u001b[43m)\u001b[49m\n",
      "File \u001b[0;32m~/Desktop/DU IA & Santé/Fwd__Matériels_&_instructions_-_DU_IA_SANTE_05_02/venv_td/lib/python3.12/site-packages/pandas/core/nanops.py:147\u001b[0m, in \u001b[0;36mbottleneck_switch.__call__.<locals>.f\u001b[0;34m(values, axis, skipna, **kwds)\u001b[0m\n\u001b[1;32m    145\u001b[0m         result \u001b[38;5;241m=\u001b[39m alt(values, axis\u001b[38;5;241m=\u001b[39maxis, skipna\u001b[38;5;241m=\u001b[39mskipna, \u001b[38;5;241m*\u001b[39m\u001b[38;5;241m*\u001b[39mkwds)\n\u001b[1;32m    146\u001b[0m \u001b[38;5;28;01melse\u001b[39;00m:\n\u001b[0;32m--> 147\u001b[0m     result \u001b[38;5;241m=\u001b[39m \u001b[43malt\u001b[49m\u001b[43m(\u001b[49m\u001b[43mvalues\u001b[49m\u001b[43m,\u001b[49m\u001b[43m \u001b[49m\u001b[43maxis\u001b[49m\u001b[38;5;241;43m=\u001b[39;49m\u001b[43maxis\u001b[49m\u001b[43m,\u001b[49m\u001b[43m \u001b[49m\u001b[43mskipna\u001b[49m\u001b[38;5;241;43m=\u001b[39;49m\u001b[43mskipna\u001b[49m\u001b[43m,\u001b[49m\u001b[43m \u001b[49m\u001b[38;5;241;43m*\u001b[39;49m\u001b[38;5;241;43m*\u001b[39;49m\u001b[43mkwds\u001b[49m\u001b[43m)\u001b[49m\n\u001b[1;32m    149\u001b[0m \u001b[38;5;28;01mreturn\u001b[39;00m result\n",
      "File \u001b[0;32m~/Desktop/DU IA & Santé/Fwd__Matériels_&_instructions_-_DU_IA_SANTE_05_02/venv_td/lib/python3.12/site-packages/pandas/core/nanops.py:404\u001b[0m, in \u001b[0;36m_datetimelike_compat.<locals>.new_func\u001b[0;34m(values, axis, skipna, mask, **kwargs)\u001b[0m\n\u001b[1;32m    401\u001b[0m \u001b[38;5;28;01mif\u001b[39;00m datetimelike \u001b[38;5;129;01mand\u001b[39;00m mask \u001b[38;5;129;01mis\u001b[39;00m \u001b[38;5;28;01mNone\u001b[39;00m:\n\u001b[1;32m    402\u001b[0m     mask \u001b[38;5;241m=\u001b[39m isna(values)\n\u001b[0;32m--> 404\u001b[0m result \u001b[38;5;241m=\u001b[39m \u001b[43mfunc\u001b[49m\u001b[43m(\u001b[49m\u001b[43mvalues\u001b[49m\u001b[43m,\u001b[49m\u001b[43m \u001b[49m\u001b[43maxis\u001b[49m\u001b[38;5;241;43m=\u001b[39;49m\u001b[43maxis\u001b[49m\u001b[43m,\u001b[49m\u001b[43m \u001b[49m\u001b[43mskipna\u001b[49m\u001b[38;5;241;43m=\u001b[39;49m\u001b[43mskipna\u001b[49m\u001b[43m,\u001b[49m\u001b[43m \u001b[49m\u001b[43mmask\u001b[49m\u001b[38;5;241;43m=\u001b[39;49m\u001b[43mmask\u001b[49m\u001b[43m,\u001b[49m\u001b[43m \u001b[49m\u001b[38;5;241;43m*\u001b[39;49m\u001b[38;5;241;43m*\u001b[39;49m\u001b[43mkwargs\u001b[49m\u001b[43m)\u001b[49m\n\u001b[1;32m    406\u001b[0m \u001b[38;5;28;01mif\u001b[39;00m datetimelike:\n\u001b[1;32m    407\u001b[0m     result \u001b[38;5;241m=\u001b[39m _wrap_results(result, orig_values\u001b[38;5;241m.\u001b[39mdtype, fill_value\u001b[38;5;241m=\u001b[39miNaT)\n",
      "File \u001b[0;32m~/Desktop/DU IA & Santé/Fwd__Matériels_&_instructions_-_DU_IA_SANTE_05_02/venv_td/lib/python3.12/site-packages/pandas/core/nanops.py:720\u001b[0m, in \u001b[0;36mnanmean\u001b[0;34m(values, axis, skipna, mask)\u001b[0m\n\u001b[1;32m    718\u001b[0m count \u001b[38;5;241m=\u001b[39m _get_counts(values\u001b[38;5;241m.\u001b[39mshape, mask, axis, dtype\u001b[38;5;241m=\u001b[39mdtype_count)\n\u001b[1;32m    719\u001b[0m the_sum \u001b[38;5;241m=\u001b[39m values\u001b[38;5;241m.\u001b[39msum(axis, dtype\u001b[38;5;241m=\u001b[39mdtype_sum)\n\u001b[0;32m--> 720\u001b[0m the_sum \u001b[38;5;241m=\u001b[39m \u001b[43m_ensure_numeric\u001b[49m\u001b[43m(\u001b[49m\u001b[43mthe_sum\u001b[49m\u001b[43m)\u001b[49m\n\u001b[1;32m    722\u001b[0m \u001b[38;5;28;01mif\u001b[39;00m axis \u001b[38;5;129;01mis\u001b[39;00m \u001b[38;5;129;01mnot\u001b[39;00m \u001b[38;5;28;01mNone\u001b[39;00m \u001b[38;5;129;01mand\u001b[39;00m \u001b[38;5;28mgetattr\u001b[39m(the_sum, \u001b[38;5;124m\"\u001b[39m\u001b[38;5;124mndim\u001b[39m\u001b[38;5;124m\"\u001b[39m, \u001b[38;5;28;01mFalse\u001b[39;00m):\n\u001b[1;32m    723\u001b[0m     count \u001b[38;5;241m=\u001b[39m cast(np\u001b[38;5;241m.\u001b[39mndarray, count)\n",
      "File \u001b[0;32m~/Desktop/DU IA & Santé/Fwd__Matériels_&_instructions_-_DU_IA_SANTE_05_02/venv_td/lib/python3.12/site-packages/pandas/core/nanops.py:1686\u001b[0m, in \u001b[0;36m_ensure_numeric\u001b[0;34m(x)\u001b[0m\n\u001b[1;32m   1683\u001b[0m inferred \u001b[38;5;241m=\u001b[39m lib\u001b[38;5;241m.\u001b[39minfer_dtype(x)\n\u001b[1;32m   1684\u001b[0m \u001b[38;5;28;01mif\u001b[39;00m inferred \u001b[38;5;129;01min\u001b[39;00m [\u001b[38;5;124m\"\u001b[39m\u001b[38;5;124mstring\u001b[39m\u001b[38;5;124m\"\u001b[39m, \u001b[38;5;124m\"\u001b[39m\u001b[38;5;124mmixed\u001b[39m\u001b[38;5;124m\"\u001b[39m]:\n\u001b[1;32m   1685\u001b[0m     \u001b[38;5;66;03m# GH#44008, GH#36703 avoid casting e.g. strings to numeric\u001b[39;00m\n\u001b[0;32m-> 1686\u001b[0m     \u001b[38;5;28;01mraise\u001b[39;00m \u001b[38;5;167;01mTypeError\u001b[39;00m(\u001b[38;5;124mf\u001b[39m\u001b[38;5;124m\"\u001b[39m\u001b[38;5;124mCould not convert \u001b[39m\u001b[38;5;132;01m{\u001b[39;00mx\u001b[38;5;132;01m}\u001b[39;00m\u001b[38;5;124m to numeric\u001b[39m\u001b[38;5;124m\"\u001b[39m)\n\u001b[1;32m   1687\u001b[0m \u001b[38;5;28;01mtry\u001b[39;00m:\n\u001b[1;32m   1688\u001b[0m     x \u001b[38;5;241m=\u001b[39m x\u001b[38;5;241m.\u001b[39mastype(np\u001b[38;5;241m.\u001b[39mcomplex128)\n",
      "\u001b[0;31mTypeError\u001b[0m: Could not convert ['MMMMFFFFMFMMMMFMFFFFMFFMFFMMMMMFFFFMFMFFFMFMFFMMMMFMFFMFFFFMMMMFFMFMFFMFMFFMFFMFFMMMMFFMFFMFMMFFMFFMFMMFMMFFMFFMMFFFMFFMFMMMMFFMFMMMMMFMMMMFFMMFMMFMFMFFFFMMFFFFFFFFMMFFFMFFMFFFFMMFMMMMMMFMFMMFMFFMMFFFMMMFMFFFFMMMMMMMMMMMMFFMMFFMFMFMMMMMMFFFFFFMMMMMFMFFMMMMMFFMFMMFFMFMMFMFFMFMMFFMMMFMFFFFMFFFFFMMMFFMFMFMFMFMMFMMFFFMMFMFFFFFFMMFMMMFFFMMMFFFMMMMFFMMMFFFMMMMFMFMMMMFMFMMMMMMFMMMMFFMFFFMFFFMMMMFFFMMMMFFFMFMFFMMMMMMMMMMFFFMMFMMMFFFFMFMFMMMFMFFFMMMMMFFFFFMFMFMFFMFFFMFMMMFMFMMMFFFFMFMMMMFMMFFFFFMFFMMMFMFMMFMFMMMMMFMFFFMFMFMFMFMFMFFFFFMMFFMMMMFFMMMMMMMMFFFFMFFFMFFMMFFMMMFMFMFFMMFFMFMFFMMMMMMMFFMFFFMMMMMMMFFFFFMMFMFFMMFMMFMMFFFFMFMMFFMMMMMMFMFMMFMFMFMMMMFFMMFMFFFFMFMFMMMMMMMMFMFMMMMFFFMFFMMFFFFFFMFMMFMFFFFMFFFFMFMMMMMMFFFMMMMFFFFMMMMFMFMMFMMMMFFFMMMFFMMMFMMFMMMFFMFMFMFFMMMMMFMMMFMFMFMMMFFFFMFFMMFFMMMFMMFFFFMMMFFFFMFMFFFFFFMMFFMMFMMFFMFFMFFMMMMFMMFFMFFFMMMFMMMMFMMMMMMMFFMFMFMFFFMMMMMMMMFMFFMFFFMFMMFMFMMFFMMFMMMFFMMMMMFMMFFFFMFMMFMMMMFMMMFFMMMMFMMFMMMFMFFMMMMFMMMMFFFMMFMFFFFFFMFMMMFFFMFMMMFMMMFFMFFMFMMMMMFMFFMMMMMFFMMFMFMMFMMFMMMMFFFMMFFMFFFFFMMMFMFFMFMFMMMMFMFFMMMMMFFFMMFFFMMFFFFMFFFFMMFFMFMMFMFFFMMMFMFFMMFMMFMFMMFMMMFMMFMFFFMFMMMMFFMMFFMFFFMMMFMMMMMFMMMMMFMFMMMFMFMFFFMMFFMMMMMFMMFMFFFMMMFFMFMMFMFFMMMFMFMFFMMMMFFMMFMFMMFFMMFFMMFFMMFFFFMFMMFFMMMMMFMMMMMFFMMFFFMMMFMFMMMFMMMFFMMMFFFFFMMFMMMMFMFMFMFFMMMFMFFFMFFFFMMFMFFMFMFFFMMMFMMFFFMFFFMMFMFFMMFFMMMMMFFMMFFMMFMMMFMMFMMFMFFFMMMMFFMMFMFMMMMFFMMFMFMFMMFFFMMMMFFMMMMFMFMFFFFMMMMFMFMMFMFFMFMMMFFFFFFMFMMFMMMMMFMMFMFFMMFMMFFMFMMFMMMMMMFFFFMFFMMFMMFMFMFFMMMFMFMFFMFMFFMMMFMFMFMMFFFFMMMFFFFFFFMFMMFFFFFMMFMFMFFFMFMFFMFMMFMMFFFFFFMMMFMMMFFMFMMFMFFMFFMFMMMMFFMFFMMFMFMMMMMFMMMMMFFFMMFFMMMFMFFFFFFMMMMMMMMFFMFFFFMMMMMFMMFMMMMFMFFFFFFMFFMMFFFMMMMFMFMMFFMMFMFMFFFMMFMMFFFMFMFMMFMMMMFMFMMMFFFFMFFFFMFMFMFMMFFFMFFMFFMMMFMMMMFMFMMFFFMMMFMFMFMMMFFFFMFMMMMMMMMMFMMMMFFFFMMMFMFFFFMFFMMFMFMFMFMFMMMMMMMFFMMMFMMMFMFMMMFMMFMMFFMMFFFFMFFFMFMFFMFFMFFFMMFFFFMMFFFMMMFMMMFMFMFFFMFFMMMMFMMMFFFMFMMMFMFFMMFFFMMFMFFFMMMFFMFMFMFFMMMFMFFMMMFFFFMMMFMMFMMMFMFFMMFFFMMFFFMMFMMFFMFFMMMMFMFFFFMMMMFFFMFMMMFMMMMFMMFFFFFMFFMFMMFMFFFFMFFFFMMMMMFMMMMFFFMFMMFMFMFMMFMFFFFFMFMFFFFMFFFMFMMFMMMFMFMFFFFMMFFMMFFFFFMMFFMMFFFFMMMMMFMMFMMFMFMMMFMMFFFMFMFFFMFMFFFMFMFMMMMMMFFFFMMMFFFMFFFMMMMFMFFFMMMFMFMMFMFMMFMMMMMFMFFMFFMFMMFFFFFFMFFFFMMFFMFMFFMFMMMMMFMMFMFFMFFFMFMMMMFFMMFMFFMMFMFMMFMFMMMMMFMMMFMMFMMMMMFFMMFMFFFMMMMFFMFMMFFMFMMFMFMMMFMFMFFMMFFFFFMMMFMFMFMMFFFMFMMFFMMFMFFFMMFMMFMFMMFMMFMMMMMMMMMMMMMFMMMFMMMFMMMMMFMMMFMMFMMMFMFMMMMMMFMMMMFMFMFFMFFMFFFMFFFMFMMMFMFMFFMFFFFMMFMMMFMMMMFFMMMMFMFFMFMFMFFFFFFFMMFMMMMFMMMFFMFMMFMMMMFFMMMFMMMMMFMFMMMMMMMFMFMFMFMFFMMFMMMMMFFFFMFFMMMFMFMMMMFMFMMMMFMMFFFMFMMMMFMFMFMMMFFMFFFMFMMMFFMFMMMFFMMMFFFMMFMFMMMMMFFFMFFMMMFMFMFFFMMMFMMFFFFFMFMFFMMFFFMMMMMMMFFFMMFMMMMFMMFMMMFFMFMFFFMMMFFFFFMFMMMFMMMMMFFMFMFFMFMFMFMFFMMFMFFMFFFFFMMMFFFFMMFMFMFMFFFMMMMFMFFFMFMMFMFMMFFMMFMMMFMMFFFMFFMMFMFFMMFFMMMFMMFMFFMMFFMFFFMMFMMFFFFMMMMMMMMFMFFFMFMMMFFFMMMFMMMFMMMMMFFMFMMFFMMFFMMMFFMFFFMMFFFFMMFMMMFFFMMFMMMMFMMMFMFFFMMFMMFFFMMFMMMMMFMMMFFFMFFMMMMMMMMMMFMMMFMFFMMMMMFFFMFMMMMMMMMFFMMMMFFFMMMMMMFMMMMMFMMMFMFFMFMFMFFMFFMMMFFFMFFFMMMFFMFFFMFMMFMFMFMFFMFFFFFMMFFFMMMMFMMFMFFMMMFFMMFMMFMFFFMFFFFMMMFMMMMMFMMFMFFMMMFFMFMFMMFMFFMFMMMMMFMFFFFFMFFFFMFMMFMFMFMMFFFMFFMFMFMMFMMFMFFMFMMFMMMFFMMFMFFMFFFMFFMFFMFFMFFFMMFMMMMFFMMFMMMFFFMMFFMMMFMFFMFFMMFMFMFFMMFMMFMFFFMFMMMMFFMMFMMFFFMMFMFFFFMFMFFFMMMMFMMFFMFMFMMMMMFFMFMMMFMFFMMMMFMFMFFFMFFMMFFMFMMFFMMFMFFFFFMMMMMFMMMFMMMMMMFFFFFMMMMMFFMMFMMMFFMFFMFMMFMFFMMMMMMMMFMFFMMMMFMFFMFFMMFFMMFFFFFFMFFMFFFFFMMFMFFMFFFFFMMMMMMFFFFMFMFFFFFFMMMMMFFFFFMMMMFFMMFFMFMMFFMFMFMMMMMFMMFFFFMFMMFMMFMFFFMMFMMFMFMMMMFMFMMMMFMFMFFMMFFFFMMFMFFFMFFFFMMMFMFFFMFFMMFMMFMMFMFMMFMMFFMFFFMFMMMFMFMMFMFMFMMFFMFFFMFMMMMFFMFFMMMMFFFMMMMMFFFMFMMFMMFFFFFMMFMFMFMFMFFFMFFMMMFMFFFFMFFMFFMFMMFMMMFMFFFMMMMMFFFMMFMFFMFFFMMFMMFMFFFMFMMFFMMFMMMMMMFMFMMFFMFFMMMMMFFMMMMMMMMFFFFFMMMMFFFMMFFFMFFMMFMFMFFMMFMMFFMFFFMFMFMFFFFMFMFFMFMMFMMFFFFMMFFFMFMMFFFMMMMFMMMFMFMFMFMFMMFMFFFFFMFFFFMFFFMMMFFMFFMFFFFFFMMFFMMMFFMMMMFMMMMFMMFMFMFMFFMFMFMFMFFMMMMFMMFFMFFMFMMMMMMFMMFFFFFMMFMMFFMMFFFMFFMMMMMMMFFMFMMMMMMFFFMMMFFFFFMFFMFFMMMMMMMFFMMFFFMFMMMMMFFFFFFMMMMFFMFMMFMMFMMMMMMMMFMMMMFMMMMMFFMFMMMFMFFFFFFMMMFMMFFMFFMMFFMMMFFMMMMMFFMMFMFMMFMMFMFMFFMFMMMMMMMMFMFMMMFMMFMMMMFFFFFFMFFFFFFFFMFMFMMMMMMFMFMMMMMMMMFMFFMMFMFFMFMFFFMMMFMMMMMFFFMMMMMFMFFMMMMMMMFMFFMFMMMFMFMFMMFFMMMMFFFFFFMMMMFFMMFMMMMMMFMFMFFMFMFMMFMMMMFMMMFFFFFMMFMMMFFFMFFMMMFMFFFMFMFFMFMMFFFFFMFFFMMMMMFMMMFFMMMFMFFMMFMFFFMMFFFMMMFMFMFFFMMFMMFFMMFMMMFMFFFFMFMMFFFMMMFMMFMMMMFMFMMMFMMFFMFMFMMFFMFFFMFFMFFFMMMMMMMMMFFMMMMFMFMFFFMMFMMMMFFFMMFMMMFFMMFFMMMFMFMFFFMMMMFFFFFMMMMMMFMFFFMFFMMFFFFMMMMFFMMMFMMMMMFFMMMMMFFFMFFFFFMMFFMFFFMMMFFFMFFFMMMMMFFMMFFFMMFFMFMMMFFMFFMMFMMMFFFMMMFMMFMMMFFMFMFFFFMFFFMFFMFMFMFMMFFFFMMMMMMFMMMMFMFMFMFMFFMFMMMMMMMMMMMFMMFMFMMFFFMMMMFMFFMFFFFMFFFFMMFFMMFFFFMMMFMFMFFMFFMMMMFFFMMMMMFMFMFFFFMFMMMMMMFFFMFMFMFMMFMMMMMMFFMFMFMFFMFMFFMFMMMMMFMFMMFFMMMFFMFMMMMMMMMMFFFFFFFMFMMFMMFMFFFFMFMFFMMFMMFFMMFFMFMFFFFMFMFMMMMMFMMMFMMMFFFMMFMFFMFFFFMMFFFFMMMMMMMMFMFFMFMMFFMFMMMMMMFFMMMFMMMFMMFFFFFFMFMFFMMMMFFMMMF'\n 'MICUMICUMICUMICUSICUMICUMICUMICUMICUMICUMICUSICUSICUMICUMICUMICUMICUMICUMICUMICUMICUMICUMICUMICUMICUMICUMICUMICUSICUMICUMICUSICUMICUSICUMICUMICUSICUMICUMICUMICUMICUMICUMICUMICUMICUMICUSICUMICUMICUMICUMICUMICUMICUMICUMICUMICUMICUMICUMICUMICUMICUMICUSICUMICUSICUSICUMICUMICUMICUMICUMICUMICUMICUSICUMICUMICUMICUSICUMICUMICUMICUMICUMICUSICUMICUMICUMICUSICUSICUMICUSICUMICUMICUMICUMICUSICUMICUSICUMICUMICUMICUMICUMICUSICUMICUMICUMICUSICUMICUMICUMICUMICUMICUSICUMICUMICUSICUSICUSICUMICUSICUMICUMICUMICUMICUMICUMICUMICUSICUMICUMICUMICUMICUSICUSICUMICUSICUMICUMICUMICUMICUMICUSICUMICUSICUSICUMICUSICUMICUMICUMICUMICUMICUMICUMICUMICUMICUMICUMICUSICUMICUMICUSICUSICUMICUMICUMICUMICUMICUMICUMICUMICUSICUMICUMICUMICUMICUSICUMICUSICUMICUMICUMICUMICUMICUMICUMICUMICUSICUSICUMICUSICUMICUMICUMICUMICUSICUSICUMICUMICUMICUMICUMICUMICUSICUMICUMICUMICUMICUSICUMICUMICUMICUMICUMICUMICUMICUMICUMICUSICUSICUMICUMICUSICUMICUSICUMICUMICUSICUMICUMICUSICUMICUMICUSICUSICUSICUMICUMICUSICUMICUSICUMICUMICUMICUSICUMICUMICUMICUMICUSICUMICUMICUMICUSICUMICUMICUMICUSICUMICUSICUMICUMICUMICUMICUMICUMICUMICUMICUMICUMICUMICUMICUSICUMICUMICUSICUMICUMICUMICUMICUSICUMICUSICUMICUMICUSICUMICUMICUMICUMICUMICUMICUMICUMICUSICUMICUMICUMICUMICUMICUMICUMICUMICUMICUSICUSICUSICUMICUMICUSICUMICUSICUMICUSICUSICUSICUMICUSICUMICUMICUMICUSICUSICUMICUMICUMICUMICUMICUMICUMICUMICUMICUMICUMICUSICUMICUSICUMICUMICUMICUSICUMICUMICUMICUMICUMICUMICUMICUSICUMICUMICUSICUSICUMICUMICUMICUMICUMICUMICUMICUMICUSICUMICUSICUSICUMICUMICUMICUMICUMICUMICUMICUMICUMICUMICUMICUMICUMICUSICUMICUMICUMICUSICUMICUSICUMICUSICUMICUMICUMICUMICUSICUMICUSICUMICUMICUMICUMICUMICUSICUSICUSICUMICUMICUMICUMICUMICUSICUMICUSICUMICUMICUSICUMICUMICUMICUMICUMICUMICUMICUMICUMICUSICUMICUMICUSICUSICUMICUMICUMICUMICUMICUSICUMICUMICUSICUMICUMICUMICUMICUMICUMICUMICUSICUSICUMICUMICUMICUSICUSICUMICUSICUSICUMICUMICUMICUMICUMICUSICUMICUMICUMICUMICUMICUSICUMICUMICUMICUMICUSICUSICUMICUMICUMICUMICUMICUMICUSICUMICUMICUSICUMICUMICUMICUMICUMICUMICUMICUSICUMICUMICUMICUSICUSICUMICUSICUMICUSICUMICUSICUMICUMICUSICUMICUMICUMICUMICUMICUSICUMICUMICUSICUMICUSICUMICUMICUMICUSICUSICUMICUSICUSICUMICUMICUMICUMICUMICUMICUMICUMICUMICUMICUMICUMICUSICUSICUMICUSICUMICUSICUMICUMICUMICUMICUMICUMICUMICUMICUMICUMICUMICUMICUSICUMICUSICUMICUSICUMICUSICUSICUSICUMICUMICUMICUMICUMICUSICUMICUMICUMICUMICUMICUMICUSICUSICUSICUMICUSICUSICUMICUSICUMICUMICUMICUMICUMICUMICUMICUMICUMICUMICUSICUMICUMICUMICUMICUMICUSICUSICUSICUMICUMICUMICUMICUMICUSICUMICUMICUSICUMICUMICUMICUMICUMICUMICUMICUMICUSICUSICUMICUMICUMICUMICUMICUSICUSICUMICUMICUMICUSICUMICUMICUMICUMICUMICUMICUMICUSICUMICUMICUMICUMICUMICUMICUMICUMICUMICUMICUSICUMICUMICUMICUMICUMICUSICUMICUMICUMICUMICUMICUMICUMICUSICUMICUMICUMICUMICUMICUMICUMICUMICUMICUMICUSICUMICUSICUMICUMICUMICUMICUSICUSICUMICUMICUMICUMICUMICUMICUMICUSICUMICUSICUSICUMICUSICUMICUMICUMICUMICUSICUMICUSICUMICUMICUMICUMICUMICUMICUMICUMICUMICUMICUMICUMICUMICUMICUMICUMICUMICUSICUMICUSICUSICUMICUMICUSICUMICUMICUMICUMICUMICUSICUMICUMICUMICUMICUMICUSICUMICUMICUMICUMICUSICUMICUSICUMICUMICUMICUSICUMICUMICUSICUSICUMICUMICUMICUMICUMICUMICUSICUMICUSICUSICUMICUMICUMICUMICUMICUSICUMICUMICUSICUMICUMICUMICUMICUMICUSICUMICUSICUMICUMICUMICUSICUMICUMICUSICUMICUMICUMICUMICUMICUMICUSICUMICUSICUMICUSICUMICUSICUMICUSICUMICUMICUSICUMICUMICUMICUMICUMICUMICUMICUSICUMICUMICUMICUMICUMICUMICUMICUSICUMICUMICUSICUSICUMICUMICUMICUMICUSICUMICUMICUMICUMICUMICUMICUSICUMICUSICUMICUMICUMICUMICUMICUMICUMICUMICUMICUMICUMICUMICUMICUSICUMICUSICUSICUSICUMICUMICUMICUMICUSICUMICUMICUSICUMICUMICUMICUSICUMICUMICUMICUMICUMICUSICUSICUMICUMICUMICUMICUSICUMICUMICUMICUSICUSICUMICUMICUMICUSICUMICUMICUMICUMICUMICUMICUMICUSICUMICUMICUMICUMICUMICUSICUMICUMICUSICUMICUMICUMICUMICUMICUMICUMICUSICUMICUSICUMICUMICUMICUMICUSICUMICUMICUMICUMICUMICUMICUMICUMICUSICUMICUSICUSICUMICUSICUMICUMICUSICUMICUSICUMICUMICUMICUMICUMICUMICUSICUSICUMICUMICUMICUMICUMICUMICUSICUMICUMICUMICUSICUMICUSICUSICUMICUMICUSICUMICUMICUMICUMICUMICUMICUMICUMICUSICUSICUMICUMICUSICUMICUMICUSICUMICUMICUSICUMICUMICUMICUMICUMICUSICUMICUMICUMICUMICUMICUMICUMICUMICUMICUSICUMICUSICUSICUMICUMICUMICUMICUSICUSICUMICUSICUMICUMICUMICUMICUSICUMICUMICUMICUMICUMICUSICUMICUMICUMICUMICUSICUMICUSICUMICUMICUMICUSICUMICUMICUMICUMICUMICUMICUSICUSICUMICUMICUMICUMICUMICUSICUMICUMICUMICUMICUMICUMICUMICUMICUMICUMICUMICUMICUMICUMICUMICUMICUMICUMICUMICUMICUSICUMICUMICUSICUMICUSICUMICUMICUMICUMICUSICUMICUMICUMICUMICUMICUMICUMICUMICUMICUMICUSICUSICUSICUMICUMICUSICUSICUMICUMICUMICUMICUMICUMICUMICUMICUSICUSICUMICUMICUMICUMICUMICUMICUMICUMICUSICUMICUMICUMICUMICUMICUMICUSICUMICUMICUMICUSICUMICUMICUMICUMICUMICUMICUMICUMICUMICUSICUMICUMICUMICUSICUMICUMICUMICUMICUSICUMICUMICUMICUMICUSICUMICUMICUMICUMICUMICUMICUMICUMICUMICUSICUMICUMICUMICUSICUMICUSICUMICUMICUMICUMICUMICUMICUSICUMICUMICUMICUMICUMICUMICUSICUMICUSICUMICUMICUMICUMICUMICUMICUSICUMICUMICUMICUMICUMICUMICUMICUSICUMICUSICUSICUMICUSICUSICUMICUSICUMICUMICUMICUSICUMICUMICUSICUMICUMICUMICUMICUMICUMICUMICUSICUMICUMICUMICUSICUMICUMICUMICUMICUMICUSICUMICUMICUMICUMICUMICUMICUMICUMICUMICUMICUMICUMICUMICUMICUSICUSICUMICUMICUSICUMICUSICUMICUMICUMICUMICUMICUMICUMICUMICUSICUMICUMICUMICUMICUMICUSICUSICUMICUMICUMICUMICUMICUSICUMICUMICUSICUMICUMICUMICUSICUMICUMICUMICUMICUMICUMICUMICUMICUMICUMICUMICUMICUMICUMICUMICUMICUSICUMICUMICUMICUMICUMICUSICUSICUSICUSICUMICUMICUMICUMICUMICUMICUSICUMICUMICUMICUMICUSICUSICUMICUSICUMICUSICUMICUMICUSICUMICUMICUMICUMICUSICUMICUMICUMICUMICUSICUMICUMICUMICUMICUMICUMICUMICUMICUSICUMICUMICUSICUMICUSICUSICUMICUMICUSICUMICUSICUMICUMICUMICUSICUSICUMICUSICUMICUSICUMICUMICUMICUMICUSICUMICUSICUMICUMICUSICUMICUMICUSICUMICUMICUMICUMICUMICUSICUMICUSICUSICUMICUMICUMICUMICUSICUMICUMICUMICUMICUMICUMICUSICUMICUMICUSICUSICUMICUMICUMICUMICUSICUMICUMICUMICUMICUSICUMICUMICUSICUSICUMICUSICUMICUMICUMICUMICUMICUMICUSICUMICUMICUMICUMICUMICUMICUMICUMICUMICUMICUMICUSICUSICUMICUMICUSICUMICUMICUMICUMICUMICUMICUMICUSICUMICUMICUMICUMICUSICUSICUMICUMICUMICUSICUSICUMICUSICUSICUMICUMICUMICUMICUMICUMICUMICUMICUMICUSICUMICUSICUMICUMICUMICUMICUSICUMICUSICUMICUSICUMICUMICUSICUMICUMICUMICUMICUMICUMICUMICUSICUMICUMICUMICUSICUMICUSICUSICUMICUMICUMICUMICUMICUMICUMICUSICUMICUMICUMICUMICUSICUMICUMICUSICUMICUMICUMICUMICUSICUSICUSICUMICUSICUMICUSICUMICUMICUSICUMICUMICUMICUMICUMICUMICUMICUMICUMICUSICUSICUMICUMICUSICUMICUMICUMICUMICUMICUMICUMICUSICUMICUSICUMICUMICUMICUMICUMICUMICUMICUMICUMICUMICUSICUMICUSICUSICUMICUMICUMICUMICUMICUMICUMICUSICUMICUMICUSICUMICUMICUMICUMICUSICUMICUMICUMICUMICUMICUMICUMICUMICUMICUMICUMICUMICUMICUMICUMICUMICUMICUMICUMICUMICUMICUMICUMICUMICUMICUMICUSICUSICUMICUMICUMICUMICUMICUMICUMICUMICUSICUMICUMICUSICUMICUMICUMICUMICUMICUMICUMICUSICUMICUMICUSICUSICUMICUSICUSICUMICUSICUSICUMICUSICUMICUMICUSICUSICUSICUSICUSICUMICUSICUMICUSICUSICUSICUMICUMICUMICUMICUMICUSICUMICUMICUMICUMICUMICUMICUSICUMICUSICUMICUMICUMICUMICUMICUMICUSICUSICUSICUMICUMICUMICUMICUMICUMICUMICUMICUMICUMICUSICUMICUMICUMICUMICUSICUMICUSICUMICUMICUMICUMICUMICUMICUMICUMICUMICUMICUMICUMICUMICUMICUMICUSICUMICUMICUSICUMICUMICUMICUSICUSICUMICUMICUMICUMICUMICUSICUMICUSICUSICUMICUSICUMICUMICUMICUSICUMICUSICUMICUMICUMICUMICUMICUSICUMICUMICUMICUMICUSICUMICUMICUSICUSICUSICUSICUMICUSICUMICUMICUMICUMICUMICUSICUMICUSICUSICUSICUMICUSICUSICUMICUSICUMICUMICUMICUMICUMICUMICUMICUMICUSICUMICUSICUMICUSICUMICUMICUMICUMICUMICUSICUMICUMICUMICUMICUMICUMICUSICUMICUMICUMICUMICUMICUMICUMICUSICUSICUMICUMICUSICUSICUMICUMICUMICUMICUMICUMICUMICUMICUMICUMICUMICUMICUMICUSICUSICUSICUMICUMICUMICUSICUMICUMICUMICUMICUMICUMICUMICUMICUMICUMICUMICUMICUMICUMICUMICUMICUMICUMICUSICUMICUMICUMICUMICUMICUSICUMICUMICUMICUMICUMICUSICUSICUMICUMICUSICUSICUMICUSICUSICUMICUMICUMICUMICUMICUMICUMICUMICUSICUSICUSICUMICUMICUMICUMICUMICUMICUMICUMICUMICUMICUMICUSICUMICUMICUMICUMICUMICUMICUMICUSICUMICUSICUMICUMICUMICUMICUMICUMICUMICUMICUSICUMICUMICUSICUMICUSICUMICUSICUMICUMICUMICUMICUMICUSICUSICUSICUMICUMICUMICUMICUMICUMICUSICUMICUSICUMICUMICUMICUMICUSICUMICUMICUSICUMICUMICUMICUMICUMICUMICUSICUSICUMICUMICUMICUSICUMICUMICUMICUSICUMICUMICUSICUMICUSICUMICUMICUMICUMICUMICUMICUMICUMICUSICUMICUSICUMICUSICUMICUMICUMICUMICUMICUMICUSICUMICUMICUMICUSICUMICUMICUMICUSICUMICUSICUMICUSICUMICUSICUSICUSICUMICUMICUSICUSICUMICUSICUMICUMICUMICUMICUMICUMICUMICUSICUMICUMICUSICUSICUMICUMICUMICUMICUSICUSICUSICUMICUMICUMICUSICUMICUMICUMICUMICUMICUMICUMICUMICUSICUMICUMICUMICUMICUMICUMICUSICUMICUSICUMICUSICUMICUMICUSICUSICUMICUSICUMICUMICUSICUMICUSICUSICUMICUMICUMICUMICUSICUSICUMICUSICUMICUMICUMICUMICUMICUMICUMICUMICUMICUMICUMICUSICUSICUSICUMICUMICUMICUSICUMICUMICUMICUMICUMICUMICUSICUSICUMICUMICUMICUMICUMICUSICUSICUSICUSICUSICUMICUMICUMICUMICUMICUSICUMICUMICUMICUSICUSICUMICUSICUMICUMICUSICUMICUMICUMICUSICUSICUSICUMICUMICUMICUMICUMICUMICUMICUMICUMICUSICUSICUMICUMICUSICUMICUMICUMICUSICUMICUMICUMICUSICUSICUSICUMICUSICUMICUSICUMICUMICUSICUMICUMICUMICUMICUSICUMICUSICUSICUMICUMICUMICUMICUMICUMICUMICUMICUMICUMICUMICUMICUMICUMICUMICUMICUSICUMICUMICUMICUMICUMICUMICUMICUMICUMICUMICUMICUSICUMICUMICUMICUMICUMICUMICUMICUMICUMICUSICUMICUMICUMICUSICUMICUMICUMICUMICUSICUMICUSICUMICUMICUMICUMICUMICUMICUMICUMICUSICUMICUSICUMICUMICUSICUMICUMICUSICUSICUMICUMICUMICUMICUMICUMICUMICUMICUMICUMICUMICUMICUMICUMICUMICUMICUSICUMICUMICUSICUSICUMICUMICUSICUMICUSICUSICUMICUMICUSICUSICUMICUMICUMICUMICUSICUSICUSICUMICUMICUSICUMICUMICUMICUMICUMICUMICUSICUMICUMICUSICUMICUMICUSICUMICUMICUMICUSICUSICUMICUMICUMICUMICUMICUSICUMICUMICUMICUSICUMICUSICUSICUMICUMICUMICUSICUMICUMICUMICUMICUMICUMICUMICUSICUMICUMICUMICUMICUSICUSICUMICUMICUMICUSICUSICUMICUMICUSICUMICUMICUSICUMICUSICUSICUMICUSICUMICUSICUMICUMICUSICUMICUMICUMICUMICUSICUSICUMICUSICUMICUMICUMICUMICUMICUSICUMICUMICUMICUMICUMICUMICUSICUMICUMICUMICUMICUSICUSICUSICUMICUSICUMICUMICUSICUMICUMICUMICUMICUSICUMICUMICUSICUMICUMICUMICUMICUMICUMICUSICUMICUSICUSICUMICUMICUMICUMICUMICUMICUMICUMICUMICUMICUMICUSICUMICUMICUMICUMICUSICUSICUSICUSICUMICUMICUMICUMICUSICUMICUMICUMICUMICUMICUMICUMICUMICUSICUMICUSICUMICUMICUMICUMICUMICUMICUSICUSICUMICUSICUSICUMICUMICUSICUMICUMICUMICUMICUMICUMICUMICUMICUMICUMICUMICUMICUMICUMICUMICUMICUMICUMICUMICUMICUSICUSICUMICUMICUMICUMICUMICUSICUMICUMICUMICUMICUMICUMICUSICUMICUMICUMICUMICUSICUMICUMICUMICUMICUMICUMICUMICUSICUMICUMICUMICUMICUMICUMICUMICUSICUMICUMICUMICUMICUMICUMICUSICUSICUMICUMICUSICUMICUMICUMICUMICUMICUSICUSICUMICUMICUMICUMICUMICUMICUMICUMICUSICUMICUMICUMICUMICUSICUMICUMICUSICUMICUSICUMICUMICUMICUSICUMICUMICUMICUMICUMICUMICUMICUSICUSICUMICUMICUMICUMICUMICUMICUMICUMICUMICUMICUMICUMICUMICUMICUMICUMICUMICUMICUMICUMICUMICUMICUSICUSICUMICUMICUMICUMICUMICUMICUMICUMICUMICUMICUMICUMICUMICUSICUMICUMICUSICUMICUMICUMICUSICUMICUMICUMICUSICUSICUMICUMICUSICUMICUSICUMICUMICUMICUMICUSICUMICUSICUSICUMICUMICUMICUMICUMICUMICUMICUMICUMICUMICUMICUSICUMICUMICUMICUMICUSICUMICUSICUMICUMICUSICUMICUMICUMICUMICUMICUMICUMICUMICUMICUSICUMICUMICUMICUMICUMICUMICUMICUMICUMICUSICUMICUMICUMICUMICUMICUMICUMICUMICUMICUMICUSICUMICUMICUMICUMICUMICUMICUMICUSICUSICUMICUMICUMICUMICUMICUSICUMICUMICUMICUSICUMICUMICUMICUMICUMICUMICUMICUMICUSICUSICUMICUMICUMICUMICUSICUSICUSICUMICUSICUMICUSICUSICUMICUSICUMICUMICUMICUSICUMICUSICUSICUMICUMICUSICUSICUMICUMICUMICUMICUMICUMICUSICUMICUSICUMICUSICUMICUMICUSICUSICUMICUMICUMICUMICUMICUMICUSICUMICUMICUMICUMICUMICUMICUMICUSICUMICUMICUMICUMICUMICUSICUMICUMICUMICUSICUMICUMICUMICUMICUMICUMICUMICUMICUMICUMICUMICUMICUMICUMICUMICUMICUMICUMICUMICUMICUMICUMICUMICUMICUMICUSICUSICUMICUMICUMICUMICUMICUMICUMICUSICUMICUMICUMICUSICUSICUMICUMICUMICUMICUMICUSICUMICUMICUMICUSICUMICUSICUMICUMICUMICUMICUMICUMICUMICUMICUMICUMICUMICUSICUMICUMICUMICUMICUSICUSICUMICUMICUMICUMICUMICUMICUSICUMICUMICUMICUMICUMICUMICUMICUMICUMICUMICUMICUMICUMICUMICUMICUMICUMICUMICUMICUSICUMICUMICUMICUMICUMICUMICUMICUSICUMICUMICUSICUMICUMICUMICUMICUMICUMICUMICUSICUMICUSICUSICUMICUMICUMICUMICUMICUMICUMICUSICUSICUSICUMICUSICUSICUMICUMICUMICUSICUMICUMICUMICUMICUMICUSICUMICUMICUMICUMICUSICUMICUMICUMICUMICUMICUSICUMICUMICUMICUSICUSICUMICUMICUSICUMICUMICUMICUMICUMICUMICUMICUSICUMICUMICUMICUMICUSICUMICUMICUMICUSICUMICUMICUSICUMICUMICUMICUSICUSICUMICUMICUMICUSICUMICUMICUMICUMICUSICUMICUMICUMICUMICUMICUMICUSICUMICUMICUMICUMICUSICUSICUSICUMICUSICUMICUMICUMICUMICUMICUMICUMICUMICUMICUMICUSICUMICUMICUMICUMICUSICUMICUMICUMICUMICUMICUMICUMICUMICUMICUMICUMICUMICUMICUMICUMICUMICUMICUMICUSICUMICUSICUMICUMICUSICUSICUSICUMICUMICUMICUMICUSICUMICUMICUMICUSICUMICUMICUMICUMICUMICUMICUMICUMICUMICUMICUMICUMICUMICUMICUMICUMICUMICUMICUMICUMICUMICUMICUMICUMICUMICUMICUSICUMICUMICUSICUSICUMICUSICUMICUSICUMICUMICUMICUMICUMICUMICUMICUMICUMICUMICUSICUMICUMICUMICUMICUSICUMICUSICUMICUMICUSICUMICUMICUSICUMICUMICUMICUMICUSICUMICUMICUMICUMICUSICUMICUMICUMICUSICUSICUMICUMICUMICUMICUMICUMICUSICUMICUMICUMICUSICUMICUMICUMICUMICUMICUMICUMICUSICUMICUMICUMICUMICUMICUSICUMICUSICUSICUMICUMICUMICUMICUSICUMICUMICUMICUMICUMICUMICUMICUSICUSICUMICUSICUMICUMICUSICUMICUMICUMICUMICUMICUMICUSICUMICUMICUMICUMICUMICUMICUMICUMICUMICUMICUSICUMICUMICUMICUMICUSICUMICUMICUSICUSICUMICUSICUMICUSICUMICUMICUSICUMICUSICUMICUMICUMICUMICUMICUSICUMICUSICUMICUMICUMICUMICUMICUMICUMICUMICUMICUMICUSICUSICUMICUMICUMICUSICUMICUSICUMICUMICUMICUMICUMICUMICUSICUMICUSICUMICUMICUMICUMICUMICUMICUMICUMICUMICUMICUMICUMICUSICUSICUMICUSICUMICUSICUMICUMICUMICUMICUSICUMICUSICUMICUMICUMICUMICUSICUMICUMICUMICUMICUMICUMICUMICUMICUMICUMICUMICUMICUMICUMICUMICUMICUMICUMICUMICUSICUSICUMICUMICUMICUSICUMICUMICUMICUMICUMICUMICUMICUSICUMICUMICUMICUMICUMICUMICUMICUMICUMICUMICUSICUMICUMICUMICUMICUMICUMICUSICUMICUMICUMICUMICUMICUMICUMICUMICUMICUMICUSICUSICUMICUSICUMICUMICUMICUMICUMICUMICUMICUMICUSICUMICUSICUMICUMICUMICUMICUMICUMICUSICUMICUSICUMICUMICUSICUMICUMICUMICUSICUMICUSICUMICUSICUSICUMICUMICUSICUSICUMICUMICUMICUMICUMICUMICUMICUSICUMICUMICUMICUMICUMICUMICUMICUSICUMICUMICUMICUMICUMICUMICUMICUMICUSICUMICUMICUSICUMICUMICUMICUMICUMICUMICUMICUMICUMICUMICUMICUSICUMICUMICUSICUMICUMICUMICUMICUSICUSICUMICUSICUMICUMICUMICUMICUMICUMICUMICUSICUSICUSICUMICUMICUMICUSICUMICUMICUMICUMICUMICUMICUMICUSICUSICUMICUMICUSICUSICUMICUSICUMICUMICUMICUMICUMICUMICUMICUMICUSICUMICUMICUSICUMICUMICUMICUMICUMICUSICUSICUSICUMICUMICUMICUMICUMICUSICUMICUMICUMICUMICUMICUMICUMICUMICUMICUSICUSICUMICUSICUMICUSICUMICUMICUSICUSICUSICUMICUMICUSICUMICUMICUSICUSICUSICUSICUMICUSICUMICUMICUMICUMICUMICUMICUSICUMICUMICUMICUMICUMICUMICUMICUMICUMICUMICUMICUMICUMICUMICUMICUSICUMICUMICUMICUMICUMICUMICUSICUSICUSICUMICUSICUMICUMICUSICUMICUSICUMICUMICUMICUMICUMICUMICUMICUMICUMICUSICUMICUMICUMICUMICUMICUSICUMICUMICUMICUSICUMICUSICUMICUMICUMICUMICUMICUMICUSICUMICUMICUMICUMICUMICUMICUMICUMICUMICUSICUMICUMICUMICUSICUMICUMICUMICUMICUSICUMICUMICUSICUMICUSICUSICUMICUMICUMICUMICUMICUSICUSICUSICUMICUSICUMICUSICUSICUMICUMICUMICUMICUMICUSICUMICUSICUMICUSICUMICUMICUMICUMICUMICUMICUMICUMICUSICUMICUMICUSICUSICUMICUMICUMICUMICUSICUMICUMICUMICUMICUMICUMICUMICUMICUMICUMICUSICUSICUSICUSICUMICUMICUMICUMICUMICUMICUMICUMICUMICUMICUMICUSICUMICUMICUMICUMICUMICUSICUMICUMICUMICUMICUMICUMICUSICUMICUMICUMICUMICUMICUMICUSICUMICUMICUMICUMICUSICUMICUMICUMICUMICUSICUSICUMICUMICUMICUSICUMICUMICUMICUMICUMICUMICUSICUSICUSICUMICUMICUMICUMICUMICUMICUMICUMICUSICUMICUMICUMICUMICUMICUMICUMICUMICUMICUMICUMICUMICUMICUMICUSICUMICUSICUMICUSICUMICUSICUSICUSICUMICUMICUMICUMICUMICUMICUMICUMICUSICUMICUMICUSICUMICUMICUMICUMICUMICUMICUMICUMICUSICUSICUMICUMICUMICUSICUMICUSICUMICUSICUMICUMICUMICUMICUMICUMICUMICUMICUMICUSICUSICUMICUMICUSICUSICUMICUMICUMICUMICUMICUMICUMICUMICUMICUSICUMICUMICUMICUSICUMICUSICUSICUSICUMICUSICUMICUSICUMICUMICUMICUMICUMICUSICUMICUSICUMICUSICUSICUMICUMICUSICUSICUMICUMICUMICUMICUMICUMICUMICUMICUSICUSICUMICUSICUMICUMICUMICUSICUMICUMICUSICUSICUMICUSICUMICUMICUMICUMICUSICUMICUMICUMICUSICUMICUMICUMICUMICUMICUMICUMICUMICUSICUMICUMICUSICUMICUMICUSICUMICUMICUMICUMICUSICUMICUSICUMICUSICUSICUSICUMICUMICUMICUSICUMICUMICUSICUMICUSICUSICUMICUMICUMICUMICUMICUMICUMICUMICUMICUSICUMICUSICUMICUSICUMICUSICUSICUMICUSICUMICUMICUMICUSICUSICUMICUMICUMICUMICUMICUMICUMICUMICUMICUSICUMICUMICUSICUMICUMICUSICUMICUSICUMICUMICUMICUMICUSICUMICUMICUMICUMICUMICUMICUMICUMICUMICUMICUSICUMICUMICUMICUMICUSICUMICUMICUSICUMICUSICUMICUMICUSICUMICUMICUMICUMICUMICUMICUMICUMICUMICUMICUMICUMICUMICUSICUMICUSICUMICUSICUMICUSICUMICUSICUMICUMICUMICUMICUMICUMICUMICUMICUMICUMICUMICUMICUMICUMICUMICUMICUMICUMICUMICUSICUMICUMICUMICUSICUMICUMICUMICUSICUMICUMICUMICUSICUMICUMICUMICUMICUMICUMICUMICUMICUMICUMICUSICUMICUMICUMICUSICUMICUMICUMICUMICUMICUMICUMICUMICUSICUMICUMICUSICUMICUMICUSICUMICUSICUMICUMICUMICUMICUMICUMICUSICUMICUMICUMICUMICUMICUMICUMICUSICUSICUSICUMICUMICUMICUMICUMICUMICUMICUMICUSICUMICUMICUMICUSICUSICUMICUSICUMICUSICUMICUSICUMICUMICUMICUMICUMICUMICUMICUMICUMICUMICUMICUMICUSICUMICUSICUSICUSICUMICUMICUMICUMICUSICUSICUMICUMICUMICUMICUMICUMICUMICUSICUMICUMICUMICUMICUMICUSICUMICUMICUSICUMICUSICUMICUMICUMICUMICUMICUMICUMICUMICUMICUMICUMICUSICUMICUMICUMICUMICUMICUMICUMICUSICUMICUSICUMICUMICUMICUMICUMICUMICUMICUMICUMICUMICUMICUMICUSICUMICUMICUMICUMICUMICUMICUSICUMICUMICUSICUSICUMICUMICUMICUMICUMICUMICUSICUSICUMICUMICUMICUMICUMICUMICUSICUMICUMICUMICUSICUMICUMICUMICUMICUMICUMICUMICUSICUMICUMICUMICUMICUMICUSICUMICUSICUMICUSICUMICUMICUMICUMICUMICUMICUSICUMICUMICUMICUMICUSICUMICUSICUSICUMICUMICUMICUMICUSICUSICUMICUSICUMICUSICUMICUMICUMICUMICUSICUMICUMICUMICUMICUMICUSICUMICUSICUMICUSICUSICUMICUMICUMICUMICUMICUMICUMICUSICUMICUMICUMICUMICUMICUSICUMICUMICUMICUSICUMICUMICUMICUMICUMICUMICUMICUMICUMICUSICUMICUMICUSICUMICUMICUMICUMICUMICUSICUSICUMICUMICUMICUMICUMICUMICUMICUMICUSICUMICUMICUSICUMICUSICUSICUSICUSICUSICUMICUMICUMICUMICUMICUSICUMICUMICUSICUMICUMICUSICUMICUSICUMICUMICUMICUMICUMICUMICUSICUMICUSICUMICUSICUMICUMICUSICUMICUSICUSICUMICUMICUMICUMICUMICUSICUMICUMICUSICUMICUMICUSICUMICUSICUMICUMICUMICUMICUMICUMICUSICUMICUMICUSICUMICUMICUMICUMICUMICUSICUMICUMICUMICUSICUMICUSICUMICUMICUMICUSICUMICUMICUMICUMICUSICUMICUMICUMICUMICUMICUMICUMICUMICUSICUSICUSICUMICUMICUMICUMICUMICUSICUMICUSICUSICUMICUSICUMICUMICUMICUMICUMICUMICUMICUMICUMICUMICUMICUSICUMICUMICUMICUMICUMICUMICUMICUSICUMICUMICUMICUSICUMICUMICUMICUSICUMICUMICUSICUMICUMICUMICUMICUSICUMICUMICUMICUSICUMICUMICUSICUSICUMICUSICUMICUMICUMICUMICUSICUMICUMICUSICUMICUSICUSICUMICUSICUMICUSICUMICUMICUMICUSICUMICUSICUSICUMICUMICUMICUMICUMICUMICUSICUMICUMICUSICUMICUMICUMICUMICUMICUMICUSICUMICUMICUMICUMICUMICUMICUMICUMICUMICUMICUMICUSICUMICUMICUMICUMICUMICUMICUMICUSICUMICUMICUMICUMICUMICUSICUMICUMICUSICUMICUSICUMICUMICUMICUMICUSICUSICUMICUMICUMICUMICUSICUMICUMICUMICUMICUMICUMICUMICUMICUSICUMICUMICUMICUMICUMICUSICUMICUSICUMICUSICUMICUSICUSICUMICUMICUMICUMICUMICUMICUMICUMICUMICUMICUSICUMICUMICUMICUSICUMICUSICUMICUMICUMICUSICUSICUMICUMICUMICUMICUMICUMICUMICUMICUMICUSICUMICUMICUMICUMICUMICUSICUSICUMICUMICUMICUMICUMICUMICUSICUMICUMICUSICUMICUMICUSICUSICUMICUMICUMICUMICUMICUMICUSICUMICUMICUMICUMICUSICUMICUMICUMICUMICUMICUMICUMICUMICUMICUMICUSICUSICUSICUMICUMICUMICUMICUMICUMICUMICUSICUMICUMICUSICUMICUMICUMICUSICUMICUSICUMICUMICUMICUMICUSICUSICUMICUMICUMICUMICUMICUSICUMICUSICUMICUMICUSICUMICUMICUMICUSICUMICUSICUMICUMICUMICUMICUMICUMICUMICUMICUMICUMICUSICUSICUSICUMICUMICUMICUMICUMICUMICUMICUMICUMICUMICUSICUMICUMICUMICUSICUMICUMICUMICUMICUMICUSICUSICUSICUMICUSICUMICUMICUSICUMICUSICUMICUMICUSICUSICUMICUMICUMICUMICUMICUMICUMICUSICUMICUMICUSICUSICUMICUMICUMICUMICUMICUMICUMICUMICUSICUMICUSICUMICUMICUMICUMICUSICUSICUMICUMICUMICUMICUSICUMICUMICUMICUMICUMICUMICUMICUMICUMICUSICUMICUMICUMICUMICUMICUSICUSICUSICUSICUMICUMICUSICUMICUSICUMICUMICUSICUSICUSICUMICUMICUMICUMICUSICUMICUMICUSICUMICUSICUMICUMICUMICUMICUMICUMICUMICUMICUSICUMICUSICUSICUSICUMICUSICUSICUMICUMICUMICUMICUSICUMICUMICUMICUMICUMICUSICUMICUMICUMICUSICUMICUSICUMICUSICUSICUMICUMICUMICUMICUSICUMICUSICUMICUMICUMICUMICUMICUSICUMICUMICUMICUMICUSICUMICUMICUMICUSICUSICUMICUSICUMICUMICUMICUMICUMICUMICUSICUMICUMICUMICUMICUMICUMICUMICUMICUMICUMICUMICUMICUSICUMICUMICUMICUMICUMICUMICUMICUMICUMICUSICUSICUMICUMICUMICUMICUSICUMICUMICUMICUSICUMICUMICUMICUSICUSICUSICUMICUMICUMICUSICUMICUMICUMICUMICUMICUSICUSICUSICUMICUMICUMICUMICUMICUMICUMICUSICUMICUMICUMICUSICUMICUMICUMICUMICUMICUMICUMICUSICUSICUMICUMICUSICUMICUMICUMICUSICUMICUSICUMICUMICUSICUMICUMICUSICUMICUMICUMICUMICUSICUMICUMICUMICUSICUSICUMICUSICUMICUMICUMICUMICUMICUMICUSICUSICUMICUMICUMICUMICUMICUSICUMICUMICUMICUMICUMICUMICUSICUMICUMICUMICUMICUMICUSICUMICUMICUMICUMICUMICUMICUSICUMICUMICUMICUMICUMICUMICUMICUMICUMICUSICUMICUMICUMICUMICUSICUMICUMICUMICUMICUMICUMICUMICU'] to numeric"
     ]
    }
   ],
   "source": [
    "train_mean = X.mean()\n",
    "train_std = X.std()\n",
    "X = (X-train_mean)/train_std "
   ]
  },
  {
   "cell_type": "markdown",
   "metadata": {
    "slideshow": {
     "slide_type": "subslide"
    }
   },
   "source": [
    "We can check if the data has been correctly standardized by checking the new mean and standard deviation."
   ]
  },
  {
   "cell_type": "code",
   "execution_count": null,
   "metadata": {
    "slideshow": {
     "slide_type": "subslide"
    }
   },
   "outputs": [],
   "source": [
    "X.mean() "
   ]
  },
  {
   "cell_type": "code",
   "execution_count": null,
   "metadata": {
    "scrolled": true,
    "slideshow": {
     "slide_type": "subslide"
    }
   },
   "outputs": [],
   "source": [
    "X.std()"
   ]
  },
  {
   "cell_type": "markdown",
   "metadata": {
    "id": "qmlkAyvJ3vYp",
    "slideshow": {
     "slide_type": "slide"
    }
   },
   "source": [
    "# Modeling <a id=\"part2\"></a>"
   ]
  },
  {
   "cell_type": "markdown",
   "metadata": {
    "id": "Cz64coQh3vYq",
    "slideshow": {
     "slide_type": "fragment"
    }
   },
   "source": [
    "#### 1. LASSO (L1-regularized logistic regression)\n",
    "*LASSO* is a variant of the Logistic Regression that introduces an L1 penalty to the cost function, promoting the shrinkage of coefficients to zero and reducing model complexity. This method is often used for feature selection.\n",
    "#### 2. Decision Tree\n",
    "*Decision Tree* is a versatile algorithm that partitions the data based on features at each node, making sequential decisions to predict the target variable. It provides interpretable decision rules, crucial for decision-making. \n",
    "#### 3. Random Forest\n",
    "*Random Forest* is an ensemble algorithm that combines multiple *Decision Trees*. It aggregates predictions from individual trees to improve accuracy, providing robust predictions."
   ]
  },
  {
   "cell_type": "code",
   "execution_count": 37,
   "metadata": {
    "id": "wzXbv4aG3vYs",
    "slideshow": {
     "slide_type": "fragment"
    }
   },
   "outputs": [],
   "source": [
    "from sklearn.linear_model import LogisticRegression\n",
    "from sklearn.tree import DecisionTreeClassifier\n",
    "from sklearn.ensemble import RandomForestClassifier"
   ]
  },
  {
   "cell_type": "code",
   "execution_count": 38,
   "metadata": {
    "slideshow": {
     "slide_type": "skip"
    }
   },
   "outputs": [],
   "source": [
    "from sklearn.metrics import roc_auc_score, accuracy_score\n",
    "from sklearn.model_selection import cross_val_score\n",
    "from sklearn.calibration import calibration_curve\n",
    "from sklearn.metrics import confusion_matrix, RocCurveDisplay, ConfusionMatrixDisplay\n",
    "from sklearn.tree import plot_tree\n",
    "from sklearn.datasets import make_circles"
   ]
  },
  {
   "cell_type": "markdown",
   "metadata": {
    "slideshow": {
     "slide_type": "subslide"
    }
   },
   "source": [
    "### Training"
   ]
  },
  {
   "cell_type": "markdown",
   "metadata": {
    "slideshow": {
     "slide_type": "fragment"
    }
   },
   "source": [
    "Training a model is simple!<br>\n",
    "We simply need to instantiate a model and use the corresponding `.fit()` method to train the model by giving the features and the labels."
   ]
  },
  {
   "cell_type": "code",
   "execution_count": 39,
   "metadata": {
    "slideshow": {
     "slide_type": "fragment"
    }
   },
   "outputs": [
    {
     "ename": "ValueError",
     "evalue": "could not convert string to float: 'M'",
     "output_type": "error",
     "traceback": [
      "\u001b[0;31m---------------------------------------------------------------------------\u001b[0m",
      "\u001b[0;31mValueError\u001b[0m                                Traceback (most recent call last)",
      "Cell \u001b[0;32mIn[39], line 2\u001b[0m\n\u001b[1;32m      1\u001b[0m clf \u001b[38;5;241m=\u001b[39m LogisticRegression() \u001b[38;5;66;03m## instantiate the model\u001b[39;00m\n\u001b[0;32m----> 2\u001b[0m \u001b[43mclf\u001b[49m\u001b[38;5;241;43m.\u001b[39;49m\u001b[43mfit\u001b[49m\u001b[43m(\u001b[49m\u001b[43mX\u001b[49m\u001b[43m,\u001b[49m\u001b[43my\u001b[49m\u001b[43m)\u001b[49m \u001b[38;5;66;03m## train the model\u001b[39;00m\n",
      "File \u001b[0;32m~/Desktop/DU IA & Santé/Fwd__Matériels_&_instructions_-_DU_IA_SANTE_05_02/venv_td/lib/python3.12/site-packages/sklearn/base.py:1389\u001b[0m, in \u001b[0;36m_fit_context.<locals>.decorator.<locals>.wrapper\u001b[0;34m(estimator, *args, **kwargs)\u001b[0m\n\u001b[1;32m   1382\u001b[0m     estimator\u001b[38;5;241m.\u001b[39m_validate_params()\n\u001b[1;32m   1384\u001b[0m \u001b[38;5;28;01mwith\u001b[39;00m config_context(\n\u001b[1;32m   1385\u001b[0m     skip_parameter_validation\u001b[38;5;241m=\u001b[39m(\n\u001b[1;32m   1386\u001b[0m         prefer_skip_nested_validation \u001b[38;5;129;01mor\u001b[39;00m global_skip_validation\n\u001b[1;32m   1387\u001b[0m     )\n\u001b[1;32m   1388\u001b[0m ):\n\u001b[0;32m-> 1389\u001b[0m     \u001b[38;5;28;01mreturn\u001b[39;00m \u001b[43mfit_method\u001b[49m\u001b[43m(\u001b[49m\u001b[43mestimator\u001b[49m\u001b[43m,\u001b[49m\u001b[43m \u001b[49m\u001b[38;5;241;43m*\u001b[39;49m\u001b[43margs\u001b[49m\u001b[43m,\u001b[49m\u001b[43m \u001b[49m\u001b[38;5;241;43m*\u001b[39;49m\u001b[38;5;241;43m*\u001b[39;49m\u001b[43mkwargs\u001b[49m\u001b[43m)\u001b[49m\n",
      "File \u001b[0;32m~/Desktop/DU IA & Santé/Fwd__Matériels_&_instructions_-_DU_IA_SANTE_05_02/venv_td/lib/python3.12/site-packages/sklearn/linear_model/_logistic.py:1222\u001b[0m, in \u001b[0;36mLogisticRegression.fit\u001b[0;34m(self, X, y, sample_weight)\u001b[0m\n\u001b[1;32m   1219\u001b[0m \u001b[38;5;28;01melse\u001b[39;00m:\n\u001b[1;32m   1220\u001b[0m     _dtype \u001b[38;5;241m=\u001b[39m [np\u001b[38;5;241m.\u001b[39mfloat64, np\u001b[38;5;241m.\u001b[39mfloat32]\n\u001b[0;32m-> 1222\u001b[0m X, y \u001b[38;5;241m=\u001b[39m \u001b[43mvalidate_data\u001b[49m\u001b[43m(\u001b[49m\n\u001b[1;32m   1223\u001b[0m \u001b[43m    \u001b[49m\u001b[38;5;28;43mself\u001b[39;49m\u001b[43m,\u001b[49m\n\u001b[1;32m   1224\u001b[0m \u001b[43m    \u001b[49m\u001b[43mX\u001b[49m\u001b[43m,\u001b[49m\n\u001b[1;32m   1225\u001b[0m \u001b[43m    \u001b[49m\u001b[43my\u001b[49m\u001b[43m,\u001b[49m\n\u001b[1;32m   1226\u001b[0m \u001b[43m    \u001b[49m\u001b[43maccept_sparse\u001b[49m\u001b[38;5;241;43m=\u001b[39;49m\u001b[38;5;124;43m\"\u001b[39;49m\u001b[38;5;124;43mcsr\u001b[39;49m\u001b[38;5;124;43m\"\u001b[39;49m\u001b[43m,\u001b[49m\n\u001b[1;32m   1227\u001b[0m \u001b[43m    \u001b[49m\u001b[43mdtype\u001b[49m\u001b[38;5;241;43m=\u001b[39;49m\u001b[43m_dtype\u001b[49m\u001b[43m,\u001b[49m\n\u001b[1;32m   1228\u001b[0m \u001b[43m    \u001b[49m\u001b[43morder\u001b[49m\u001b[38;5;241;43m=\u001b[39;49m\u001b[38;5;124;43m\"\u001b[39;49m\u001b[38;5;124;43mC\u001b[39;49m\u001b[38;5;124;43m\"\u001b[39;49m\u001b[43m,\u001b[49m\n\u001b[1;32m   1229\u001b[0m \u001b[43m    \u001b[49m\u001b[43maccept_large_sparse\u001b[49m\u001b[38;5;241;43m=\u001b[39;49m\u001b[43msolver\u001b[49m\u001b[43m \u001b[49m\u001b[38;5;129;43;01mnot\u001b[39;49;00m\u001b[43m \u001b[49m\u001b[38;5;129;43;01min\u001b[39;49;00m\u001b[43m \u001b[49m\u001b[43m[\u001b[49m\u001b[38;5;124;43m\"\u001b[39;49m\u001b[38;5;124;43mliblinear\u001b[39;49m\u001b[38;5;124;43m\"\u001b[39;49m\u001b[43m,\u001b[49m\u001b[43m \u001b[49m\u001b[38;5;124;43m\"\u001b[39;49m\u001b[38;5;124;43msag\u001b[39;49m\u001b[38;5;124;43m\"\u001b[39;49m\u001b[43m,\u001b[49m\u001b[43m \u001b[49m\u001b[38;5;124;43m\"\u001b[39;49m\u001b[38;5;124;43msaga\u001b[39;49m\u001b[38;5;124;43m\"\u001b[39;49m\u001b[43m]\u001b[49m\u001b[43m,\u001b[49m\n\u001b[1;32m   1230\u001b[0m \u001b[43m\u001b[49m\u001b[43m)\u001b[49m\n\u001b[1;32m   1231\u001b[0m check_classification_targets(y)\n\u001b[1;32m   1232\u001b[0m \u001b[38;5;28mself\u001b[39m\u001b[38;5;241m.\u001b[39mclasses_ \u001b[38;5;241m=\u001b[39m np\u001b[38;5;241m.\u001b[39munique(y)\n",
      "File \u001b[0;32m~/Desktop/DU IA & Santé/Fwd__Matériels_&_instructions_-_DU_IA_SANTE_05_02/venv_td/lib/python3.12/site-packages/sklearn/utils/validation.py:2961\u001b[0m, in \u001b[0;36mvalidate_data\u001b[0;34m(_estimator, X, y, reset, validate_separately, skip_check_array, **check_params)\u001b[0m\n\u001b[1;32m   2959\u001b[0m         y \u001b[38;5;241m=\u001b[39m check_array(y, input_name\u001b[38;5;241m=\u001b[39m\u001b[38;5;124m\"\u001b[39m\u001b[38;5;124my\u001b[39m\u001b[38;5;124m\"\u001b[39m, \u001b[38;5;241m*\u001b[39m\u001b[38;5;241m*\u001b[39mcheck_y_params)\n\u001b[1;32m   2960\u001b[0m     \u001b[38;5;28;01melse\u001b[39;00m:\n\u001b[0;32m-> 2961\u001b[0m         X, y \u001b[38;5;241m=\u001b[39m \u001b[43mcheck_X_y\u001b[49m\u001b[43m(\u001b[49m\u001b[43mX\u001b[49m\u001b[43m,\u001b[49m\u001b[43m \u001b[49m\u001b[43my\u001b[49m\u001b[43m,\u001b[49m\u001b[43m \u001b[49m\u001b[38;5;241;43m*\u001b[39;49m\u001b[38;5;241;43m*\u001b[39;49m\u001b[43mcheck_params\u001b[49m\u001b[43m)\u001b[49m\n\u001b[1;32m   2962\u001b[0m     out \u001b[38;5;241m=\u001b[39m X, y\n\u001b[1;32m   2964\u001b[0m \u001b[38;5;28;01mif\u001b[39;00m \u001b[38;5;129;01mnot\u001b[39;00m no_val_X \u001b[38;5;129;01mand\u001b[39;00m check_params\u001b[38;5;241m.\u001b[39mget(\u001b[38;5;124m\"\u001b[39m\u001b[38;5;124mensure_2d\u001b[39m\u001b[38;5;124m\"\u001b[39m, \u001b[38;5;28;01mTrue\u001b[39;00m):\n",
      "File \u001b[0;32m~/Desktop/DU IA & Santé/Fwd__Matériels_&_instructions_-_DU_IA_SANTE_05_02/venv_td/lib/python3.12/site-packages/sklearn/utils/validation.py:1370\u001b[0m, in \u001b[0;36mcheck_X_y\u001b[0;34m(X, y, accept_sparse, accept_large_sparse, dtype, order, copy, force_writeable, force_all_finite, ensure_all_finite, ensure_2d, allow_nd, multi_output, ensure_min_samples, ensure_min_features, y_numeric, estimator)\u001b[0m\n\u001b[1;32m   1364\u001b[0m     \u001b[38;5;28;01mraise\u001b[39;00m \u001b[38;5;167;01mValueError\u001b[39;00m(\n\u001b[1;32m   1365\u001b[0m         \u001b[38;5;124mf\u001b[39m\u001b[38;5;124m\"\u001b[39m\u001b[38;5;132;01m{\u001b[39;00mestimator_name\u001b[38;5;132;01m}\u001b[39;00m\u001b[38;5;124m requires y to be passed, but the target y is None\u001b[39m\u001b[38;5;124m\"\u001b[39m\n\u001b[1;32m   1366\u001b[0m     )\n\u001b[1;32m   1368\u001b[0m ensure_all_finite \u001b[38;5;241m=\u001b[39m _deprecate_force_all_finite(force_all_finite, ensure_all_finite)\n\u001b[0;32m-> 1370\u001b[0m X \u001b[38;5;241m=\u001b[39m \u001b[43mcheck_array\u001b[49m\u001b[43m(\u001b[49m\n\u001b[1;32m   1371\u001b[0m \u001b[43m    \u001b[49m\u001b[43mX\u001b[49m\u001b[43m,\u001b[49m\n\u001b[1;32m   1372\u001b[0m \u001b[43m    \u001b[49m\u001b[43maccept_sparse\u001b[49m\u001b[38;5;241;43m=\u001b[39;49m\u001b[43maccept_sparse\u001b[49m\u001b[43m,\u001b[49m\n\u001b[1;32m   1373\u001b[0m \u001b[43m    \u001b[49m\u001b[43maccept_large_sparse\u001b[49m\u001b[38;5;241;43m=\u001b[39;49m\u001b[43maccept_large_sparse\u001b[49m\u001b[43m,\u001b[49m\n\u001b[1;32m   1374\u001b[0m \u001b[43m    \u001b[49m\u001b[43mdtype\u001b[49m\u001b[38;5;241;43m=\u001b[39;49m\u001b[43mdtype\u001b[49m\u001b[43m,\u001b[49m\n\u001b[1;32m   1375\u001b[0m \u001b[43m    \u001b[49m\u001b[43morder\u001b[49m\u001b[38;5;241;43m=\u001b[39;49m\u001b[43morder\u001b[49m\u001b[43m,\u001b[49m\n\u001b[1;32m   1376\u001b[0m \u001b[43m    \u001b[49m\u001b[43mcopy\u001b[49m\u001b[38;5;241;43m=\u001b[39;49m\u001b[43mcopy\u001b[49m\u001b[43m,\u001b[49m\n\u001b[1;32m   1377\u001b[0m \u001b[43m    \u001b[49m\u001b[43mforce_writeable\u001b[49m\u001b[38;5;241;43m=\u001b[39;49m\u001b[43mforce_writeable\u001b[49m\u001b[43m,\u001b[49m\n\u001b[1;32m   1378\u001b[0m \u001b[43m    \u001b[49m\u001b[43mensure_all_finite\u001b[49m\u001b[38;5;241;43m=\u001b[39;49m\u001b[43mensure_all_finite\u001b[49m\u001b[43m,\u001b[49m\n\u001b[1;32m   1379\u001b[0m \u001b[43m    \u001b[49m\u001b[43mensure_2d\u001b[49m\u001b[38;5;241;43m=\u001b[39;49m\u001b[43mensure_2d\u001b[49m\u001b[43m,\u001b[49m\n\u001b[1;32m   1380\u001b[0m \u001b[43m    \u001b[49m\u001b[43mallow_nd\u001b[49m\u001b[38;5;241;43m=\u001b[39;49m\u001b[43mallow_nd\u001b[49m\u001b[43m,\u001b[49m\n\u001b[1;32m   1381\u001b[0m \u001b[43m    \u001b[49m\u001b[43mensure_min_samples\u001b[49m\u001b[38;5;241;43m=\u001b[39;49m\u001b[43mensure_min_samples\u001b[49m\u001b[43m,\u001b[49m\n\u001b[1;32m   1382\u001b[0m \u001b[43m    \u001b[49m\u001b[43mensure_min_features\u001b[49m\u001b[38;5;241;43m=\u001b[39;49m\u001b[43mensure_min_features\u001b[49m\u001b[43m,\u001b[49m\n\u001b[1;32m   1383\u001b[0m \u001b[43m    \u001b[49m\u001b[43mestimator\u001b[49m\u001b[38;5;241;43m=\u001b[39;49m\u001b[43mestimator\u001b[49m\u001b[43m,\u001b[49m\n\u001b[1;32m   1384\u001b[0m \u001b[43m    \u001b[49m\u001b[43minput_name\u001b[49m\u001b[38;5;241;43m=\u001b[39;49m\u001b[38;5;124;43m\"\u001b[39;49m\u001b[38;5;124;43mX\u001b[39;49m\u001b[38;5;124;43m\"\u001b[39;49m\u001b[43m,\u001b[49m\n\u001b[1;32m   1385\u001b[0m \u001b[43m\u001b[49m\u001b[43m)\u001b[49m\n\u001b[1;32m   1387\u001b[0m y \u001b[38;5;241m=\u001b[39m _check_y(y, multi_output\u001b[38;5;241m=\u001b[39mmulti_output, y_numeric\u001b[38;5;241m=\u001b[39my_numeric, estimator\u001b[38;5;241m=\u001b[39mestimator)\n\u001b[1;32m   1389\u001b[0m check_consistent_length(X, y)\n",
      "File \u001b[0;32m~/Desktop/DU IA & Santé/Fwd__Matériels_&_instructions_-_DU_IA_SANTE_05_02/venv_td/lib/python3.12/site-packages/sklearn/utils/validation.py:973\u001b[0m, in \u001b[0;36mcheck_array\u001b[0;34m(array, accept_sparse, accept_large_sparse, dtype, order, copy, force_writeable, force_all_finite, ensure_all_finite, ensure_non_negative, ensure_2d, allow_nd, ensure_min_samples, ensure_min_features, estimator, input_name)\u001b[0m\n\u001b[1;32m    968\u001b[0m \u001b[38;5;28;01mif\u001b[39;00m pandas_requires_conversion:\n\u001b[1;32m    969\u001b[0m     \u001b[38;5;66;03m# pandas dataframe requires conversion earlier to handle extension dtypes with\u001b[39;00m\n\u001b[1;32m    970\u001b[0m     \u001b[38;5;66;03m# nans\u001b[39;00m\n\u001b[1;32m    971\u001b[0m     \u001b[38;5;66;03m# Use the original dtype for conversion if dtype is None\u001b[39;00m\n\u001b[1;32m    972\u001b[0m     new_dtype \u001b[38;5;241m=\u001b[39m dtype_orig \u001b[38;5;28;01mif\u001b[39;00m dtype \u001b[38;5;129;01mis\u001b[39;00m \u001b[38;5;28;01mNone\u001b[39;00m \u001b[38;5;28;01melse\u001b[39;00m dtype\n\u001b[0;32m--> 973\u001b[0m     array \u001b[38;5;241m=\u001b[39m \u001b[43marray\u001b[49m\u001b[38;5;241;43m.\u001b[39;49m\u001b[43mastype\u001b[49m\u001b[43m(\u001b[49m\u001b[43mnew_dtype\u001b[49m\u001b[43m)\u001b[49m\n\u001b[1;32m    974\u001b[0m     \u001b[38;5;66;03m# Since we converted here, we do not need to convert again later\u001b[39;00m\n\u001b[1;32m    975\u001b[0m     dtype \u001b[38;5;241m=\u001b[39m \u001b[38;5;28;01mNone\u001b[39;00m\n",
      "File \u001b[0;32m~/Desktop/DU IA & Santé/Fwd__Matériels_&_instructions_-_DU_IA_SANTE_05_02/venv_td/lib/python3.12/site-packages/pandas/core/generic.py:6643\u001b[0m, in \u001b[0;36mNDFrame.astype\u001b[0;34m(self, dtype, copy, errors)\u001b[0m\n\u001b[1;32m   6637\u001b[0m     results \u001b[38;5;241m=\u001b[39m [\n\u001b[1;32m   6638\u001b[0m         ser\u001b[38;5;241m.\u001b[39mastype(dtype, copy\u001b[38;5;241m=\u001b[39mcopy, errors\u001b[38;5;241m=\u001b[39merrors) \u001b[38;5;28;01mfor\u001b[39;00m _, ser \u001b[38;5;129;01min\u001b[39;00m \u001b[38;5;28mself\u001b[39m\u001b[38;5;241m.\u001b[39mitems()\n\u001b[1;32m   6639\u001b[0m     ]\n\u001b[1;32m   6641\u001b[0m \u001b[38;5;28;01melse\u001b[39;00m:\n\u001b[1;32m   6642\u001b[0m     \u001b[38;5;66;03m# else, only a single dtype is given\u001b[39;00m\n\u001b[0;32m-> 6643\u001b[0m     new_data \u001b[38;5;241m=\u001b[39m \u001b[38;5;28;43mself\u001b[39;49m\u001b[38;5;241;43m.\u001b[39;49m\u001b[43m_mgr\u001b[49m\u001b[38;5;241;43m.\u001b[39;49m\u001b[43mastype\u001b[49m\u001b[43m(\u001b[49m\u001b[43mdtype\u001b[49m\u001b[38;5;241;43m=\u001b[39;49m\u001b[43mdtype\u001b[49m\u001b[43m,\u001b[49m\u001b[43m \u001b[49m\u001b[43mcopy\u001b[49m\u001b[38;5;241;43m=\u001b[39;49m\u001b[43mcopy\u001b[49m\u001b[43m,\u001b[49m\u001b[43m \u001b[49m\u001b[43merrors\u001b[49m\u001b[38;5;241;43m=\u001b[39;49m\u001b[43merrors\u001b[49m\u001b[43m)\u001b[49m\n\u001b[1;32m   6644\u001b[0m     res \u001b[38;5;241m=\u001b[39m \u001b[38;5;28mself\u001b[39m\u001b[38;5;241m.\u001b[39m_constructor_from_mgr(new_data, axes\u001b[38;5;241m=\u001b[39mnew_data\u001b[38;5;241m.\u001b[39maxes)\n\u001b[1;32m   6645\u001b[0m     \u001b[38;5;28;01mreturn\u001b[39;00m res\u001b[38;5;241m.\u001b[39m__finalize__(\u001b[38;5;28mself\u001b[39m, method\u001b[38;5;241m=\u001b[39m\u001b[38;5;124m\"\u001b[39m\u001b[38;5;124mastype\u001b[39m\u001b[38;5;124m\"\u001b[39m)\n",
      "File \u001b[0;32m~/Desktop/DU IA & Santé/Fwd__Matériels_&_instructions_-_DU_IA_SANTE_05_02/venv_td/lib/python3.12/site-packages/pandas/core/internals/managers.py:430\u001b[0m, in \u001b[0;36mBaseBlockManager.astype\u001b[0;34m(self, dtype, copy, errors)\u001b[0m\n\u001b[1;32m    427\u001b[0m \u001b[38;5;28;01melif\u001b[39;00m using_copy_on_write():\n\u001b[1;32m    428\u001b[0m     copy \u001b[38;5;241m=\u001b[39m \u001b[38;5;28;01mFalse\u001b[39;00m\n\u001b[0;32m--> 430\u001b[0m \u001b[38;5;28;01mreturn\u001b[39;00m \u001b[38;5;28;43mself\u001b[39;49m\u001b[38;5;241;43m.\u001b[39;49m\u001b[43mapply\u001b[49m\u001b[43m(\u001b[49m\n\u001b[1;32m    431\u001b[0m \u001b[43m    \u001b[49m\u001b[38;5;124;43m\"\u001b[39;49m\u001b[38;5;124;43mastype\u001b[39;49m\u001b[38;5;124;43m\"\u001b[39;49m\u001b[43m,\u001b[49m\n\u001b[1;32m    432\u001b[0m \u001b[43m    \u001b[49m\u001b[43mdtype\u001b[49m\u001b[38;5;241;43m=\u001b[39;49m\u001b[43mdtype\u001b[49m\u001b[43m,\u001b[49m\n\u001b[1;32m    433\u001b[0m \u001b[43m    \u001b[49m\u001b[43mcopy\u001b[49m\u001b[38;5;241;43m=\u001b[39;49m\u001b[43mcopy\u001b[49m\u001b[43m,\u001b[49m\n\u001b[1;32m    434\u001b[0m \u001b[43m    \u001b[49m\u001b[43merrors\u001b[49m\u001b[38;5;241;43m=\u001b[39;49m\u001b[43merrors\u001b[49m\u001b[43m,\u001b[49m\n\u001b[1;32m    435\u001b[0m \u001b[43m    \u001b[49m\u001b[43musing_cow\u001b[49m\u001b[38;5;241;43m=\u001b[39;49m\u001b[43musing_copy_on_write\u001b[49m\u001b[43m(\u001b[49m\u001b[43m)\u001b[49m\u001b[43m,\u001b[49m\n\u001b[1;32m    436\u001b[0m \u001b[43m\u001b[49m\u001b[43m)\u001b[49m\n",
      "File \u001b[0;32m~/Desktop/DU IA & Santé/Fwd__Matériels_&_instructions_-_DU_IA_SANTE_05_02/venv_td/lib/python3.12/site-packages/pandas/core/internals/managers.py:363\u001b[0m, in \u001b[0;36mBaseBlockManager.apply\u001b[0;34m(self, f, align_keys, **kwargs)\u001b[0m\n\u001b[1;32m    361\u001b[0m         applied \u001b[38;5;241m=\u001b[39m b\u001b[38;5;241m.\u001b[39mapply(f, \u001b[38;5;241m*\u001b[39m\u001b[38;5;241m*\u001b[39mkwargs)\n\u001b[1;32m    362\u001b[0m     \u001b[38;5;28;01melse\u001b[39;00m:\n\u001b[0;32m--> 363\u001b[0m         applied \u001b[38;5;241m=\u001b[39m \u001b[38;5;28;43mgetattr\u001b[39;49m\u001b[43m(\u001b[49m\u001b[43mb\u001b[49m\u001b[43m,\u001b[49m\u001b[43m \u001b[49m\u001b[43mf\u001b[49m\u001b[43m)\u001b[49m\u001b[43m(\u001b[49m\u001b[38;5;241;43m*\u001b[39;49m\u001b[38;5;241;43m*\u001b[39;49m\u001b[43mkwargs\u001b[49m\u001b[43m)\u001b[49m\n\u001b[1;32m    364\u001b[0m     result_blocks \u001b[38;5;241m=\u001b[39m extend_blocks(applied, result_blocks)\n\u001b[1;32m    366\u001b[0m out \u001b[38;5;241m=\u001b[39m \u001b[38;5;28mtype\u001b[39m(\u001b[38;5;28mself\u001b[39m)\u001b[38;5;241m.\u001b[39mfrom_blocks(result_blocks, \u001b[38;5;28mself\u001b[39m\u001b[38;5;241m.\u001b[39maxes)\n",
      "File \u001b[0;32m~/Desktop/DU IA & Santé/Fwd__Matériels_&_instructions_-_DU_IA_SANTE_05_02/venv_td/lib/python3.12/site-packages/pandas/core/internals/blocks.py:758\u001b[0m, in \u001b[0;36mBlock.astype\u001b[0;34m(self, dtype, copy, errors, using_cow, squeeze)\u001b[0m\n\u001b[1;32m    755\u001b[0m         \u001b[38;5;28;01mraise\u001b[39;00m \u001b[38;5;167;01mValueError\u001b[39;00m(\u001b[38;5;124m\"\u001b[39m\u001b[38;5;124mCan not squeeze with more than one column.\u001b[39m\u001b[38;5;124m\"\u001b[39m)\n\u001b[1;32m    756\u001b[0m     values \u001b[38;5;241m=\u001b[39m values[\u001b[38;5;241m0\u001b[39m, :]  \u001b[38;5;66;03m# type: ignore[call-overload]\u001b[39;00m\n\u001b[0;32m--> 758\u001b[0m new_values \u001b[38;5;241m=\u001b[39m \u001b[43mastype_array_safe\u001b[49m\u001b[43m(\u001b[49m\u001b[43mvalues\u001b[49m\u001b[43m,\u001b[49m\u001b[43m \u001b[49m\u001b[43mdtype\u001b[49m\u001b[43m,\u001b[49m\u001b[43m \u001b[49m\u001b[43mcopy\u001b[49m\u001b[38;5;241;43m=\u001b[39;49m\u001b[43mcopy\u001b[49m\u001b[43m,\u001b[49m\u001b[43m \u001b[49m\u001b[43merrors\u001b[49m\u001b[38;5;241;43m=\u001b[39;49m\u001b[43merrors\u001b[49m\u001b[43m)\u001b[49m\n\u001b[1;32m    760\u001b[0m new_values \u001b[38;5;241m=\u001b[39m maybe_coerce_values(new_values)\n\u001b[1;32m    762\u001b[0m refs \u001b[38;5;241m=\u001b[39m \u001b[38;5;28;01mNone\u001b[39;00m\n",
      "File \u001b[0;32m~/Desktop/DU IA & Santé/Fwd__Matériels_&_instructions_-_DU_IA_SANTE_05_02/venv_td/lib/python3.12/site-packages/pandas/core/dtypes/astype.py:237\u001b[0m, in \u001b[0;36mastype_array_safe\u001b[0;34m(values, dtype, copy, errors)\u001b[0m\n\u001b[1;32m    234\u001b[0m     dtype \u001b[38;5;241m=\u001b[39m dtype\u001b[38;5;241m.\u001b[39mnumpy_dtype\n\u001b[1;32m    236\u001b[0m \u001b[38;5;28;01mtry\u001b[39;00m:\n\u001b[0;32m--> 237\u001b[0m     new_values \u001b[38;5;241m=\u001b[39m \u001b[43mastype_array\u001b[49m\u001b[43m(\u001b[49m\u001b[43mvalues\u001b[49m\u001b[43m,\u001b[49m\u001b[43m \u001b[49m\u001b[43mdtype\u001b[49m\u001b[43m,\u001b[49m\u001b[43m \u001b[49m\u001b[43mcopy\u001b[49m\u001b[38;5;241;43m=\u001b[39;49m\u001b[43mcopy\u001b[49m\u001b[43m)\u001b[49m\n\u001b[1;32m    238\u001b[0m \u001b[38;5;28;01mexcept\u001b[39;00m (\u001b[38;5;167;01mValueError\u001b[39;00m, \u001b[38;5;167;01mTypeError\u001b[39;00m):\n\u001b[1;32m    239\u001b[0m     \u001b[38;5;66;03m# e.g. _astype_nansafe can fail on object-dtype of strings\u001b[39;00m\n\u001b[1;32m    240\u001b[0m     \u001b[38;5;66;03m#  trying to convert to float\u001b[39;00m\n\u001b[1;32m    241\u001b[0m     \u001b[38;5;28;01mif\u001b[39;00m errors \u001b[38;5;241m==\u001b[39m \u001b[38;5;124m\"\u001b[39m\u001b[38;5;124mignore\u001b[39m\u001b[38;5;124m\"\u001b[39m:\n",
      "File \u001b[0;32m~/Desktop/DU IA & Santé/Fwd__Matériels_&_instructions_-_DU_IA_SANTE_05_02/venv_td/lib/python3.12/site-packages/pandas/core/dtypes/astype.py:182\u001b[0m, in \u001b[0;36mastype_array\u001b[0;34m(values, dtype, copy)\u001b[0m\n\u001b[1;32m    179\u001b[0m     values \u001b[38;5;241m=\u001b[39m values\u001b[38;5;241m.\u001b[39mastype(dtype, copy\u001b[38;5;241m=\u001b[39mcopy)\n\u001b[1;32m    181\u001b[0m \u001b[38;5;28;01melse\u001b[39;00m:\n\u001b[0;32m--> 182\u001b[0m     values \u001b[38;5;241m=\u001b[39m \u001b[43m_astype_nansafe\u001b[49m\u001b[43m(\u001b[49m\u001b[43mvalues\u001b[49m\u001b[43m,\u001b[49m\u001b[43m \u001b[49m\u001b[43mdtype\u001b[49m\u001b[43m,\u001b[49m\u001b[43m \u001b[49m\u001b[43mcopy\u001b[49m\u001b[38;5;241;43m=\u001b[39;49m\u001b[43mcopy\u001b[49m\u001b[43m)\u001b[49m\n\u001b[1;32m    184\u001b[0m \u001b[38;5;66;03m# in pandas we don't store numpy str dtypes, so convert to object\u001b[39;00m\n\u001b[1;32m    185\u001b[0m \u001b[38;5;28;01mif\u001b[39;00m \u001b[38;5;28misinstance\u001b[39m(dtype, np\u001b[38;5;241m.\u001b[39mdtype) \u001b[38;5;129;01mand\u001b[39;00m \u001b[38;5;28missubclass\u001b[39m(values\u001b[38;5;241m.\u001b[39mdtype\u001b[38;5;241m.\u001b[39mtype, \u001b[38;5;28mstr\u001b[39m):\n",
      "File \u001b[0;32m~/Desktop/DU IA & Santé/Fwd__Matériels_&_instructions_-_DU_IA_SANTE_05_02/venv_td/lib/python3.12/site-packages/pandas/core/dtypes/astype.py:133\u001b[0m, in \u001b[0;36m_astype_nansafe\u001b[0;34m(arr, dtype, copy, skipna)\u001b[0m\n\u001b[1;32m    129\u001b[0m     \u001b[38;5;28;01mraise\u001b[39;00m \u001b[38;5;167;01mValueError\u001b[39;00m(msg)\n\u001b[1;32m    131\u001b[0m \u001b[38;5;28;01mif\u001b[39;00m copy \u001b[38;5;129;01mor\u001b[39;00m arr\u001b[38;5;241m.\u001b[39mdtype \u001b[38;5;241m==\u001b[39m \u001b[38;5;28mobject\u001b[39m \u001b[38;5;129;01mor\u001b[39;00m dtype \u001b[38;5;241m==\u001b[39m \u001b[38;5;28mobject\u001b[39m:\n\u001b[1;32m    132\u001b[0m     \u001b[38;5;66;03m# Explicit copy, or required since NumPy can't view from / to object.\u001b[39;00m\n\u001b[0;32m--> 133\u001b[0m     \u001b[38;5;28;01mreturn\u001b[39;00m \u001b[43marr\u001b[49m\u001b[38;5;241;43m.\u001b[39;49m\u001b[43mastype\u001b[49m\u001b[43m(\u001b[49m\u001b[43mdtype\u001b[49m\u001b[43m,\u001b[49m\u001b[43m \u001b[49m\u001b[43mcopy\u001b[49m\u001b[38;5;241;43m=\u001b[39;49m\u001b[38;5;28;43;01mTrue\u001b[39;49;00m\u001b[43m)\u001b[49m\n\u001b[1;32m    135\u001b[0m \u001b[38;5;28;01mreturn\u001b[39;00m arr\u001b[38;5;241m.\u001b[39mastype(dtype, copy\u001b[38;5;241m=\u001b[39mcopy)\n",
      "\u001b[0;31mValueError\u001b[0m: could not convert string to float: 'M'"
     ]
    }
   ],
   "source": [
    "clf = LogisticRegression() ## instantiate the model\n",
    "clf.fit(X,y) ## train the model"
   ]
  },
  {
   "cell_type": "markdown",
   "metadata": {
    "slideshow": {
     "slide_type": "subslide"
    }
   },
   "source": [
    "### Prediction"
   ]
  },
  {
   "cell_type": "markdown",
   "metadata": {
    "slideshow": {
     "slide_type": "fragment"
    }
   },
   "source": [
    "Predictions on new data can be obtained in two ways for a classifier:"
   ]
  },
  {
   "cell_type": "code",
   "execution_count": 35,
   "metadata": {
    "slideshow": {
     "slide_type": "fragment"
    }
   },
   "outputs": [
    {
     "ename": "AttributeError",
     "evalue": "'LogisticRegression' object has no attribute 'classes_'",
     "output_type": "error",
     "traceback": [
      "\u001b[0;31m---------------------------------------------------------------------------\u001b[0m",
      "\u001b[0;31mAttributeError\u001b[0m                            Traceback (most recent call last)",
      "Cell \u001b[0;32mIn[35], line 1\u001b[0m\n\u001b[0;32m----> 1\u001b[0m \u001b[43mclf\u001b[49m\u001b[38;5;241;43m.\u001b[39;49m\u001b[43mpredict_proba\u001b[49m\u001b[43m(\u001b[49m\u001b[43mX\u001b[49m\u001b[38;5;241;43m.\u001b[39;49m\u001b[43mhead\u001b[49m\u001b[43m(\u001b[49m\u001b[38;5;241;43m1\u001b[39;49m\u001b[43m)\u001b[49m\u001b[43m)\u001b[49m\n\u001b[1;32m      2\u001b[0m \u001b[38;5;28mprint\u001b[39m(\u001b[38;5;124m'\u001b[39m\u001b[38;5;124mPredicted probabilities\u001b[39m\u001b[38;5;124m'\u001b[39m, clf\u001b[38;5;241m.\u001b[39mpredict_proba(X\u001b[38;5;241m.\u001b[39mhead(\u001b[38;5;241m1\u001b[39m)))\n",
      "File \u001b[0;32m~/Desktop/DU IA & Santé/Fwd__Matériels_&_instructions_-_DU_IA_SANTE_05_02/venv_td/lib/python3.12/site-packages/sklearn/linear_model/_logistic.py:1425\u001b[0m, in \u001b[0;36mLogisticRegression.predict_proba\u001b[0;34m(self, X)\u001b[0m\n\u001b[1;32m   1396\u001b[0m \u001b[38;5;250m\u001b[39m\u001b[38;5;124;03m\"\"\"\u001b[39;00m\n\u001b[1;32m   1397\u001b[0m \u001b[38;5;124;03mProbability estimates.\u001b[39;00m\n\u001b[1;32m   1398\u001b[0m \n\u001b[0;32m   (...)\u001b[0m\n\u001b[1;32m   1419\u001b[0m \u001b[38;5;124;03m    where classes are ordered as they are in ``self.classes_``.\u001b[39;00m\n\u001b[1;32m   1420\u001b[0m \u001b[38;5;124;03m\"\"\"\u001b[39;00m\n\u001b[1;32m   1421\u001b[0m check_is_fitted(\u001b[38;5;28mself\u001b[39m)\n\u001b[1;32m   1423\u001b[0m ovr \u001b[38;5;241m=\u001b[39m \u001b[38;5;28mself\u001b[39m\u001b[38;5;241m.\u001b[39mmulti_class \u001b[38;5;129;01min\u001b[39;00m [\u001b[38;5;124m\"\u001b[39m\u001b[38;5;124movr\u001b[39m\u001b[38;5;124m\"\u001b[39m, \u001b[38;5;124m\"\u001b[39m\u001b[38;5;124mwarn\u001b[39m\u001b[38;5;124m\"\u001b[39m] \u001b[38;5;129;01mor\u001b[39;00m (\n\u001b[1;32m   1424\u001b[0m     \u001b[38;5;28mself\u001b[39m\u001b[38;5;241m.\u001b[39mmulti_class \u001b[38;5;129;01min\u001b[39;00m [\u001b[38;5;124m\"\u001b[39m\u001b[38;5;124mauto\u001b[39m\u001b[38;5;124m\"\u001b[39m, \u001b[38;5;124m\"\u001b[39m\u001b[38;5;124mdeprecated\u001b[39m\u001b[38;5;124m\"\u001b[39m]\n\u001b[0;32m-> 1425\u001b[0m     \u001b[38;5;129;01mand\u001b[39;00m (\u001b[38;5;28;43mself\u001b[39;49m\u001b[38;5;241;43m.\u001b[39;49m\u001b[43mclasses_\u001b[49m\u001b[38;5;241m.\u001b[39msize \u001b[38;5;241m<\u001b[39m\u001b[38;5;241m=\u001b[39m \u001b[38;5;241m2\u001b[39m \u001b[38;5;129;01mor\u001b[39;00m \u001b[38;5;28mself\u001b[39m\u001b[38;5;241m.\u001b[39msolver \u001b[38;5;241m==\u001b[39m \u001b[38;5;124m\"\u001b[39m\u001b[38;5;124mliblinear\u001b[39m\u001b[38;5;124m\"\u001b[39m)\n\u001b[1;32m   1426\u001b[0m )\n\u001b[1;32m   1427\u001b[0m \u001b[38;5;28;01mif\u001b[39;00m ovr:\n\u001b[1;32m   1428\u001b[0m     \u001b[38;5;28;01mreturn\u001b[39;00m \u001b[38;5;28msuper\u001b[39m()\u001b[38;5;241m.\u001b[39m_predict_proba_lr(X)\n",
      "\u001b[0;31mAttributeError\u001b[0m: 'LogisticRegression' object has no attribute 'classes_'"
     ]
    }
   ],
   "source": [
    "clf.predict_proba(X.head(1))\n",
    "print('Predicted probabilities', clf.predict_proba(X.head(1)))"
   ]
  },
  {
   "cell_type": "markdown",
   "metadata": {
    "slideshow": {
     "slide_type": "fragment"
    }
   },
   "source": [
    "- Obtain the predicted probability (or score) of each label using the `predict_proba()` method, which returns the estimated probabilities for each class.<br>\n",
    "    - The first element of the list corresponds to $\\hat P(Y=0|X) = 0.975$, that is the estimated probability that the patient survives. <br>\n",
    "    - The second element corresponds to the probability that the $\\hat P(Y=1|X) = 1-\\hat P(Y=0|X) = 0.025$, corresponding to the estimated probability that the patient dies in ICU."
   ]
  },
  {
   "cell_type": "code",
   "execution_count": 36,
   "metadata": {
    "slideshow": {
     "slide_type": "subslide"
    }
   },
   "outputs": [
    {
     "ename": "ValueError",
     "evalue": "could not convert string to float: 'M'",
     "output_type": "error",
     "traceback": [
      "\u001b[0;31m---------------------------------------------------------------------------\u001b[0m",
      "\u001b[0;31mValueError\u001b[0m                                Traceback (most recent call last)",
      "Cell \u001b[0;32mIn[36], line 1\u001b[0m\n\u001b[0;32m----> 1\u001b[0m \u001b[43mclf\u001b[49m\u001b[38;5;241;43m.\u001b[39;49m\u001b[43mpredict\u001b[49m\u001b[43m(\u001b[49m\u001b[43mX\u001b[49m\u001b[38;5;241;43m.\u001b[39;49m\u001b[43mhead\u001b[49m\u001b[43m(\u001b[49m\u001b[38;5;241;43m1\u001b[39;49m\u001b[43m)\u001b[49m\u001b[43m)\u001b[49m\n\u001b[1;32m      2\u001b[0m \u001b[38;5;28mprint\u001b[39m(\u001b[38;5;124m'\u001b[39m\u001b[38;5;124mPredicted target\u001b[39m\u001b[38;5;124m'\u001b[39m, clf\u001b[38;5;241m.\u001b[39mpredict(X\u001b[38;5;241m.\u001b[39mhead(\u001b[38;5;241m1\u001b[39m)))\n",
      "File \u001b[0;32m~/Desktop/DU IA & Santé/Fwd__Matériels_&_instructions_-_DU_IA_SANTE_05_02/venv_td/lib/python3.12/site-packages/sklearn/linear_model/_base.py:374\u001b[0m, in \u001b[0;36mLinearClassifierMixin.predict\u001b[0;34m(self, X)\u001b[0m\n\u001b[1;32m    360\u001b[0m \u001b[38;5;250m\u001b[39m\u001b[38;5;124;03m\"\"\"\u001b[39;00m\n\u001b[1;32m    361\u001b[0m \u001b[38;5;124;03mPredict class labels for samples in X.\u001b[39;00m\n\u001b[1;32m    362\u001b[0m \n\u001b[0;32m   (...)\u001b[0m\n\u001b[1;32m    371\u001b[0m \u001b[38;5;124;03m    Vector containing the class labels for each sample.\u001b[39;00m\n\u001b[1;32m    372\u001b[0m \u001b[38;5;124;03m\"\"\"\u001b[39;00m\n\u001b[1;32m    373\u001b[0m xp, _ \u001b[38;5;241m=\u001b[39m get_namespace(X)\n\u001b[0;32m--> 374\u001b[0m scores \u001b[38;5;241m=\u001b[39m \u001b[38;5;28;43mself\u001b[39;49m\u001b[38;5;241;43m.\u001b[39;49m\u001b[43mdecision_function\u001b[49m\u001b[43m(\u001b[49m\u001b[43mX\u001b[49m\u001b[43m)\u001b[49m\n\u001b[1;32m    375\u001b[0m \u001b[38;5;28;01mif\u001b[39;00m \u001b[38;5;28mlen\u001b[39m(scores\u001b[38;5;241m.\u001b[39mshape) \u001b[38;5;241m==\u001b[39m \u001b[38;5;241m1\u001b[39m:\n\u001b[1;32m    376\u001b[0m     indices \u001b[38;5;241m=\u001b[39m xp\u001b[38;5;241m.\u001b[39mastype(scores \u001b[38;5;241m>\u001b[39m \u001b[38;5;241m0\u001b[39m, indexing_dtype(xp))\n",
      "File \u001b[0;32m~/Desktop/DU IA & Santé/Fwd__Matériels_&_instructions_-_DU_IA_SANTE_05_02/venv_td/lib/python3.12/site-packages/sklearn/linear_model/_base.py:351\u001b[0m, in \u001b[0;36mLinearClassifierMixin.decision_function\u001b[0;34m(self, X)\u001b[0m\n\u001b[1;32m    348\u001b[0m check_is_fitted(\u001b[38;5;28mself\u001b[39m)\n\u001b[1;32m    349\u001b[0m xp, _ \u001b[38;5;241m=\u001b[39m get_namespace(X)\n\u001b[0;32m--> 351\u001b[0m X \u001b[38;5;241m=\u001b[39m \u001b[43mvalidate_data\u001b[49m\u001b[43m(\u001b[49m\u001b[38;5;28;43mself\u001b[39;49m\u001b[43m,\u001b[49m\u001b[43m \u001b[49m\u001b[43mX\u001b[49m\u001b[43m,\u001b[49m\u001b[43m \u001b[49m\u001b[43maccept_sparse\u001b[49m\u001b[38;5;241;43m=\u001b[39;49m\u001b[38;5;124;43m\"\u001b[39;49m\u001b[38;5;124;43mcsr\u001b[39;49m\u001b[38;5;124;43m\"\u001b[39;49m\u001b[43m,\u001b[49m\u001b[43m \u001b[49m\u001b[43mreset\u001b[49m\u001b[38;5;241;43m=\u001b[39;49m\u001b[38;5;28;43;01mFalse\u001b[39;49;00m\u001b[43m)\u001b[49m\n\u001b[1;32m    352\u001b[0m scores \u001b[38;5;241m=\u001b[39m safe_sparse_dot(X, \u001b[38;5;28mself\u001b[39m\u001b[38;5;241m.\u001b[39mcoef_\u001b[38;5;241m.\u001b[39mT, dense_output\u001b[38;5;241m=\u001b[39m\u001b[38;5;28;01mTrue\u001b[39;00m) \u001b[38;5;241m+\u001b[39m \u001b[38;5;28mself\u001b[39m\u001b[38;5;241m.\u001b[39mintercept_\n\u001b[1;32m    353\u001b[0m \u001b[38;5;28;01mreturn\u001b[39;00m (\n\u001b[1;32m    354\u001b[0m     xp\u001b[38;5;241m.\u001b[39mreshape(scores, (\u001b[38;5;241m-\u001b[39m\u001b[38;5;241m1\u001b[39m,))\n\u001b[1;32m    355\u001b[0m     \u001b[38;5;28;01mif\u001b[39;00m (scores\u001b[38;5;241m.\u001b[39mndim \u001b[38;5;241m>\u001b[39m \u001b[38;5;241m1\u001b[39m \u001b[38;5;129;01mand\u001b[39;00m scores\u001b[38;5;241m.\u001b[39mshape[\u001b[38;5;241m1\u001b[39m] \u001b[38;5;241m==\u001b[39m \u001b[38;5;241m1\u001b[39m)\n\u001b[1;32m    356\u001b[0m     \u001b[38;5;28;01melse\u001b[39;00m scores\n\u001b[1;32m    357\u001b[0m )\n",
      "File \u001b[0;32m~/Desktop/DU IA & Santé/Fwd__Matériels_&_instructions_-_DU_IA_SANTE_05_02/venv_td/lib/python3.12/site-packages/sklearn/utils/validation.py:2944\u001b[0m, in \u001b[0;36mvalidate_data\u001b[0;34m(_estimator, X, y, reset, validate_separately, skip_check_array, **check_params)\u001b[0m\n\u001b[1;32m   2942\u001b[0m         out \u001b[38;5;241m=\u001b[39m X, y\n\u001b[1;32m   2943\u001b[0m \u001b[38;5;28;01melif\u001b[39;00m \u001b[38;5;129;01mnot\u001b[39;00m no_val_X \u001b[38;5;129;01mand\u001b[39;00m no_val_y:\n\u001b[0;32m-> 2944\u001b[0m     out \u001b[38;5;241m=\u001b[39m \u001b[43mcheck_array\u001b[49m\u001b[43m(\u001b[49m\u001b[43mX\u001b[49m\u001b[43m,\u001b[49m\u001b[43m \u001b[49m\u001b[43minput_name\u001b[49m\u001b[38;5;241;43m=\u001b[39;49m\u001b[38;5;124;43m\"\u001b[39;49m\u001b[38;5;124;43mX\u001b[39;49m\u001b[38;5;124;43m\"\u001b[39;49m\u001b[43m,\u001b[49m\u001b[43m \u001b[49m\u001b[38;5;241;43m*\u001b[39;49m\u001b[38;5;241;43m*\u001b[39;49m\u001b[43mcheck_params\u001b[49m\u001b[43m)\u001b[49m\n\u001b[1;32m   2945\u001b[0m \u001b[38;5;28;01melif\u001b[39;00m no_val_X \u001b[38;5;129;01mand\u001b[39;00m \u001b[38;5;129;01mnot\u001b[39;00m no_val_y:\n\u001b[1;32m   2946\u001b[0m     out \u001b[38;5;241m=\u001b[39m _check_y(y, \u001b[38;5;241m*\u001b[39m\u001b[38;5;241m*\u001b[39mcheck_params)\n",
      "File \u001b[0;32m~/Desktop/DU IA & Santé/Fwd__Matériels_&_instructions_-_DU_IA_SANTE_05_02/venv_td/lib/python3.12/site-packages/sklearn/utils/validation.py:973\u001b[0m, in \u001b[0;36mcheck_array\u001b[0;34m(array, accept_sparse, accept_large_sparse, dtype, order, copy, force_writeable, force_all_finite, ensure_all_finite, ensure_non_negative, ensure_2d, allow_nd, ensure_min_samples, ensure_min_features, estimator, input_name)\u001b[0m\n\u001b[1;32m    968\u001b[0m \u001b[38;5;28;01mif\u001b[39;00m pandas_requires_conversion:\n\u001b[1;32m    969\u001b[0m     \u001b[38;5;66;03m# pandas dataframe requires conversion earlier to handle extension dtypes with\u001b[39;00m\n\u001b[1;32m    970\u001b[0m     \u001b[38;5;66;03m# nans\u001b[39;00m\n\u001b[1;32m    971\u001b[0m     \u001b[38;5;66;03m# Use the original dtype for conversion if dtype is None\u001b[39;00m\n\u001b[1;32m    972\u001b[0m     new_dtype \u001b[38;5;241m=\u001b[39m dtype_orig \u001b[38;5;28;01mif\u001b[39;00m dtype \u001b[38;5;129;01mis\u001b[39;00m \u001b[38;5;28;01mNone\u001b[39;00m \u001b[38;5;28;01melse\u001b[39;00m dtype\n\u001b[0;32m--> 973\u001b[0m     array \u001b[38;5;241m=\u001b[39m \u001b[43marray\u001b[49m\u001b[38;5;241;43m.\u001b[39;49m\u001b[43mastype\u001b[49m\u001b[43m(\u001b[49m\u001b[43mnew_dtype\u001b[49m\u001b[43m)\u001b[49m\n\u001b[1;32m    974\u001b[0m     \u001b[38;5;66;03m# Since we converted here, we do not need to convert again later\u001b[39;00m\n\u001b[1;32m    975\u001b[0m     dtype \u001b[38;5;241m=\u001b[39m \u001b[38;5;28;01mNone\u001b[39;00m\n",
      "File \u001b[0;32m~/Desktop/DU IA & Santé/Fwd__Matériels_&_instructions_-_DU_IA_SANTE_05_02/venv_td/lib/python3.12/site-packages/pandas/core/generic.py:6643\u001b[0m, in \u001b[0;36mNDFrame.astype\u001b[0;34m(self, dtype, copy, errors)\u001b[0m\n\u001b[1;32m   6637\u001b[0m     results \u001b[38;5;241m=\u001b[39m [\n\u001b[1;32m   6638\u001b[0m         ser\u001b[38;5;241m.\u001b[39mastype(dtype, copy\u001b[38;5;241m=\u001b[39mcopy, errors\u001b[38;5;241m=\u001b[39merrors) \u001b[38;5;28;01mfor\u001b[39;00m _, ser \u001b[38;5;129;01min\u001b[39;00m \u001b[38;5;28mself\u001b[39m\u001b[38;5;241m.\u001b[39mitems()\n\u001b[1;32m   6639\u001b[0m     ]\n\u001b[1;32m   6641\u001b[0m \u001b[38;5;28;01melse\u001b[39;00m:\n\u001b[1;32m   6642\u001b[0m     \u001b[38;5;66;03m# else, only a single dtype is given\u001b[39;00m\n\u001b[0;32m-> 6643\u001b[0m     new_data \u001b[38;5;241m=\u001b[39m \u001b[38;5;28;43mself\u001b[39;49m\u001b[38;5;241;43m.\u001b[39;49m\u001b[43m_mgr\u001b[49m\u001b[38;5;241;43m.\u001b[39;49m\u001b[43mastype\u001b[49m\u001b[43m(\u001b[49m\u001b[43mdtype\u001b[49m\u001b[38;5;241;43m=\u001b[39;49m\u001b[43mdtype\u001b[49m\u001b[43m,\u001b[49m\u001b[43m \u001b[49m\u001b[43mcopy\u001b[49m\u001b[38;5;241;43m=\u001b[39;49m\u001b[43mcopy\u001b[49m\u001b[43m,\u001b[49m\u001b[43m \u001b[49m\u001b[43merrors\u001b[49m\u001b[38;5;241;43m=\u001b[39;49m\u001b[43merrors\u001b[49m\u001b[43m)\u001b[49m\n\u001b[1;32m   6644\u001b[0m     res \u001b[38;5;241m=\u001b[39m \u001b[38;5;28mself\u001b[39m\u001b[38;5;241m.\u001b[39m_constructor_from_mgr(new_data, axes\u001b[38;5;241m=\u001b[39mnew_data\u001b[38;5;241m.\u001b[39maxes)\n\u001b[1;32m   6645\u001b[0m     \u001b[38;5;28;01mreturn\u001b[39;00m res\u001b[38;5;241m.\u001b[39m__finalize__(\u001b[38;5;28mself\u001b[39m, method\u001b[38;5;241m=\u001b[39m\u001b[38;5;124m\"\u001b[39m\u001b[38;5;124mastype\u001b[39m\u001b[38;5;124m\"\u001b[39m)\n",
      "File \u001b[0;32m~/Desktop/DU IA & Santé/Fwd__Matériels_&_instructions_-_DU_IA_SANTE_05_02/venv_td/lib/python3.12/site-packages/pandas/core/internals/managers.py:430\u001b[0m, in \u001b[0;36mBaseBlockManager.astype\u001b[0;34m(self, dtype, copy, errors)\u001b[0m\n\u001b[1;32m    427\u001b[0m \u001b[38;5;28;01melif\u001b[39;00m using_copy_on_write():\n\u001b[1;32m    428\u001b[0m     copy \u001b[38;5;241m=\u001b[39m \u001b[38;5;28;01mFalse\u001b[39;00m\n\u001b[0;32m--> 430\u001b[0m \u001b[38;5;28;01mreturn\u001b[39;00m \u001b[38;5;28;43mself\u001b[39;49m\u001b[38;5;241;43m.\u001b[39;49m\u001b[43mapply\u001b[49m\u001b[43m(\u001b[49m\n\u001b[1;32m    431\u001b[0m \u001b[43m    \u001b[49m\u001b[38;5;124;43m\"\u001b[39;49m\u001b[38;5;124;43mastype\u001b[39;49m\u001b[38;5;124;43m\"\u001b[39;49m\u001b[43m,\u001b[49m\n\u001b[1;32m    432\u001b[0m \u001b[43m    \u001b[49m\u001b[43mdtype\u001b[49m\u001b[38;5;241;43m=\u001b[39;49m\u001b[43mdtype\u001b[49m\u001b[43m,\u001b[49m\n\u001b[1;32m    433\u001b[0m \u001b[43m    \u001b[49m\u001b[43mcopy\u001b[49m\u001b[38;5;241;43m=\u001b[39;49m\u001b[43mcopy\u001b[49m\u001b[43m,\u001b[49m\n\u001b[1;32m    434\u001b[0m \u001b[43m    \u001b[49m\u001b[43merrors\u001b[49m\u001b[38;5;241;43m=\u001b[39;49m\u001b[43merrors\u001b[49m\u001b[43m,\u001b[49m\n\u001b[1;32m    435\u001b[0m \u001b[43m    \u001b[49m\u001b[43musing_cow\u001b[49m\u001b[38;5;241;43m=\u001b[39;49m\u001b[43musing_copy_on_write\u001b[49m\u001b[43m(\u001b[49m\u001b[43m)\u001b[49m\u001b[43m,\u001b[49m\n\u001b[1;32m    436\u001b[0m \u001b[43m\u001b[49m\u001b[43m)\u001b[49m\n",
      "File \u001b[0;32m~/Desktop/DU IA & Santé/Fwd__Matériels_&_instructions_-_DU_IA_SANTE_05_02/venv_td/lib/python3.12/site-packages/pandas/core/internals/managers.py:363\u001b[0m, in \u001b[0;36mBaseBlockManager.apply\u001b[0;34m(self, f, align_keys, **kwargs)\u001b[0m\n\u001b[1;32m    361\u001b[0m         applied \u001b[38;5;241m=\u001b[39m b\u001b[38;5;241m.\u001b[39mapply(f, \u001b[38;5;241m*\u001b[39m\u001b[38;5;241m*\u001b[39mkwargs)\n\u001b[1;32m    362\u001b[0m     \u001b[38;5;28;01melse\u001b[39;00m:\n\u001b[0;32m--> 363\u001b[0m         applied \u001b[38;5;241m=\u001b[39m \u001b[38;5;28;43mgetattr\u001b[39;49m\u001b[43m(\u001b[49m\u001b[43mb\u001b[49m\u001b[43m,\u001b[49m\u001b[43m \u001b[49m\u001b[43mf\u001b[49m\u001b[43m)\u001b[49m\u001b[43m(\u001b[49m\u001b[38;5;241;43m*\u001b[39;49m\u001b[38;5;241;43m*\u001b[39;49m\u001b[43mkwargs\u001b[49m\u001b[43m)\u001b[49m\n\u001b[1;32m    364\u001b[0m     result_blocks \u001b[38;5;241m=\u001b[39m extend_blocks(applied, result_blocks)\n\u001b[1;32m    366\u001b[0m out \u001b[38;5;241m=\u001b[39m \u001b[38;5;28mtype\u001b[39m(\u001b[38;5;28mself\u001b[39m)\u001b[38;5;241m.\u001b[39mfrom_blocks(result_blocks, \u001b[38;5;28mself\u001b[39m\u001b[38;5;241m.\u001b[39maxes)\n",
      "File \u001b[0;32m~/Desktop/DU IA & Santé/Fwd__Matériels_&_instructions_-_DU_IA_SANTE_05_02/venv_td/lib/python3.12/site-packages/pandas/core/internals/blocks.py:758\u001b[0m, in \u001b[0;36mBlock.astype\u001b[0;34m(self, dtype, copy, errors, using_cow, squeeze)\u001b[0m\n\u001b[1;32m    755\u001b[0m         \u001b[38;5;28;01mraise\u001b[39;00m \u001b[38;5;167;01mValueError\u001b[39;00m(\u001b[38;5;124m\"\u001b[39m\u001b[38;5;124mCan not squeeze with more than one column.\u001b[39m\u001b[38;5;124m\"\u001b[39m)\n\u001b[1;32m    756\u001b[0m     values \u001b[38;5;241m=\u001b[39m values[\u001b[38;5;241m0\u001b[39m, :]  \u001b[38;5;66;03m# type: ignore[call-overload]\u001b[39;00m\n\u001b[0;32m--> 758\u001b[0m new_values \u001b[38;5;241m=\u001b[39m \u001b[43mastype_array_safe\u001b[49m\u001b[43m(\u001b[49m\u001b[43mvalues\u001b[49m\u001b[43m,\u001b[49m\u001b[43m \u001b[49m\u001b[43mdtype\u001b[49m\u001b[43m,\u001b[49m\u001b[43m \u001b[49m\u001b[43mcopy\u001b[49m\u001b[38;5;241;43m=\u001b[39;49m\u001b[43mcopy\u001b[49m\u001b[43m,\u001b[49m\u001b[43m \u001b[49m\u001b[43merrors\u001b[49m\u001b[38;5;241;43m=\u001b[39;49m\u001b[43merrors\u001b[49m\u001b[43m)\u001b[49m\n\u001b[1;32m    760\u001b[0m new_values \u001b[38;5;241m=\u001b[39m maybe_coerce_values(new_values)\n\u001b[1;32m    762\u001b[0m refs \u001b[38;5;241m=\u001b[39m \u001b[38;5;28;01mNone\u001b[39;00m\n",
      "File \u001b[0;32m~/Desktop/DU IA & Santé/Fwd__Matériels_&_instructions_-_DU_IA_SANTE_05_02/venv_td/lib/python3.12/site-packages/pandas/core/dtypes/astype.py:237\u001b[0m, in \u001b[0;36mastype_array_safe\u001b[0;34m(values, dtype, copy, errors)\u001b[0m\n\u001b[1;32m    234\u001b[0m     dtype \u001b[38;5;241m=\u001b[39m dtype\u001b[38;5;241m.\u001b[39mnumpy_dtype\n\u001b[1;32m    236\u001b[0m \u001b[38;5;28;01mtry\u001b[39;00m:\n\u001b[0;32m--> 237\u001b[0m     new_values \u001b[38;5;241m=\u001b[39m \u001b[43mastype_array\u001b[49m\u001b[43m(\u001b[49m\u001b[43mvalues\u001b[49m\u001b[43m,\u001b[49m\u001b[43m \u001b[49m\u001b[43mdtype\u001b[49m\u001b[43m,\u001b[49m\u001b[43m \u001b[49m\u001b[43mcopy\u001b[49m\u001b[38;5;241;43m=\u001b[39;49m\u001b[43mcopy\u001b[49m\u001b[43m)\u001b[49m\n\u001b[1;32m    238\u001b[0m \u001b[38;5;28;01mexcept\u001b[39;00m (\u001b[38;5;167;01mValueError\u001b[39;00m, \u001b[38;5;167;01mTypeError\u001b[39;00m):\n\u001b[1;32m    239\u001b[0m     \u001b[38;5;66;03m# e.g. _astype_nansafe can fail on object-dtype of strings\u001b[39;00m\n\u001b[1;32m    240\u001b[0m     \u001b[38;5;66;03m#  trying to convert to float\u001b[39;00m\n\u001b[1;32m    241\u001b[0m     \u001b[38;5;28;01mif\u001b[39;00m errors \u001b[38;5;241m==\u001b[39m \u001b[38;5;124m\"\u001b[39m\u001b[38;5;124mignore\u001b[39m\u001b[38;5;124m\"\u001b[39m:\n",
      "File \u001b[0;32m~/Desktop/DU IA & Santé/Fwd__Matériels_&_instructions_-_DU_IA_SANTE_05_02/venv_td/lib/python3.12/site-packages/pandas/core/dtypes/astype.py:182\u001b[0m, in \u001b[0;36mastype_array\u001b[0;34m(values, dtype, copy)\u001b[0m\n\u001b[1;32m    179\u001b[0m     values \u001b[38;5;241m=\u001b[39m values\u001b[38;5;241m.\u001b[39mastype(dtype, copy\u001b[38;5;241m=\u001b[39mcopy)\n\u001b[1;32m    181\u001b[0m \u001b[38;5;28;01melse\u001b[39;00m:\n\u001b[0;32m--> 182\u001b[0m     values \u001b[38;5;241m=\u001b[39m \u001b[43m_astype_nansafe\u001b[49m\u001b[43m(\u001b[49m\u001b[43mvalues\u001b[49m\u001b[43m,\u001b[49m\u001b[43m \u001b[49m\u001b[43mdtype\u001b[49m\u001b[43m,\u001b[49m\u001b[43m \u001b[49m\u001b[43mcopy\u001b[49m\u001b[38;5;241;43m=\u001b[39;49m\u001b[43mcopy\u001b[49m\u001b[43m)\u001b[49m\n\u001b[1;32m    184\u001b[0m \u001b[38;5;66;03m# in pandas we don't store numpy str dtypes, so convert to object\u001b[39;00m\n\u001b[1;32m    185\u001b[0m \u001b[38;5;28;01mif\u001b[39;00m \u001b[38;5;28misinstance\u001b[39m(dtype, np\u001b[38;5;241m.\u001b[39mdtype) \u001b[38;5;129;01mand\u001b[39;00m \u001b[38;5;28missubclass\u001b[39m(values\u001b[38;5;241m.\u001b[39mdtype\u001b[38;5;241m.\u001b[39mtype, \u001b[38;5;28mstr\u001b[39m):\n",
      "File \u001b[0;32m~/Desktop/DU IA & Santé/Fwd__Matériels_&_instructions_-_DU_IA_SANTE_05_02/venv_td/lib/python3.12/site-packages/pandas/core/dtypes/astype.py:133\u001b[0m, in \u001b[0;36m_astype_nansafe\u001b[0;34m(arr, dtype, copy, skipna)\u001b[0m\n\u001b[1;32m    129\u001b[0m     \u001b[38;5;28;01mraise\u001b[39;00m \u001b[38;5;167;01mValueError\u001b[39;00m(msg)\n\u001b[1;32m    131\u001b[0m \u001b[38;5;28;01mif\u001b[39;00m copy \u001b[38;5;129;01mor\u001b[39;00m arr\u001b[38;5;241m.\u001b[39mdtype \u001b[38;5;241m==\u001b[39m \u001b[38;5;28mobject\u001b[39m \u001b[38;5;129;01mor\u001b[39;00m dtype \u001b[38;5;241m==\u001b[39m \u001b[38;5;28mobject\u001b[39m:\n\u001b[1;32m    132\u001b[0m     \u001b[38;5;66;03m# Explicit copy, or required since NumPy can't view from / to object.\u001b[39;00m\n\u001b[0;32m--> 133\u001b[0m     \u001b[38;5;28;01mreturn\u001b[39;00m \u001b[43marr\u001b[49m\u001b[38;5;241;43m.\u001b[39;49m\u001b[43mastype\u001b[49m\u001b[43m(\u001b[49m\u001b[43mdtype\u001b[49m\u001b[43m,\u001b[49m\u001b[43m \u001b[49m\u001b[43mcopy\u001b[49m\u001b[38;5;241;43m=\u001b[39;49m\u001b[38;5;28;43;01mTrue\u001b[39;49;00m\u001b[43m)\u001b[49m\n\u001b[1;32m    135\u001b[0m \u001b[38;5;28;01mreturn\u001b[39;00m arr\u001b[38;5;241m.\u001b[39mastype(dtype, copy\u001b[38;5;241m=\u001b[39mcopy)\n",
      "\u001b[0;31mValueError\u001b[0m: could not convert string to float: 'M'"
     ]
    }
   ],
   "source": [
    "clf.predict(X.head(1))\n",
    "print('Predicted target', clf.predict(X.head(1)))"
   ]
  },
  {
   "cell_type": "markdown",
   "metadata": {
    "slideshow": {
     "slide_type": "fragment"
    }
   },
   "source": [
    "- Predict the label directly using the `predict()` method, which returns the predicted class label based on the highest probability (or score) among all the classes. By default, sklearn models will use a threshold of 0.5 to get the labels. \n",
    "\n",
    "The predicted target is obtained by thresholding the predicted probability.\n",
    "$$\\hat Y = \n",
    "\\begin{cases}\n",
    "    0,& \\text{if } \\hat P(Y=0|X)\\geq 0.5\\\\\n",
    "    1,              & \\text{otherwise}\n",
    "\\end{cases}\n",
    "$$"
   ]
  },
  {
   "cell_type": "code",
   "execution_count": null,
   "metadata": {
    "scrolled": true,
    "slideshow": {
     "slide_type": "subslide"
    }
   },
   "outputs": [],
   "source": [
    "clf.predict_proba(X)"
   ]
  },
  {
   "cell_type": "markdown",
   "metadata": {
    "slideshow": {
     "slide_type": "subslide"
    }
   },
   "source": [
    "We will utilize synthetic data to demonstrate the specificities of the different algorithms. <br>\n",
    "The synthetic dataset created using one of the function provided by scikit-learn consists in **two classes**, represented by the *blue* and *orange* points. <br>Our objective is to identify the most effective classifier capable of accurately distinguishing between the two classes."
   ]
  },
  {
   "cell_type": "code",
   "execution_count": 33,
   "metadata": {
    "slideshow": {
     "slide_type": "skip"
    }
   },
   "outputs": [],
   "source": [
    "synthetic_dataset = make_circles(n_samples=500, noise=0.3, factor=0.2, random_state=32),\n",
    "\n",
    "X_synth = synthetic_dataset[0][0]\n",
    "y_synth = synthetic_dataset[0][1]\n",
    "\n",
    "X0, X1 = X_synth[:, 0], X_synth[:, 1]"
   ]
  },
  {
   "cell_type": "code",
   "execution_count": null,
   "metadata": {
    "slideshow": {
     "slide_type": "skip"
    }
   },
   "outputs": [],
   "source": [
    "# Function to create a meshgrid for visualization\n",
    "def make_meshgrid(x, y, h=0.02):\n",
    "\n",
    "    x_min, x_max = x.min() - 1, x.max() + 1\n",
    "    y_min, y_max = y.min() - 1, y.max() + 1\n",
    "    xx, yy = np.meshgrid(np.arange(x_min, x_max, h), np.arange(y_min, y_max, h))\n",
    "    return xx, yy\n",
    "\n",
    "xx, yy = make_meshgrid(X0, X1)\n",
    "\n",
    "def plot_contours(ax, clf, xx=xx, yy=yy, **params):\n",
    "\n",
    "    Z = clf.predict(np.c_[xx.ravel(), yy.ravel()])\n",
    "    Z = Z.reshape(xx.shape)\n",
    "    out = ax.contourf(xx, yy, Z, **params)\n",
    "    return out\n",
    "\n",
    "# Function to plot all components (data points and decision boundaries)\n",
    "def plot_all(model, X=X_synth, y=y_synth, xx=xx, yy=yy, figsize=(6,6), ax=None):\n",
    "    \n",
    "    if ax is None:\n",
    "        fig, ax = plt.subplots(1,1, figsize=figsize)\n",
    "    plot_contours(ax, model, xx, yy, cmap=plt.cm.coolwarm, alpha=0.8)\n",
    "    sns.scatterplot(x=X[:,0],y=X[:,1], hue=y, ax=ax, palette='deep')\n",
    "    \n",
    "# Function to plot the classification summary    \n",
    "def plot_classification_summary(clf, X, y, figsize=(24,6)):\n",
    "    \n",
    "    fig, ax = plt.subplots(1,3, figsize=figsize);\n",
    "    ax = ax.flatten()\n",
    "\n",
    "    sns.scatterplot(x=X[:,0],y=X[:,1], hue=y, ax=ax[0], palette='deep')\n",
    "\n",
    "    plot_all(clf, X=X, y=y, ax=ax[1])\n",
    "    ax[1].set_title('Data')\n",
    "\n",
    "    plot_cm(clf, X, y, ax=ax[2])\n",
    "    ax[2].set_title('Confusion matrix')\n",
    "    \n",
    "# Function to plot the confusion matrix    \n",
    "def plot_cm(clf, X, y, figsize=(7, 7), ax=None):\n",
    "    conf_matrix = confusion_matrix(y, clf.predict(X))\n",
    "    group_names = [\"True Negative\", \"False Positive\", \"False Negative\", \"True Positive\"]\n",
    "    group_counts = [f\"{value}\" for value in conf_matrix.flatten()]\n",
    "    labels = [f\"{v1}\\n{v2}\" for v1, v2 in zip(group_names, group_counts)]\n",
    "    labels = np.asarray(labels).reshape(2, 2)\n",
    "\n",
    "    if ax is None:\n",
    "        fig, ax = plt.subplots(figsize=figsize)\n",
    "    sns.heatmap(conf_matrix, annot=labels, fmt='',linewidths=2,linecolor='black', cmap='GnBu', cbar=False, ax=ax)\n",
    "    ax.set_ylabel('True label')\n",
    "    ax.set_xlabel('Predicted label')\n",
    "    plt.show()\n",
    "    return ax\n",
    "\n",
    "def plot_curves(models, X_train, y_train, X_test=None, y_test=None, curve_type='roc', figsize=(12, 8)):\n",
    "    \"\"\"\n",
    "    Plot ROC or calibration curves for training and testing data.\n",
    "\n",
    "    Parameters:\n",
    "        models: dict or estimator\n",
    "            Dictionary of models or a single estimator.\n",
    "        X_train: array-like or matrix, shape (n_samples, n_features)\n",
    "            Training samples.\n",
    "        y_train: array-like, shape (n_samples,)\n",
    "            True labels for training set.\n",
    "        X_test: array-like or matrix, shape (n_samples, n_features), optional (default=None)\n",
    "            Test samples.\n",
    "        y_test: array-like, shape (n_samples,), optional (default=None)\n",
    "            True labels for test set.\n",
    "        curve_type: str, optional (default='roc')\n",
    "            Type of curve to plot. Options: 'roc' or 'calibration'.\n",
    "        figsize: tuple, optional (default=(12, 8))\n",
    "            Width, height in inches.\n",
    "    \"\"\"\n",
    "    if X_test is None or y_test is None:\n",
    "        fig, ax = plt.subplots(figsize=figsize)\n",
    "        ax = [ax]\n",
    "        X = [X_train]\n",
    "        y = [y_train]\n",
    "        \n",
    "    else:\n",
    "        fig, ax = plt.subplots(1, 2, figsize=figsize)\n",
    "        X = [X_train, X_test]\n",
    "        y = [y_train, y_test]\n",
    "\n",
    "        ax = ax.flatten()\n",
    "\n",
    "    for i, (X_data, y_data) in enumerate(zip(X, y)):\n",
    "        if curve_type == 'roc':\n",
    "            display_random_line = True\n",
    "            if isinstance(models, dict):\n",
    "                for name, model in models.items():\n",
    "                    RocCurveDisplay.from_estimator(model, X_data, y_data, ax=ax[i], name=name)\n",
    "            else:\n",
    "                RocCurveDisplay.from_estimator(models, X_data, y_data, ax=ax[i])\n",
    "        elif curve_type == 'calibration':\n",
    "            display_random_line = False\n",
    "            for name, model in models.items() if isinstance(models, dict) else [(None, models)]:\n",
    "                prob_pos = model.predict_proba(X_data)[:, 1]\n",
    "                fraction_of_positives, mean_predicted_value = calibration_curve(y_data, prob_pos, n_bins=10)\n",
    "                ax[i].plot(mean_predicted_value, fraction_of_positives, \"s-\", label=\"%s\" % (name or \"\"))\n",
    "            ax[i].plot([0, 1], [0, 1], \"k:\", label=\"Perfectly calibrated\")\n",
    "\n",
    "        if display_random_line and curve_type == 'roc':\n",
    "            ax[i].plot([0, 1], [0, 1], \"k--\", label=\"Random Classifier (AUC = 0.5)\")\n",
    "\n",
    "        ax[i].set_ylabel(\"Fraction of positives\")\n",
    "        ax[i].legend(loc=\"lower right\")\n",
    "        if curve_type == 'roc':\n",
    "            ax[i].set_title('ROC curves')\n",
    "        elif curve_type == 'calibration':\n",
    "            ax[i].set_title(f'Calibration curve - {\"Training\" if i == 0 else \"Testing\"} data')\n",
    "\n",
    "    plt.tight_layout()\n",
    "    plt.show()"
   ]
  },
  {
   "cell_type": "markdown",
   "metadata": {
    "slideshow": {
     "slide_type": "fragment"
    },
    "tags": [
     "hide-input"
    ]
   },
   "source": [
    "![](https://github.com/AL0UNE/courses/blob/main/figures/Synth_data.png?raw=true)"
   ]
  },
  {
   "cell_type": "markdown",
   "metadata": {
    "slideshow": {
     "slide_type": "slide"
    }
   },
   "source": [
    "### LASSO (Logistic regression with L1 penalty)"
   ]
  },
  {
   "cell_type": "markdown",
   "metadata": {
    "slideshow": {
     "slide_type": "fragment"
    }
   },
   "source": [
    "- **Logistic Regression**: Predicts binary outcomes using a logistic (sigmoid) function.\n",
    "$$P(Y=1|X) = \\frac{1}{1 + e^{-(\\beta_0 + \\beta_1X_1 + \\ldots + \\beta_pX_p)}}$$<br>\n",
    "- **LASSO Regularization**:\n",
    "    - Penalizes the absolute magnitude of coefficients. $\\sum_{j=1}^{p} |\\beta_j|$\n",
    "    - Encourages sparsity by driving some coefficients to zero.\n",
    "    - Helps prevent overfitting and performs feature selection.\n",
    "    - Regularization term: $\\lambda \\sum_{j=1}^{p} |\\beta_j|$ where $\\lambda$ controls strength of regularization and $p$ is number of features."
   ]
  },
  {
   "cell_type": "code",
   "execution_count": null,
   "metadata": {
    "slideshow": {
     "slide_type": "subslide"
    }
   },
   "outputs": [],
   "source": [
    "clf_logistic = LogisticRegression(penalty='l1', solver='saga')\n",
    "clf_logistic.fit(X_synth,y_synth);"
   ]
  },
  {
   "cell_type": "markdown",
   "metadata": {
    "slideshow": {
     "slide_type": "fragment"
    },
    "tags": [
     "hide-input"
    ]
   },
   "source": [
    "![](https://github.com/AL0UNE/courses/blob/main/figures/Synth_data_lasso.png?raw=true)"
   ]
  },
  {
   "cell_type": "markdown",
   "metadata": {
    "slideshow": {
     "slide_type": "slide"
    }
   },
   "source": [
    "### Decision Tree for classification (Classification Tree)"
   ]
  },
  {
   "cell_type": "markdown",
   "metadata": {
    "slideshow": {
     "slide_type": "fragment"
    }
   },
   "source": [
    "- A classification tree is a hierarchical structure used for classification tasks.\n",
    "- It recursively partitions the feature space into regions, where each region corresponds to a specific class label.\n",
    "- It splits the feature space based on features' values, aiming to maximize some criterion. A common criterion for classification tasks is the gini score, a measure of homegeneity."
   ]
  },
  {
   "cell_type": "markdown",
   "metadata": {
    "slideshow": {
     "slide_type": "fragment"
    }
   },
   "source": [
    "Let's see on our example:"
   ]
  },
  {
   "cell_type": "markdown",
   "metadata": {
    "slideshow": {
     "slide_type": "subslide"
    },
    "tags": [
     "hide-input"
    ]
   },
   "source": [
    "![](https://github.com/AL0UNE/courses/blob/main/figures/Synth_data_dt_1.png?raw=true)"
   ]
  },
  {
   "cell_type": "markdown",
   "metadata": {
    "slideshow": {
     "slide_type": "subslide"
    },
    "tags": [
     "hide-input"
    ]
   },
   "source": [
    "![](https://github.com/AL0UNE/courses/blob/main/figures/Synth_data_dt_2.png?raw=true)"
   ]
  },
  {
   "cell_type": "markdown",
   "metadata": {
    "slideshow": {
     "slide_type": "subslide"
    },
    "tags": [
     "hide-input"
    ]
   },
   "source": [
    "![](https://github.com/AL0UNE/courses/blob/main/figures/Synth_data_dt_3.png?raw=true)"
   ]
  },
  {
   "cell_type": "markdown",
   "metadata": {
    "slideshow": {
     "slide_type": "slide"
    }
   },
   "source": [
    "### Random Forest"
   ]
  },
  {
   "cell_type": "markdown",
   "metadata": {
    "slideshow": {
     "slide_type": "fragment"
    }
   },
   "source": [
    "- **Random forests** are an **ensemble** learning method based on **decision trees**.\n",
    "- They build multiple decision trees and combine their predictions  - by voting or averaging - to improve accuracy.\n",
    "\n",
    "**Question**: How do we generate multiple decision trees using the same dataset?"
   ]
  },
  {
   "cell_type": "markdown",
   "metadata": {
    "slideshow": {
     "slide_type": "fragment"
    }
   },
   "source": [
    "To achieve diversity of trees within a random forest, two primary strategies are utilized:\n",
    "\n",
    "1. **Sample Sampling**: This involves resampling the dataset with replacement, known as **Bootstrap**, to create multiple variations of the dataset. Each decision tree is then built on one of these resampled datasets. The predictions from each tree are combined, often through averaging, in a process called **Bagging**."
   ]
  },
  {
   "cell_type": "markdown",
   "metadata": {
    "slideshow": {
     "slide_type": "subslide"
    },
    "tags": [
     "hide-input"
    ]
   },
   "source": [
    "![](https://github.com/AL0UNE/courses/blob/main/figures/Bootstrap.png?raw=true)"
   ]
  },
  {
   "cell_type": "markdown",
   "metadata": {
    "slideshow": {
     "slide_type": "subslide"
    }
   },
   "source": [
    "2. **Feature Sampling**: Diversity by randomly selecting a subset of features (without replacement) for each decision tree. This means that each tree is built using only a portion of the available features, adding further variety to the ensemble."
   ]
  },
  {
   "cell_type": "markdown",
   "metadata": {
    "slideshow": {
     "slide_type": "subslide"
    },
    "tags": [
     "hide-input"
    ]
   },
   "source": [
    "![](https://github.com/AL0UNE/courses/blob/main/figures/Random_forest.png?raw=true)"
   ]
  },
  {
   "cell_type": "markdown",
   "metadata": {
    "slideshow": {
     "slide_type": "subslide"
    }
   },
   "source": [
    "The random forest algorithm leverages both of these strategies to create an ensemble of diverse decision trees, which collectively provide more robust and accurate predictions."
   ]
  },
  {
   "cell_type": "code",
   "execution_count": null,
   "metadata": {
    "slideshow": {
     "slide_type": "subslide"
    }
   },
   "outputs": [],
   "source": [
    "clf_rf = RandomForestClassifier()\n",
    "clf_rf.fit(X_synth,y_synth);"
   ]
  },
  {
   "cell_type": "markdown",
   "metadata": {
    "slideshow": {
     "slide_type": "fragment"
    },
    "tags": [
     "hide-input"
    ]
   },
   "source": [
    "![](https://github.com/AL0UNE/courses/blob/main/figures/Synth_data_rf.png?raw=true)"
   ]
  },
  {
   "cell_type": "markdown",
   "metadata": {
    "slideshow": {
     "slide_type": "skip"
    }
   },
   "source": [
    "<div class=\"alert alert-block alert-info\">\n",
    "<b>Exercise:</b> \n",
    "\n",
    "- Try different values for the depth of each tree (`max_depth`) and number of trees in the forest (`n_estimators`) and observe how it affects the classification result.\n",
    "- Which values would you choose?\n",
    "</div>"
   ]
  },
  {
   "cell_type": "code",
   "execution_count": null,
   "metadata": {
    "slideshow": {
     "slide_type": "skip"
    }
   },
   "outputs": [],
   "source": [
    "clf_rf = RandomForestClassifier(max_depth =..., n_estimators =...)\n",
    "clf_rf.fit(X_synth,y_synth);\n",
    "plot_all(model=clf_rf)"
   ]
  },
  {
   "cell_type": "markdown",
   "metadata": {
    "slideshow": {
     "slide_type": "slide"
    }
   },
   "source": [
    "## Model optimization\n",
    "\n",
    "Model optimization (or hyperparameter tuning) consists in fine-tuning the hyperparameters of your model to best fit your data in order to improve performances. It is essential to understand both:\n",
    "- the tunable aspects of a model.\n",
    "- the techniques for choosing the most suitable parameter values."
   ]
  },
  {
   "cell_type": "markdown",
   "metadata": {
    "slideshow": {
     "slide_type": "subslide"
    }
   },
   "source": [
    "### 1.Model parameters\n",
    "Each model has a certain level of complexity that can be adjusted by tuning its *hyperparameters*.\n",
    "\n",
    "- **[LASSO](https://scikit-learn.org/stable/modules/generated/sklearn.linear_model.LogisticRegression.html)** :\n",
    "    - Parameter `C` that controls the penalization value imposed on the coefficients. In scikit learn a smaller value of `C` indicates higher penalization.\n",
    "- **[Decision tree](https://scikit-learn.org/stable/modules/generated/sklearn.tree.DecisionTreeClassifier.html)**:\n",
    "    - Maximum depth a tree can reach: `max_depth`\n",
    "     \n",
    "- **[Random Forest](https://scikit-learn.org/stable/modules/generated/sklearn.ensemble.RandomForestClassifier.html)**:\n",
    "    - Number of trees in the forest: `n_estimators`\n",
    "    - Number of features selected to construct a tree: `max_features`\n"
   ]
  },
  {
   "cell_type": "markdown",
   "metadata": {
    "slideshow": {
     "slide_type": "subslide"
    }
   },
   "source": [
    "### 2. Model Evaluation Metrics\n",
    "\n",
    "To quantify the predictive performance of a model, it is essential to utilize appropriate evaluation metrics. Several metrics have been developed, tailored to different types of outcomes of interest. For more information on different evaluation metrics, please refer to the dedicated [scikit-learn webpage](https://scikit-learn.org/stable/modules/model_evaluation.html)."
   ]
  },
  {
   "cell_type": "markdown",
   "metadata": {
    "slideshow": {
     "slide_type": "fragment"
    }
   },
   "source": [
    "For binary classification, we have metrics such as *accuracy*, *specificity*, *sensitivity*, those different metrics can be derived from the **confusion matrix**."
   ]
  },
  {
   "cell_type": "code",
   "execution_count": null,
   "metadata": {
    "slideshow": {
     "slide_type": "skip"
    }
   },
   "outputs": [],
   "source": [
    "clf = LogisticRegression()\n",
    "clf.fit(X_synth, y_synth)\n",
    "cf_matrix = confusion_matrix(y_synth, clf.predict(X_synth))"
   ]
  },
  {
   "cell_type": "code",
   "execution_count": null,
   "metadata": {
    "slideshow": {
     "slide_type": "subslide"
    }
   },
   "outputs": [],
   "source": [
    "plot_cm(clf, X_synth, y_synth, figsize=(5,5));"
   ]
  },
  {
   "cell_type": "markdown",
   "metadata": {
    "slideshow": {
     "slide_type": "fragment"
    }
   },
   "source": [
    "**Accuracy**, fractions of correctly classified observations:    $\\frac{TP+TN}{TP+TN+FN+FP}$ to estimate $\\mathbb P(\\hat Y = Y)$\n",
    "\n",
    "**Sensitivity**, proportion of observations from the positive class correctly classified:   $\\frac{TP}{TP+FN}$ to estimate $\\mathbb P(\\hat Y = 1 \\mid Y = 1)$\n",
    "\n",
    "**Specificity**, proportion of observations from the negative class correctly classified:   $\\frac{TN}{TN+FP}$ to estimate $\\mathbb P(\\hat Y = 0 \\mid Y = 0)$"
   ]
  },
  {
   "cell_type": "markdown",
   "metadata": {
    "slideshow": {
     "slide_type": "subslide"
    }
   },
   "source": [
    "You can also directly compute the accuracy using functions provided by the scikit-learn library."
   ]
  },
  {
   "cell_type": "code",
   "execution_count": null,
   "metadata": {
    "slideshow": {
     "slide_type": "fragment"
    }
   },
   "outputs": [],
   "source": [
    "from sklearn.metrics import accuracy_score"
   ]
  },
  {
   "cell_type": "code",
   "execution_count": null,
   "metadata": {
    "slideshow": {
     "slide_type": "fragment"
    }
   },
   "outputs": [],
   "source": [
    "y_pred = clf.predict(X_synth) ## get the predictions\n",
    "accuracy_score(y_true=y_synth, y_pred=y_pred) ## compute the accuracy"
   ]
  },
  {
   "cell_type": "code",
   "execution_count": null,
   "metadata": {
    "slideshow": {
     "slide_type": "skip"
    }
   },
   "outputs": [],
   "source": [
    "synthetic_dataset = make_circles(n_samples=(450,25), noise=0.3, factor=0.2, random_state=32),\n",
    "\n",
    "X_synth_imb = synthetic_dataset[0][0]\n",
    "y_synth_imb = synthetic_dataset[0][1]"
   ]
  },
  {
   "cell_type": "markdown",
   "metadata": {
    "slideshow": {
     "slide_type": "subslide"
    }
   },
   "source": [
    "However, it is important to exercise caution when relying solely on one metric, such as *accuracy*, as they can sometimes be misleading."
   ]
  },
  {
   "cell_type": "code",
   "execution_count": null,
   "metadata": {
    "slideshow": {
     "slide_type": "skip"
    }
   },
   "outputs": [],
   "source": [
    "from sklearn.dummy import DummyClassifier\n",
    "\n",
    "dummy_clf = DummyClassifier(strategy=\"most_frequent\")\n",
    "dummy_clf.fit(X_synth_imb, y_synth_imb);"
   ]
  },
  {
   "cell_type": "code",
   "execution_count": null,
   "metadata": {
    "slideshow": {
     "slide_type": "fragment"
    },
    "tags": [
     "hide-input"
    ]
   },
   "outputs": [],
   "source": [
    "plot_classification_summary(dummy_clf, X_synth_imb, y_synth_imb, figsize=(25,8))"
   ]
  },
  {
   "cell_type": "code",
   "execution_count": null,
   "metadata": {
    "slideshow": {
     "slide_type": "fragment"
    }
   },
   "outputs": [],
   "source": [
    "accuracy_score(y_true=y_synth_imb, y_pred=dummy_clf.predict(X_synth_imb))"
   ]
  },
  {
   "cell_type": "markdown",
   "metadata": {
    "slideshow": {
     "slide_type": "subslide"
    }
   },
   "source": [
    "While **accuracy** is a straightforward metric to interpret, it presents some limitations:\n",
    "\n",
    "- it is not well-suited for evaluating models on imbalanced datasets, which are commonly encountered in medical data. When the classes are imbalanced, a model that always predicts the majority class can achieve a high accuracy but may not perform well in identifying the minority class.\n",
    "- it solely relies on the hard predictions of the model obtained by fixing a threshold (generally 0.5) and does not consider the probabilities assigned to each class."
   ]
  },
  {
   "cell_type": "markdown",
   "metadata": {
    "slideshow": {
     "slide_type": "subslide"
    }
   },
   "source": [
    "- **Lowering the Classification Threshold (Increasing Sensitivity):**\n",
    "\n",
    "Lowering the classification threshold can help identify more true positives but will lead to more false positives. This approach prioritizes sensitivity, ensuring that fewer cases of the disease go undetected.<br><br>"
   ]
  },
  {
   "cell_type": "markdown",
   "metadata": {
    "slideshow": {
     "slide_type": "subslide"
    }
   },
   "source": [
    "- **Increasing the Classification Threshold (Increasing Specificity):**\n",
    "\n",
    "By prioritizing specificity (i.e. increasing the classification threshold) the model aims to minimize false positives, ensuring that patients flagged as positive are more likely to have the disease.<br><br>"
   ]
  },
  {
   "cell_type": "markdown",
   "metadata": {
    "slideshow": {
     "slide_type": "fragment"
    }
   },
   "source": [
    "In such scenarios, alternative evaluation metrics, that provide a more comprehensive understanding of the model performance should be explored. Let's see one of them:<br>"
   ]
  },
  {
   "cell_type": "code",
   "execution_count": null,
   "metadata": {
    "slideshow": {
     "slide_type": "skip"
    }
   },
   "outputs": [],
   "source": [
    "perfect_clf = RandomForestClassifier()\n",
    "perfect_clf.fit(X, y)\n",
    "good_clf = RandomForestClassifier(n_estimators=100, max_depth=8)\n",
    "good_clf.fit(X, y)\n",
    "average_clf = LogisticRegression()\n",
    "average_clf.fit(X, y)\n",
    "\n",
    "roc_models = {\n",
    "    \"Perfect classifier\": perfect_clf,\n",
    "    \"Good classifier\": good_clf,\n",
    "    \"Average classifier\": average_clf\n",
    "}"
   ]
  },
  {
   "cell_type": "markdown",
   "metadata": {
    "slideshow": {
     "slide_type": "subslide"
    }
   },
   "source": [
    "The **Receiver Operating Characteristic (ROC)** curve is obtained by plotting the *true positive rate (sensitivity)* against the *false positive rate (1-specificity)* at various thresholds. The ROC curve represents the ability of a model to discriminate between the two class."
   ]
  },
  {
   "cell_type": "code",
   "execution_count": null,
   "metadata": {
    "slideshow": {
     "slide_type": "fragment"
    }
   },
   "outputs": [],
   "source": [
    "plot_curves(roc_models, X, y)"
   ]
  },
  {
   "cell_type": "markdown",
   "metadata": {
    "slideshow": {
     "slide_type": "subslide"
    }
   },
   "source": [
    "The associated metric, the **ROC - Area Under the Curve (AUC)**, is a value that represents the discrimination of the model across all possible probability thresholds. It ranges from 0 to 1, with a higher value indicating better discrimination ability. \n",
    "\n",
    "The **ROC-AUC** can also be interpreted as the probability that, for two randomly chosen pairs of positive and negative observations, the model's score for the positive sample is higher than that for the negative sample. "
   ]
  },
  {
   "cell_type": "markdown",
   "metadata": {
    "slideshow": {
     "slide_type": "fragment"
    }
   },
   "source": [
    "Calculating the ROC-AUC is straightforward using the `roc_auc_score` function. To compute it, you need to provide the true labels and predicted probabilities."
   ]
  },
  {
   "cell_type": "code",
   "execution_count": null,
   "metadata": {
    "slideshow": {
     "slide_type": "fragment"
    }
   },
   "outputs": [],
   "source": [
    "from sklearn.metrics import roc_auc_score"
   ]
  },
  {
   "cell_type": "code",
   "execution_count": null,
   "metadata": {
    "slideshow": {
     "slide_type": "fragment"
    }
   },
   "outputs": [],
   "source": [
    "y_pred_proba = clf_rf.predict_proba(X_synth)[:,1] ## here we keep for each patient the predicted probabilities of dying.\n",
    "roc_auc_score(y_true=y_synth, y_score=y_pred_proba)"
   ]
  },
  {
   "cell_type": "markdown",
   "metadata": {
    "slideshow": {
     "slide_type": "subslide"
    }
   },
   "source": [
    "Now that we understand which parameters to tune and how to evaluate the performance of a model, we can now perform hyperparameter tuning and select the optimal values for each model."
   ]
  },
  {
   "cell_type": "code",
   "execution_count": null,
   "metadata": {
    "slideshow": {
     "slide_type": "fragment"
    }
   },
   "outputs": [],
   "source": [
    "## Define a grid of values  \n",
    "C_values = [0.0001, 0.001, 0.01, 0.1, 1, 10]\n",
    "## Define a dict to keep track of the different performance values\n",
    "lasso_score = {}\n",
    "## loop over each potential value and compute the corresponding performance\n",
    "for k in C_values:\n",
    "    ## instantiate a model with a specific value\n",
    "    clf = LogisticRegression(penalty='l1', C=k, solver='saga', max_iter=500) \n",
    "    ## train the model\n",
    "    clf.fit(X,y) \n",
    "    ## compute the performance\n",
    "    lasso_score[\"C = \" +str(k)] = roc_auc_score(y, clf.predict_proba(X)[:,1]) "
   ]
  },
  {
   "cell_type": "code",
   "execution_count": null,
   "metadata": {
    "slideshow": {
     "slide_type": "fragment"
    }
   },
   "outputs": [],
   "source": [
    "pd.Series(lasso_score)"
   ]
  },
  {
   "cell_type": "markdown",
   "metadata": {
    "slideshow": {
     "slide_type": "notes"
    }
   },
   "source": [
    "<div class=\"alert alert-block alert-info\">\n",
    "<b>Exercise:</b> \n",
    "\n",
    "- Similar to the lasso algorithm, tune the different parameters for the decision tree and random forest algorithm using the roc-auc.\n",
    "- Compare with the parameters obtained when using the accuracy instead.\n",
    "</div>"
   ]
  },
  {
   "cell_type": "code",
   "execution_count": null,
   "metadata": {
    "slideshow": {
     "slide_type": "subslide"
    }
   },
   "outputs": [],
   "source": []
  },
  {
   "cell_type": "code",
   "execution_count": null,
   "metadata": {
    "slideshow": {
     "slide_type": "fragment"
    }
   },
   "outputs": [],
   "source": []
  },
  {
   "cell_type": "code",
   "execution_count": null,
   "metadata": {
    "slideshow": {
     "slide_type": "subslide"
    }
   },
   "outputs": [],
   "source": []
  },
  {
   "cell_type": "code",
   "execution_count": null,
   "metadata": {
    "slideshow": {
     "slide_type": "fragment"
    }
   },
   "outputs": [],
   "source": []
  },
  {
   "cell_type": "markdown",
   "metadata": {
    "slideshow": {
     "slide_type": "subslide"
    }
   },
   "source": [
    "After finding the optimal value for each model parameter, we can train the model one final time."
   ]
  },
  {
   "cell_type": "code",
   "execution_count": null,
   "metadata": {
    "slideshow": {
     "slide_type": "fragment"
    }
   },
   "outputs": [],
   "source": [
    "models = {\n",
    "    'LASSO': LogisticRegression(penalty='l1', C=..., solver=\"saga\", max_iter=500),\n",
    "    'Decision Tree': DecisionTreeClassifier(max_depth=...),\n",
    "    'Random Forest': RandomForestClassifier(n_estimators=...)    \n",
    "}\n",
    "for m in models.values():\n",
    "    m.fit(X, y)"
   ]
  },
  {
   "cell_type": "markdown",
   "metadata": {
    "slideshow": {
     "slide_type": "slide"
    }
   },
   "source": [
    "### Discrimination"
   ]
  },
  {
   "cell_type": "code",
   "execution_count": null,
   "metadata": {
    "slideshow": {
     "slide_type": "subslide"
    }
   },
   "outputs": [],
   "source": [
    "plot_curves(models, X, y)"
   ]
  },
  {
   "cell_type": "markdown",
   "metadata": {
    "slideshow": {
     "slide_type": "subslide"
    }
   },
   "source": [
    "### Calibration"
   ]
  },
  {
   "cell_type": "markdown",
   "metadata": {
    "slideshow": {
     "slide_type": "fragment"
    }
   },
   "source": [
    "Another thing to consider is the *calibration* of the model. \n",
    "<br>*Calibration* indicates if the predicted probabilities of a model align with the actual probabilities or outcomes observed in the data. In other words, a calibrated model accurately estimates the likelihood or confidence of a certain event occurring.<br>"
   ]
  },
  {
   "cell_type": "markdown",
   "metadata": {
    "slideshow": {
     "slide_type": "fragment"
    }
   },
   "source": [
    "For example, when a model is well-calibrated, it means that if the model predicts a probability of 0.8 for an event, the event is expected to occur approximately 80% of the time for patients with the same predicted probability."
   ]
  },
  {
   "cell_type": "code",
   "execution_count": null,
   "metadata": {
    "slideshow": {
     "slide_type": "subslide"
    }
   },
   "outputs": [],
   "source": [
    "plot_curves(models, X, y, curve_type='calibration')"
   ]
  },
  {
   "cell_type": "markdown",
   "metadata": {
    "slideshow": {
     "slide_type": "slide"
    }
   },
   "source": [
    "## Model validation\n",
    "\n",
    "Assessing the performances of a model on the training set is usually unreliable (optimism bias). It is important to use a dataset unseen during the training of the model to measure the performances. Evaluating a model on new data helps us assess if they can make accurate predictions beyond the training data. This step is crucial to ensure that the models have learnt relevant pattern in the data and can perform effectively on new patients."
   ]
  },
  {
   "cell_type": "markdown",
   "metadata": {
    "slideshow": {
     "slide_type": "fragment"
    }
   },
   "source": [
    "Let's load a new set of observations and see how well our different models do."
   ]
  },
  {
   "cell_type": "code",
   "execution_count": null,
   "metadata": {
    "slideshow": {
     "slide_type": "fragment"
    }
   },
   "outputs": [],
   "source": [
    "df_test = pd.read_csv('icu_testing.csv', index_col=0)\n",
    "df_test.head()"
   ]
  },
  {
   "cell_type": "markdown",
   "metadata": {
    "slideshow": {
     "slide_type": "subslide"
    }
   },
   "source": [
    "We have to make sure that the new data are in the same format and scale as the one used for training the model."
   ]
  },
  {
   "cell_type": "markdown",
   "metadata": {
    "slideshow": {
     "slide_type": "skip"
    }
   },
   "source": [
    "<div class=\"alert alert-block alert-info\">\n",
    "<b>Exercise:</b> \n",
    "\n",
    "- Similar to to training data, apply the same preprocessing steps to the testing data.\n",
    "</div>"
   ]
  },
  {
   "cell_type": "code",
   "execution_count": null,
   "metadata": {
    "slideshow": {
     "slide_type": "fragment"
    }
   },
   "outputs": [],
   "source": [
    "df_test['height'].fillna(...)\n",
    "\n",
    "df_test['gender'] = \n",
    "df_test['first_icu_stay'] = \n",
    "df_test['CURR_CAREUNIT_transfers'] = \n",
    "df_test['BMI'] = "
   ]
  },
  {
   "cell_type": "code",
   "execution_count": null,
   "metadata": {
    "slideshow": {
     "slide_type": "fragment"
    }
   },
   "outputs": [],
   "source": [
    "X_test = df_test[X.columns]\n",
    "y_test = df_test['hospital_mortality']\n",
    "X_test = (X_test-train_mean)/train_std ## Standardize using statistics from the training set."
   ]
  },
  {
   "cell_type": "markdown",
   "metadata": {
    "slideshow": {
     "slide_type": "slide"
    }
   },
   "source": [
    "<div class=\"alert alert-block alert-info\">\n",
    "<b>Assignment:</b> \n",
    "\n",
    "    \n",
    "- Explore the notebook by running the different cells, doing the exercices, and familiarize yourself with the various topics covered today.\n",
    "- Evaluate your models on the testing data and comment for each model how the performances change between the training and testing data.\n",
    "- Reflect on your findings and consider the implications for the models' generalization ability.\n",
    "    \n",
    "</div>"
   ]
  },
  {
   "cell_type": "code",
   "execution_count": null,
   "metadata": {
    "slideshow": {
     "slide_type": "subslide"
    }
   },
   "outputs": [],
   "source": [
    "plot_curves(models, X, y, X_test, y_test, figsize = (24, 9))"
   ]
  },
  {
   "cell_type": "code",
   "execution_count": null,
   "metadata": {
    "slideshow": {
     "slide_type": "subslide"
    }
   },
   "outputs": [],
   "source": [
    "plot_curves(models, X, y, X_test, y_test, curve_type='calibration', figsize = (24, 9))"
   ]
  }
 ],
 "metadata": {
  "celltoolbar": "Diaporama",
  "colab": {
   "name": "TP_DU_IA_SANTE_jupyter.ipynb",
   "provenance": []
  },
  "kernelspec": {
   "display_name": "venv_td",
   "language": "python",
   "name": "python3"
  },
  "language_info": {
   "codemirror_mode": {
    "name": "ipython",
    "version": 3
   },
   "file_extension": ".py",
   "mimetype": "text/x-python",
   "name": "python",
   "nbconvert_exporter": "python",
   "pygments_lexer": "ipython3",
   "version": "3.12.3"
  }
 },
 "nbformat": 4,
 "nbformat_minor": 1
}
